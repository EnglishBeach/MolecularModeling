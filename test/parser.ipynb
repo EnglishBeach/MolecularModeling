{
 "cells": [
  {
   "cell_type": "code",
   "execution_count": 1,
   "metadata": {},
   "outputs": [],
   "source": [
    "import sys\n",
    "sys.path.insert(0,'..')"
   ]
  },
  {
   "cell_type": "code",
   "execution_count": 2,
   "metadata": {},
   "outputs": [],
   "source": [
    "import re\n",
    "import numpy as np\n",
    "from tempfile import TemporaryDirectory\n",
    "from pathlib import Path\n",
    "import os\n",
    "from base import Mols\n",
    "import time"
   ]
  },
  {
   "cell_type": "markdown",
   "metadata": {},
   "source": [
    "gmx msd \\\n",
    "-mol \\\n",
    "-f traj.xtc \\\n",
    "-s box.gro "
   ]
  },
  {
   "cell_type": "code",
   "execution_count": 31,
   "metadata": {},
   "outputs": [],
   "source": [
    "def read_xvg(xvg_path):\n",
    "    with open(xvg_path) as file:\n",
    "        data = file.readlines()\n",
    "    D_pattern = r'D\\[\\s*(?P<name>\\w+)\\s*\\] = (?P<value>[\\d\\.]+)\\s*\\(\\+\\/\\- (?P<var>.+)\\s*\\)\\s*\\(\\s*(?P<unit>.+)\\s*\\)'\n",
    "    time_pattern = r'fitted from time\\s(?P<start>\\d+)\\s*to\\s*(?P<end>\\d+).*'\n",
    "\n",
    "    result = {}\n",
    "    MSD = []\n",
    "    D_flag = False\n",
    "    for line in data:\n",
    "        D_line = re.search(\n",
    "            string=line,\n",
    "            pattern=D_pattern,\n",
    "        )\n",
    "        MSD_line = re.search(\n",
    "            string=line,\n",
    "            pattern=r'\\s*(?P<time>\\d+)\\s*(?P<MSD>[\\d\\.]+).*',\n",
    "        )\n",
    "        fit = re.search(\n",
    "            string=line,\n",
    "            pattern=time_pattern,\n",
    "        )\n",
    "        if D_line:\n",
    "            result['name'] = D_line.group('name')\n",
    "            result['D'] = float(D_line.group('value'))\n",
    "            result['Dvar'] = float(D_line.group('var'))\n",
    "            result['name'] = D_line.group('name')\n",
    "            value = D_line.group('unit')\n",
    "            scale, unit = [part.strip() for part in value.split(' ')]\n",
    "            result['scale'] = float(scale)\n",
    "            result['unit'] = unit\n",
    "\n",
    "            D_flag = True\n",
    "\n",
    "        elif MSD_line and D_flag:\n",
    "            time, msd = MSD_line.groups()\n",
    "            MSD.append((int(time), float(msd)))\n",
    "        elif fit:\n",
    "            result['start'] = float(fit.group('start'))\n",
    "            result['end'] = float(fit.group('end'))\n",
    "\n",
    "    MSD = np.array(MSD)\n",
    "    return result, MSD"
   ]
  },
  {
   "cell_type": "code",
   "execution_count": 43,
   "metadata": {},
   "outputs": [
    {
     "name": "stderr",
     "output_type": "stream",
     "text": [
      "Reading file /home/base/Work_wsl/MolecularModeling/test/system.tpr, VERSION 2021.4-Ubuntu-2021.4-2 (single precision)\n",
      "Reading file /home/base/Work_wsl/MolecularModeling/test/system.tpr, VERSION 2021.4-Ubuntu-2021.4-2 (single precision)\n",
      "Analyzed topology coordinates\n",
      "Reading file /home/base/Work_wsl/MolecularModeling/test/system.tpr, VERSION 2021.4-Ubuntu-2021.4-2 (single precision)\n",
      "Reading file /home/base/Work_wsl/MolecularModeling/test/system.tpr, VERSION 2021.4-Ubuntu-2021.4-2 (single precision)\n",
      "\n",
      "Select a group to calculate mean squared displacement for:\n",
      "Group     0 (            OCM) has 11000 elements\n",
      "There is one group in the index\n",
      "\n",
      "Now select a group for center of mass removal:\n",
      "Group     0 (            OCM) has 11000 elements\n",
      "There is one group in the index\n",
      "Last frame        200 time  400.000   \n",
      "\n",
      "Used 41 restart points spaced 10 ps over 400 ps\n",
      "\n"
     ]
    },
    {
     "name": "stdout",
     "output_type": "stream",
     "text": [
      "Fitting from 40 to 360 ps\n",
      "\n",
      "D[       OCM] 0.0186 (+/- 0.0084) 1e-5 cm^2/s\n"
     ]
    }
   ],
   "source": [
    "compound = Mols.ocm\n",
    "traj_path = Path('md.xtc').absolute()\n",
    "system_path = Path('system.tpr').absolute()\n",
    "\n",
    "with TemporaryDirectory() as temp_dir:\n",
    "    temp_dir = Path(temp_dir)\n",
    "    index_path = temp_dir / f'{compound.value}.ndx'\n",
    "    xvg_path = temp_dir / f'{compound.value}.xvg'\n",
    "    mol_path = temp_dir / f'{compound.value}_mol.xvg'\n",
    "\n",
    "    command = f\"\"\"\n",
    "gmx -quiet select \\\n",
    "-s {system_path} \\\n",
    "-select {compound.value} \\\n",
    "-on {index_path}\n",
    "\n",
    "gmx -quiet msd \\\n",
    "-s {system_path} \\\n",
    "-f {traj_path} \\\n",
    "-n {index_path} \\\n",
    "-o {xvg_path} \\\n",
    "-rmcomm\n",
    "\"\"\"\n",
    "    os.system(command)\n",
    "    time.sleep(1)\n",
    "    data = read_xvg(xvg_path)"
   ]
  },
  {
   "cell_type": "code",
   "execution_count": 8,
   "metadata": {},
   "outputs": [
    {
     "data": {
      "text/plain": [
       "({'name': 'OCM',\n",
       "  'D': 0.0049,\n",
       "  'Dvar': 0.0015,\n",
       "  'scale': 1e-05,\n",
       "  'unit': 'cm^2/s'},\n",
       " array([[0.00000e+00, 4.90000e-03],\n",
       "        [0.00000e+00, 0.00000e+00],\n",
       "        [2.00000e+00, 2.78573e-03],\n",
       "        [4.00000e+00, 2.62755e-03],\n",
       "        [6.00000e+00, 2.85154e-03],\n",
       "        [8.00000e+00, 2.96092e-03],\n",
       "        [1.00000e+01, 3.02023e-03],\n",
       "        [1.20000e+01, 3.26815e-03],\n",
       "        [1.40000e+01, 3.38277e-03],\n",
       "        [1.60000e+01, 3.47275e-03],\n",
       "        [1.80000e+01, 3.51970e-03],\n",
       "        [2.00000e+01, 3.56719e-03],\n",
       "        [2.20000e+01, 3.75211e-03],\n",
       "        [2.40000e+01, 3.95246e-03],\n",
       "        [2.60000e+01, 3.93756e-03],\n",
       "        [2.80000e+01, 4.00631e-03],\n",
       "        [3.00000e+01, 4.08575e-03],\n",
       "        [3.20000e+01, 4.16784e-03],\n",
       "        [3.40000e+01, 4.27796e-03],\n",
       "        [3.60000e+01, 4.25104e-03],\n",
       "        [3.80000e+01, 4.29772e-03],\n",
       "        [4.00000e+01, 4.34099e-03],\n",
       "        [4.20000e+01, 4.49596e-03],\n",
       "        [4.40000e+01, 4.61413e-03],\n",
       "        [4.60000e+01, 4.44364e-03],\n",
       "        [4.80000e+01, 4.65700e-03],\n",
       "        [5.00000e+01, 4.56796e-03],\n",
       "        [5.20000e+01, 4.72120e-03],\n",
       "        [5.40000e+01, 4.85774e-03],\n",
       "        [5.60000e+01, 4.81348e-03],\n",
       "        [5.80000e+01, 4.89821e-03],\n",
       "        [6.00000e+01, 4.95802e-03],\n",
       "        [6.20000e+01, 4.94311e-03],\n",
       "        [6.40000e+01, 5.21503e-03],\n",
       "        [6.60000e+01, 4.99901e-03],\n",
       "        [6.80000e+01, 5.16784e-03],\n",
       "        [7.00000e+01, 5.07563e-03],\n",
       "        [7.20000e+01, 5.27429e-03],\n",
       "        [7.40000e+01, 5.50171e-03],\n",
       "        [7.60000e+01, 5.25076e-03],\n",
       "        [7.80000e+01, 5.45199e-03],\n",
       "        [8.00000e+01, 5.45623e-03],\n",
       "        [8.20000e+01, 5.45713e-03],\n",
       "        [8.40000e+01, 5.75107e-03],\n",
       "        [8.60000e+01, 5.55121e-03],\n",
       "        [8.80000e+01, 5.69619e-03],\n",
       "        [9.00000e+01, 5.63211e-03],\n",
       "        [9.20000e+01, 5.68170e-03],\n",
       "        [9.40000e+01, 5.99706e-03],\n",
       "        [9.60000e+01, 5.74026e-03],\n",
       "        [9.80000e+01, 5.89235e-03],\n",
       "        [1.00000e+02, 5.85070e-03],\n",
       "        [1.02000e+02, 6.10567e-03],\n",
       "        [1.04000e+02, 6.28800e-03],\n",
       "        [1.06000e+02, 6.02393e-03],\n",
       "        [1.08000e+02, 6.12800e-03],\n",
       "        [1.10000e+02, 6.18778e-03],\n",
       "        [1.12000e+02, 6.25300e-03],\n",
       "        [1.14000e+02, 6.47056e-03],\n",
       "        [1.16000e+02, 6.31104e-03],\n",
       "        [1.18000e+02, 6.44243e-03],\n",
       "        [1.20000e+02, 6.47279e-03],\n",
       "        [1.22000e+02, 6.42182e-03],\n",
       "        [1.24000e+02, 6.82160e-03],\n",
       "        [1.26000e+02, 6.60701e-03],\n",
       "        [1.28000e+02, 6.67911e-03],\n",
       "        [1.30000e+02, 6.83980e-03],\n",
       "        [1.32000e+02, 6.56007e-03],\n",
       "        [1.34000e+02, 7.05365e-03],\n",
       "        [1.36000e+02, 6.76255e-03],\n",
       "        [1.38000e+02, 6.81300e-03],\n",
       "        [1.40000e+02, 7.07546e-03],\n",
       "        [1.42000e+02, 6.78263e-03],\n",
       "        [1.44000e+02, 7.27612e-03],\n",
       "        [1.46000e+02, 6.93036e-03],\n",
       "        [1.48000e+02, 7.08301e-03],\n",
       "        [1.50000e+02, 7.39457e-03],\n",
       "        [1.52000e+02, 6.89740e-03],\n",
       "        [1.54000e+02, 7.45654e-03],\n",
       "        [1.56000e+02, 6.92842e-03],\n",
       "        [1.58000e+02, 7.26639e-03],\n",
       "        [1.60000e+02, 7.46528e-03],\n",
       "        [1.62000e+02, 7.23680e-03],\n",
       "        [1.64000e+02, 7.71070e-03],\n",
       "        [1.66000e+02, 7.22960e-03],\n",
       "        [1.68000e+02, 7.48590e-03],\n",
       "        [1.70000e+02, 7.77531e-03],\n",
       "        [1.72000e+02, 7.49539e-03],\n",
       "        [1.74000e+02, 7.78355e-03],\n",
       "        [1.76000e+02, 7.59828e-03],\n",
       "        [1.78000e+02, 7.73242e-03],\n",
       "        [1.80000e+02, 7.89335e-03],\n",
       "        [1.82000e+02, 7.77036e-03],\n",
       "        [1.84000e+02, 8.22934e-03],\n",
       "        [1.86000e+02, 7.87669e-03],\n",
       "        [1.88000e+02, 7.88971e-03],\n",
       "        [1.90000e+02, 8.23739e-03],\n",
       "        [1.92000e+02, 8.07208e-03],\n",
       "        [1.94000e+02, 8.52015e-03],\n",
       "        [1.96000e+02, 8.11530e-03],\n",
       "        [1.98000e+02, 8.32261e-03],\n",
       "        [2.00000e+02, 8.54081e-03],\n",
       "        [2.02000e+02, 8.34349e-03],\n",
       "        [2.04000e+02, 8.97007e-03],\n",
       "        [2.06000e+02, 8.42450e-03],\n",
       "        [2.08000e+02, 8.59321e-03],\n",
       "        [2.10000e+02, 8.83526e-03],\n",
       "        [2.12000e+02, 8.83287e-03],\n",
       "        [2.14000e+02, 9.03766e-03],\n",
       "        [2.16000e+02, 8.98648e-03],\n",
       "        [2.18000e+02, 8.93566e-03],\n",
       "        [2.20000e+02, 9.19158e-03],\n",
       "        [2.22000e+02, 9.00584e-03],\n",
       "        [2.24000e+02, 9.58802e-03],\n",
       "        [2.26000e+02, 9.08815e-03],\n",
       "        [2.28000e+02, 9.24353e-03],\n",
       "        [2.30000e+02, 9.50409e-03],\n",
       "        [2.32000e+02, 9.17586e-03],\n",
       "        [2.34000e+02, 9.75678e-03],\n",
       "        [2.36000e+02, 9.44516e-03],\n",
       "        [2.38000e+02, 9.61873e-03],\n",
       "        [2.40000e+02, 9.90821e-03],\n",
       "        [2.42000e+02, 9.54668e-03],\n",
       "        [2.44000e+02, 9.92927e-03],\n",
       "        [2.46000e+02, 9.66892e-03],\n",
       "        [2.48000e+02, 9.76503e-03],\n",
       "        [2.50000e+02, 9.98991e-03],\n",
       "        [2.52000e+02, 1.01050e-02],\n",
       "        [2.54000e+02, 1.02286e-02],\n",
       "        [2.56000e+02, 1.01397e-02],\n",
       "        [2.58000e+02, 1.00228e-02],\n",
       "        [2.60000e+02, 1.06408e-02],\n",
       "        [2.62000e+02, 1.06635e-02],\n",
       "        [2.64000e+02, 1.08602e-02],\n",
       "        [2.66000e+02, 1.06101e-02],\n",
       "        [2.68000e+02, 1.06554e-02],\n",
       "        [2.70000e+02, 1.09702e-02],\n",
       "        [2.72000e+02, 1.09401e-02],\n",
       "        [2.74000e+02, 1.14326e-02],\n",
       "        [2.76000e+02, 1.09947e-02],\n",
       "        [2.78000e+02, 1.08799e-02],\n",
       "        [2.80000e+02, 1.13932e-02],\n",
       "        [2.82000e+02, 1.15473e-02],\n",
       "        [2.84000e+02, 1.15254e-02],\n",
       "        [2.86000e+02, 1.13842e-02],\n",
       "        [2.88000e+02, 1.14483e-02],\n",
       "        [2.90000e+02, 1.17019e-02],\n",
       "        [2.92000e+02, 1.18477e-02],\n",
       "        [2.94000e+02, 1.18376e-02],\n",
       "        [2.96000e+02, 1.13537e-02],\n",
       "        [2.98000e+02, 1.18672e-02],\n",
       "        [3.00000e+02, 1.19180e-02],\n",
       "        [3.02000e+02, 1.20385e-02],\n",
       "        [3.04000e+02, 1.22464e-02],\n",
       "        [3.06000e+02, 1.19070e-02],\n",
       "        [3.08000e+02, 1.21212e-02],\n",
       "        [3.10000e+02, 1.24925e-02],\n",
       "        [3.12000e+02, 1.19671e-02],\n",
       "        [3.14000e+02, 1.24977e-02],\n",
       "        [3.16000e+02, 1.19890e-02],\n",
       "        [3.18000e+02, 1.20594e-02],\n",
       "        [3.20000e+02, 1.24967e-02],\n",
       "        [3.22000e+02, 1.23318e-02],\n",
       "        [3.24000e+02, 1.26236e-02],\n",
       "        [3.26000e+02, 1.24492e-02],\n",
       "        [3.28000e+02, 1.22669e-02],\n",
       "        [3.30000e+02, 1.30904e-02],\n",
       "        [3.32000e+02, 1.27761e-02],\n",
       "        [3.34000e+02, 1.30660e-02],\n",
       "        [3.36000e+02, 1.25556e-02],\n",
       "        [3.38000e+02, 1.27391e-02],\n",
       "        [3.40000e+02, 1.33418e-02],\n",
       "        [3.42000e+02, 1.30083e-02],\n",
       "        [3.44000e+02, 1.33839e-02],\n",
       "        [3.46000e+02, 1.29464e-02],\n",
       "        [3.48000e+02, 1.29681e-02],\n",
       "        [3.50000e+02, 1.34303e-02],\n",
       "        [3.52000e+02, 1.36500e-02],\n",
       "        [3.54000e+02, 1.36407e-02],\n",
       "        [3.56000e+02, 1.34636e-02],\n",
       "        [3.58000e+02, 1.34967e-02],\n",
       "        [3.60000e+02, 1.38058e-02],\n",
       "        [3.62000e+02, 1.38151e-02],\n",
       "        [3.64000e+02, 1.43641e-02],\n",
       "        [3.66000e+02, 1.38294e-02],\n",
       "        [3.68000e+02, 1.36630e-02],\n",
       "        [3.70000e+02, 1.41755e-02],\n",
       "        [3.72000e+02, 1.46859e-02],\n",
       "        [3.74000e+02, 1.53056e-02],\n",
       "        [3.76000e+02, 1.49575e-02],\n",
       "        [3.78000e+02, 1.42648e-02],\n",
       "        [3.80000e+02, 1.54323e-02],\n",
       "        [3.82000e+02, 1.41587e-02],\n",
       "        [3.84000e+02, 1.54521e-02],\n",
       "        [3.86000e+02, 1.53815e-02],\n",
       "        [3.88000e+02, 1.44879e-02],\n",
       "        [3.90000e+02, 1.66225e-02],\n",
       "        [3.92000e+02, 1.61057e-02],\n",
       "        [3.94000e+02, 1.79206e-02],\n",
       "        [3.96000e+02, 1.69140e-02],\n",
       "        [3.98000e+02, 1.64776e-02],\n",
       "        [4.00000e+02, 2.00743e-02]]))"
      ]
     },
     "execution_count": 8,
     "metadata": {},
     "output_type": "execute_result"
    }
   ],
   "source": [
    "read_xvg('msd.xvg')"
   ]
  },
  {
   "cell_type": "code",
   "execution_count": 16,
   "metadata": {},
   "outputs": [],
   "source": [
    "import matplotlib.pyplot as plt"
   ]
  },
  {
   "cell_type": "code",
   "execution_count": 42,
   "metadata": {},
   "outputs": [
    {
     "data": {
      "text/plain": [
       "0.016502400000000004"
      ]
     },
     "execution_count": 42,
     "metadata": {},
     "output_type": "execute_result"
    }
   ],
   "source": [
    "0.0191*1e-5*24*60*60"
   ]
  },
  {
   "cell_type": "code",
   "execution_count": 44,
   "metadata": {},
   "outputs": [
    {
     "name": "stdout",
     "output_type": "stream",
     "text": [
      "{'start': 40.0, 'end': 360.0, 'name': 'OCM', 'D': 0.0186, 'Dvar': 0.0084, 'scale': 1e-05, 'unit': 'cm^2/s'}\n"
     ]
    },
    {
     "data": {
      "image/png": "[encoded data removed]",
      "text/plain": [
       "<Figure size 640x480 with 1 Axes>"
      ]
     },
     "metadata": {},
     "output_type": "display_data"
    }
   ],
   "source": [
    "MSD=data[1]\n",
    "plt.plot(MSD[:,0],MSD[:,1 ])\n",
    "print(data[0])"
   ]
  },
  {
   "cell_type": "code",
   "execution_count": 38,
   "metadata": {},
   "outputs": [
    {
     "name": "stdout",
     "output_type": "stream",
     "text": [
      "{'start': 40.0, 'end': 360.0, 'name': 'OCM', 'D': 0.0092, 'Dvar': 0.005, 'scale': 1e-05, 'unit': 'cm^2/s'}\n"
     ]
    },
    {
     "data": {
      "image/png": "[encoded data removed]",
      "text/plain": [
       "<Figure size 640x480 with 1 Axes>"
      ]
     },
     "metadata": {},
     "output_type": "display_data"
    }
   ],
   "source": [
    "MSD=data[1]\n",
    "plt.plot(MSD[:,0],MSD[:,1])\n",
    "print(data[0])"
   ]
  },
  {
   "cell_type": "code",
   "execution_count": 19,
   "metadata": {},
   "outputs": [],
   "source": [
    "from scipy.stats import linregress"
   ]
  },
  {
   "cell_type": "code",
   "execution_count": 20,
   "metadata": {},
   "outputs": [],
   "source": [
    "regression = linregress(MSD[:,0],MSD[:,1  ])\n",
    "D0 = regression.intercept\n",
    "D = regression.slope"
   ]
  }
 ],
 "metadata": {
  "kernelspec": {
   "display_name": "MolModel",
   "language": "python",
   "name": "python3"
  },
  "language_info": {
   "codemirror_mode": {
    "name": "ipython",
    "version": 3
   },
   "file_extension": ".py",
   "mimetype": "text/x-python",
   "name": "python",
   "nbconvert_exporter": "python",
   "pygments_lexer": "ipython3",
   "version": "3.10.13"
  }
 },
 "nbformat": 4,
 "nbformat_minor": 2
}

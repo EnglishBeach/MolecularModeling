{
 "cells": [
  {
   "cell_type": "code",
   "execution_count": 1,
   "metadata": {},
   "outputs": [],
   "source": [
    "import os\n",
    "from pathlib import Path\n",
    "\n",
    "import openmm\n",
    "from openff import interchange, toolkit, units\n",
    "from openff.interchange.components import _packmol as packmol\n",
    "from tqdm import tqdm\n",
    "\n",
    "from base import DATAS, RD_MOLECULES, MolNames"
   ]
  },
  {
   "cell_type": "code",
   "execution_count": 2,
   "metadata": {},
   "outputs": [],
   "source": [
    "from gromacs import simulator"
   ]
  },
  {
   "cell_type": "code",
   "execution_count": 3,
   "metadata": {},
   "outputs": [],
   "source": [
    "a = simulator.Simulation(\n",
    "    substance='ocm',\n",
    "    rho=1.2,\n",
    "    T=25,\n",
    "    x=0.1,\n",
    "    workdir=Path('new'),\n",
    ")"
   ]
  },
  {
   "cell_type": "code",
   "execution_count": 4,
   "metadata": {},
   "outputs": [],
   "source": [
    "a.top=Path('new/1box/box.top')"
   ]
  },
  {
   "cell_type": "code",
   "execution_count": 5,
   "metadata": {},
   "outputs": [],
   "source": [
    "# a.create_box()"
   ]
  },
  {
   "cell_type": "code",
   "execution_count": 6,
   "metadata": {},
   "outputs": [],
   "source": [
    "# a.center()"
   ]
  },
  {
   "cell_type": "code",
   "execution_count": 7,
   "metadata": {},
   "outputs": [
    {
     "name": "stderr",
     "output_type": "stream",
     "text": [
      "\n",
      "NOTE 1 [file new/0configs/em.mdp]:\n",
      "  With Verlet lists the optimal nstlist is >= 10, with GPUs >= 20. Note\n",
      "  that with the Verlet scheme, nstlist has no effect on the accuracy of\n",
      "  your simulation.\n",
      "\n",
      "Generating 1-4 interactions: fudge = 0.5\n",
      "Number of degrees of freedom in T-Coupling group rest is 30597.00\n",
      "\n",
      "There was 1 note\n",
      "\n",
      "Back Off! I just backed up new/2EM/system.tpr to new/2EM/#system.tpr.1#\n",
      "\n",
      "Back Off! I just backed up new/2EM/em.log to new/2EM/#em.log.1#\n",
      "Compiled SIMD: SSE4.1, but for this host/run AVX2_256 might be better (see\n",
      "log).\n",
      "Reading file new/2EM/system.tpr, VERSION 2021.4-Ubuntu-2021.4-2 (single precision)\n",
      "Using 5 MPI threads\n",
      "Using 1 OpenMP thread per tMPI thread\n",
      "\n"
     ]
    },
    {
     "name": "stdout",
     "output_type": "stream",
     "text": [
      "Setting the LD random seed to -307121188\n",
      "\n",
      "Generated 2485 of the 2485 non-bonded parameter combinations\n",
      "\n",
      "Generated 2485 of the 2485 1-4 parameter combinations\n",
      "\n",
      "Excluding 3 bonded neighbours molecule type 'BUT'\n",
      "\n",
      "Excluding 3 bonded neighbours molecule type 'OCM'\n",
      "Analysing residue names:\n",
      "There are:   200      Other residues\n",
      "Analysing residues not classified as Protein/DNA/RNA/Water and splitting into groups...\n",
      "Calculating fourier grid dimensions for X Y Z\n",
      "Using a fourier grid of 32x32x32, spacing 0.148 0.148 0.148\n",
      "\n",
      "Estimate for the relative computational load of the PME mesh part: 0.09\n",
      "\n",
      "This run will generate roughly 1 Mb of data\n"
     ]
    },
    {
     "name": "stderr",
     "output_type": "stream",
     "text": [
      "\n",
      "Back Off! I just backed up new/2EM/em.trr to new/2EM/#em.trr.1#\n",
      "\n",
      "Back Off! I just backed up new/2EM/em.edr to new/2EM/#em.edr.1#\n",
      "\n",
      "Steepest Descents:\n",
      "   Tolerance (Fmax)   =  5.00000e+02\n",
      "   Number of steps    =         5000\n",
      "Step=    0, Dmax= 1.0e-03 nm, Epot= -2.29206e+04 Fmax= 1.06128e+03, atom= 688\n",
      "Step=    1, Dmax= 1.0e-03 nm, Epot= -2.32043e+04 Fmax= 6.70218e+02, atom= 4769\n",
      "Step=    2, Dmax= 1.2e-03 nm, Epot= -2.32265e+04 Fmax= 2.08640e+03, atom= 4769\n",
      "Step=    3, Dmax= 1.4e-03 nm, Epot= -2.32654e+04 Fmax= 1.14958e+03, atom= 4769\n",
      "Step=    4, Dmax= 1.7e-03 nm, Epot= -2.32690e+04 Fmax= 3.22718e+03, atom= 4769\n",
      "Step=    5, Dmax= 2.1e-03 nm, Epot= -2.32728e+04 Fmax= 2.13880e+03, atom= 4769\n",
      "Step=    7, Dmax= 1.2e-03 nm, Epot= -2.32761e+04 Fmax= 1.23746e+03, atom= 4769\n",
      "Step=    9, Dmax= 7.5e-04 nm, Epot= -2.32781e+04 Fmax= 9.02811e+02, atom= 4769\n",
      "Step=   10, Dmax= 9.0e-04 nm, Epot= -2.32781e+04 Fmax= 1.73107e+03, atom= 4769\n",
      "Step=   11, Dmax= 1.1e-03 nm, Epot= -2.32800e+04 Fmax= 1.39332e+03, atom= 4769\n",
      "Step=   13, Dmax= 6.4e-04 nm, Epot= -2.32822e+04 Fmax= 4.66782e+02, atom= 4769\n",
      "\n",
      "writing lowest energy coordinates.\n",
      "\n",
      "Back Off! I just backed up new/2EM/box.gro to new/2EM/#box.gro.1#\n",
      "\n",
      "Steepest Descents converged to Fmax < 500 in 14 steps\n",
      "Potential Energy  = -2.3282197e+04\n",
      "Maximum force     =  4.6678247e+02 on atom 4769\n",
      "Norm of force     =  1.5599939e+01\n"
     ]
    }
   ],
   "source": [
    "a.em()"
   ]
  },
  {
   "cell_type": "code",
   "execution_count": 8,
   "metadata": {},
   "outputs": [
    {
     "name": "stderr",
     "output_type": "stream",
     "text": [
      "\n",
      "NOTE 1 [file new/0configs/nvt.mdp]:\n",
      "  nstcomm < nstcalcenergy defeats the purpose of nstcalcenergy, setting\n",
      "  nstcomm to nstcalcenergy\n",
      "\n",
      "Generating 1-4 interactions: fudge = 0.5\n",
      "Number of degrees of freedom in T-Coupling group BUT is 697.00\n",
      "Number of degrees of freedom in T-Coupling group OCM is 25017.00\n",
      "\n",
      "There was 1 note\n",
      "\n",
      "Back Off! I just backed up new/3NVT/system.tpr to new/3NVT/#system.tpr.1#\n",
      "\n",
      "Back Off! I just backed up new/3NVT/nvt.log to new/3NVT/#nvt.log.1#\n",
      "Compiled SIMD: SSE4.1, but for this host/run AVX2_256 might be better (see\n",
      "log).\n",
      "Reading file new/3NVT/system.tpr, VERSION 2021.4-Ubuntu-2021.4-2 (single precision)\n",
      "Changing nstlist from 20 to 100, rlist from 1.2 to 1.2\n",
      "\n",
      "Using 5 MPI threads\n",
      "Using 1 OpenMP thread per tMPI thread\n",
      "\n"
     ]
    },
    {
     "name": "stdout",
     "output_type": "stream",
     "text": [
      "Setting the LD random seed to -138412053\n",
      "\n",
      "Generated 2485 of the 2485 non-bonded parameter combinations\n",
      "\n",
      "Generated 2485 of the 2485 1-4 parameter combinations\n",
      "\n",
      "Excluding 3 bonded neighbours molecule type 'BUT'\n",
      "\n",
      "turning H bonds into constraints...\n",
      "\n",
      "Excluding 3 bonded neighbours molecule type 'OCM'\n",
      "\n",
      "turning H bonds into constraints...\n",
      "\n",
      "Setting gen_seed to -101390209\n",
      "\n",
      "Velocities were taken from a Maxwell distribution at 298 K\n",
      "Analysing residue names:\n",
      "There are:   200      Other residues\n",
      "Analysing residues not classified as Protein/DNA/RNA/Water and splitting into groups...\n",
      "\n",
      "Determining Verlet buffer for a tolerance of 0.005 kJ/mol/ps at 298 K\n",
      "\n",
      "Calculated rlist for 1x1 atom pair-list as 1.201 nm, buffer size 0.001 nm\n",
      "\n",
      "Set rlist, assuming 4x4 atom pair-list, to 1.200 nm, buffer size 0.000 nm\n",
      "\n",
      "Note that mdrun will redetermine rlist based on the actual pair-list setup\n",
      "Calculating fourier grid dimensions for X Y Z\n",
      "Using a fourier grid of 32x32x32, spacing 0.148 0.148 0.148\n",
      "\n",
      "Estimate for the relative computational load of the PME mesh part: 0.09\n",
      "\n",
      "This run will generate roughly 1 Mb of data\n"
     ]
    },
    {
     "name": "stderr",
     "output_type": "stream",
     "text": [
      "\n",
      "Back Off! I just backed up new/3NVT/nvt.xtc to new/3NVT/#nvt.xtc.1#\n",
      "\n",
      "Back Off! I just backed up new/3NVT/nvt.edr to new/3NVT/#nvt.edr.1#\n",
      "starting mdrun 'FOO'\n",
      "10000 steps,     10.0 ps.\n",
      "step 9900, remaining wall clock time:     0 s          mb F  4% vol 0.98  imb F  4% vol 0.96  imb F  5% vol 0.94  imb F  4% vol 0.93  imb F  2% vol 0.93  imb F  3% vol 0.96  imb F  5% vol 0.95  imb F  3% vol 0.95  imb F  6% vol 0.94  imb F  2% vol 0.95  imb F  3% vol 0.95  imb F  3% vol 0.96  imb F  4% vol 0.97  imb F  6% vol 0.97  imb F  5% vol 0.96  imb F  2% vol 0.95  imb F  2% vol 0.95  imb F  1% vol 0.96  imb F  3% vol 0.97  imb F  4% vol 0.97  imb F  2% vol 0.96  imb F  2% vol 0.96  imb F  5% vol 0.94  imb F  4% vol 0.98  imb F  4% vol 0.96  imb F  3% vol 0.97  imb F  3% vol 0.95  imb F  2% vol 0.95  imb F  4% vol 0.95  imb F  4% vol 0.93  imb F  6% vol 0.96  imb F  4% vol 0.95  imb F  4% vol 0.95  imb F  3% vol 0.94  imb F  3% vol 0.92  imb F  5% vol 0.93  imb F  7% vol 0.95  imb F  3% vol 0.93  imb F  2% vol 0.92  imb F  5% vol 0.94  imb F  1% vol 0.94  imb F  2% vol 0.93  imb F  4% vol 0.93  imb F  1% vol 0.94  imb F  3% vol 0.96  imb F  4% vol 0.96  imb F  3% vol 0.95  imb F  3% vol 0.95  imb F  3% vol 0.94  imb F  3% vol 0.94  imb F  6% vol 0.96  imb F  4% vol 0.96  imb F  4% vol 0.96  imb F  3% vol 0.96  imb F  2% vol 0.95  imb F  4% vol 0.95  imb F  1% vol 0.96  imb F  4% vol 0.95  imb F  3% vol 0.94  imb F  2% vol 0.95  imb F  4% vol 0.97  imb F  3% vol 0.97  imb F  3% vol 0.98  imb F  2% vol 0.97  imb F  7% vol 0.96  imb F  3% vol 0.94  imb F  3% vol 0.97  imb F  4% vol 0.96  imb F  6% vol 0.96  imb F  3% vol 0.96  imb F  3% vol 0.97  imb F  3% vol 0.96  imb F  4% vol 0.96  imb F  4% vol 0.96  imb F  2% vol 0.97  imb F  4% vol 0.97  imb F  5% vol 0.94  imb F  2% vol 0.95  imb F  2% vol 0.95  imb F  5% vol 0.96  imb F  6% vol 0.97  imb F  4% vol 0.97  imb F  5% vol 0.94  imb F  2% vol 0.94  imb F  2% vol 0.94  imb F  3% vol 0.95  imb F  3% vol 0.94  imb F  5% vol 0.95  imb F  4% vol 0.94  imb F  2% vol 0.95  imb F  2% vol 0.95  imb F  4% vol 0.96  imb F  3% vol 0.97  imb F  4% vol 0.95  imb F  3% vol 0.97  imb F  4% vol 0.96  imb F  3% vol 0.97  imb F  4% vol 0.97  imb F  3% \n",
      "Writing final coordinates.\n",
      "\n",
      "Back Off! I just backed up new/3NVT/box.gro to new/3NVT/#box.gro.1#\n",
      "step 10000, remaining wall clock time:     0 s          \n",
      "\n",
      "Dynamic load balancing report:\n",
      " DLB was turned on during the run due to measured imbalance.\n",
      " Average load imbalance: 3.5%.\n",
      " The balanceable part of the MD step is 73%, load imbalance is computed from this.\n",
      " Part of the total run time spent waiting due to load imbalance: 2.6%.\n",
      " Steps where the load balancing was limited by -rdd, -rcon and/or -dds: X 0 %\n",
      "\n",
      "\n",
      "               Core t (s)   Wall t (s)        (%)\n",
      "       Time:      427.932       85.587      500.0\n",
      "                 (ns/day)    (hour/ns)\n",
      "Performance:       10.096        2.377\n"
     ]
    }
   ],
   "source": [
    "a.nvt()"
   ]
  },
  {
   "cell_type": "code",
   "execution_count": 9,
   "metadata": {},
   "outputs": [
    {
     "name": "stderr",
     "output_type": "stream",
     "text": [
      "\n",
      "NOTE 1 [file new/0configs/npt.mdp]:\n",
      "  nstcomm < nstcalcenergy defeats the purpose of nstcalcenergy, setting\n",
      "  nstcomm to nstcalcenergy\n",
      "\n",
      "Generating 1-4 interactions: fudge = 0.5\n",
      "Number of degrees of freedom in T-Coupling group BUT is 697.00\n",
      "Number of degrees of freedom in T-Coupling group OCM is 25017.00\n",
      "\n",
      "There was 1 note\n",
      "\n",
      "Back Off! I just backed up new/4NPT/system.tpr to new/4NPT/#system.tpr.1#\n",
      "\n",
      "Back Off! I just backed up new/4NPT/npt.log to new/4NPT/#npt.log.1#\n",
      "Compiled SIMD: SSE4.1, but for this host/run AVX2_256 might be better (see\n",
      "log).\n",
      "Reading file new/4NPT/system.tpr, VERSION 2021.4-Ubuntu-2021.4-2 (single precision)\n",
      "Changing nstlist from 20 to 100, rlist from 1.2 to 1.2\n",
      "\n",
      "Using 5 MPI threads\n",
      "Using 1 OpenMP thread per tMPI thread\n",
      "\n"
     ]
    },
    {
     "name": "stdout",
     "output_type": "stream",
     "text": [
      "Setting the LD random seed to -7942153\n",
      "\n",
      "Generated 2485 of the 2485 non-bonded parameter combinations\n",
      "\n",
      "Generated 2485 of the 2485 1-4 parameter combinations\n",
      "\n",
      "Excluding 3 bonded neighbours molecule type 'BUT'\n",
      "\n",
      "turning H bonds into constraints...\n",
      "\n",
      "Excluding 3 bonded neighbours molecule type 'OCM'\n",
      "\n",
      "turning H bonds into constraints...\n",
      "Analysing residue names:\n",
      "There are:   200      Other residues\n",
      "Analysing residues not classified as Protein/DNA/RNA/Water and splitting into groups...\n",
      "\n",
      "Determining Verlet buffer for a tolerance of 0.005 kJ/mol/ps at 298 K\n",
      "\n",
      "Calculated rlist for 1x1 atom pair-list as 1.201 nm, buffer size 0.001 nm\n",
      "\n",
      "Set rlist, assuming 4x4 atom pair-list, to 1.200 nm, buffer size 0.000 nm\n",
      "\n",
      "Note that mdrun will redetermine rlist based on the actual pair-list setup\n",
      "Calculating fourier grid dimensions for X Y Z\n",
      "Using a fourier grid of 32x32x32, spacing 0.148 0.148 0.148\n",
      "\n",
      "Estimate for the relative computational load of the PME mesh part: 0.09\n",
      "\n",
      "This run will generate roughly 1 Mb of data\n"
     ]
    },
    {
     "name": "stderr",
     "output_type": "stream",
     "text": [
      "\n",
      "Back Off! I just backed up new/4NPT/npt.xtc to new/4NPT/#npt.xtc.1#\n",
      "\n",
      "Back Off! I just backed up new/4NPT/npt.edr to new/4NPT/#npt.edr.1#\n",
      "starting mdrun 'FOO'\n",
      "10000 steps,     10.0 ps.\n",
      "step 2800, remaining wall clock time:    66 s          mb F  4% imb F  3% vol 0.98  imb F  4% vol 0.96  imb F  5% vol 0.96  imb F  5% vol 0.96  imb F  4% vol 0.96  imb F  4% vol 0.96  imb F  4% vol 0.95  imb F  4% vol 0.94  imb F  3% vol 0.94  imb F  2% vol 0.94  imb F  4% vol 0.92  imb F 10% vol 0.93  imb F  5% vol 0.94  imb F  3% vol 0.94  imb F  3% vol 0.94  imb F  2% vol 0.95  imb F  3% vol 0.96  imb F  2% vol 0.96  imb F  4% vol 0.97  imb F  3% vol 0.96  imb F  4% vol 0.94  imb F  4% vol 0.94  imb F  4% vol 0.96  imb F  3% vol 0.95  imb F  1% vol 0.96  imb F  3% "
     ]
    }
   ],
   "source": [
    "a.npt()"
   ]
  },
  {
   "cell_type": "code",
   "execution_count": null,
   "metadata": {},
   "outputs": [],
   "source": [
    "# a.md()"
   ]
  },
  {
   "cell_type": "code",
   "execution_count": null,
   "metadata": {},
   "outputs": [],
   "source": [
    "packmol.pack_box(\n",
    "            molecules=[butanol, substance],\n",
    "            number_of_copies=[20, substance_n],\n",
    "            mass_density=self.rho * g / cm**3,\n",
    "            tolerance=0.1 * A,\n",
    "            box_shape=packmol.UNIT_CUBE,\n",
    "        )"
   ]
  },
  {
   "cell_type": "code",
   "execution_count": null,
   "metadata": {},
   "outputs": [],
   "source": [
    "OFF_MOLECULES = {}\n",
    "for molecule_type, rdkit_mol in RD_MOLECULES.items():\n",
    "    mol = toolkit.Molecule.from_rdkit(rdkit_mol)\n",
    "    OFF_MOLECULES[molecule_type] = mol\n",
    "    mol.generate_conformers(n_conformers=1)\n",
    "    mol.name = molecule_type.value\n",
    "\n",
    "    for atom in mol.atoms:\n",
    "        atom.metadata[\"residue_name\"] = molecule_type.value\n",
    "    mol.add_hierarchy_scheme(\n",
    "        iterator_name=\"residue\",\n",
    "        uniqueness_criteria=[\"residue_name\"],\n",
    "    )"
   ]
  },
  {
   "cell_type": "code",
   "execution_count": null,
   "metadata": {},
   "outputs": [],
   "source": [
    "class Box:\n",
    "    box = None\n",
    "    ff = toolkit.ForceField(\"openff_unconstrained-2.1.0.offxml\")\n",
    "\n",
    "    def __init__(self, x, rho, substance: MolNames):\n",
    "        self.solvent_n: int = int(x)\n",
    "        self.substance_n: int = int((100 - x))\n",
    "        self.substance: MolNames = substance\n",
    "        self.rho = rho\n",
    "\n",
    "    def __repr__(self) -> str:\n",
    "        return f\"<Box: {self.substance.name}= {self.substance_n} ({self.solvent_n}), rho={self.rho} mg/cm3>\"\n",
    "\n",
    "    def pack(self, tol=0.1):\n",
    "        solvent = OFF_MOLECULES[MolNames.butanol]\n",
    "        substance = OFF_MOLECULES[MolNames(self.substance)]\n",
    "        if self.substance_n == 0:\n",
    "            molecules = [solvent]\n",
    "            n_molecules = [100]\n",
    "        elif self.substance_n == 100:\n",
    "            molecules = [substance]\n",
    "            n_molecules = [100]\n",
    "        else:\n",
    "            molecules = [solvent, substance]\n",
    "            n_molecules = [self.solvent_n, self.substance_n]\n",
    "        kg = units.unit.kilogram\n",
    "        m = units.unit.meter\n",
    "        A = units.unit.angstrom\n",
    "        self.box = packmol.pack_box(\n",
    "            molecules=molecules,\n",
    "            number_of_copies=n_molecules,\n",
    "            mass_density=self.rho * kg / m**3,\n",
    "            tolerance=tol * A,\n",
    "            box_shape=packmol.UNIT_CUBE,\n",
    "        )\n",
    "\n",
    "    def parametrize(self):\n",
    "        self.box_parametrized = interchange.Interchange.from_smirnoff(\n",
    "            force_field=self.ff,\n",
    "            topology=self.box,\n",
    "        )\n",
    "\n",
    "    def minimaze(self):\n",
    "        self.box_parametrized.minimize()\n",
    "\n",
    "    def save(self, path: Path):\n",
    "        with open(path, \"w\") as file:\n",
    "            box_j = self.box.to_json()\n",
    "            data = {\n",
    "                \"solvent_n\": self.solvent_n,\n",
    "                \"substance\": self.substance.value,\n",
    "                \"rho\": self.rho,\n",
    "            }\n",
    "            box_j = f\"{data} ###\" + box_j\n",
    "            file.write(box_j)\n",
    "\n",
    "    @classmethod\n",
    "    def load(cls, path: Path):\n",
    "        with open(path, \"r\") as file:\n",
    "            box_j = file.read()\n",
    "            data, box_j = box_j.split(\"###\")\n",
    "            data = eval(data)\n",
    "            box = Box(\n",
    "                x=int(data[\"solvent_n\"]),\n",
    "                rho=data[\"rho\"],\n",
    "                substance=MolNames(data[\"substance\"][:3].upper()),\n",
    "            )\n",
    "            box.box = toolkit.Topology.from_json(box_j)\n",
    "\n",
    "        return box\n",
    "\n",
    "    def create_system(self):\n",
    "        self.box_parametrized.to_openmm_topology()\n",
    "        return self.box_parametrized.to_openmm_system()"
   ]
  },
  {
   "cell_type": "code",
   "execution_count": null,
   "metadata": {},
   "outputs": [],
   "source": [
    "for mol in OFF_MOLECULES.values():\n",
    "    mol.assign_partial_charges('am1bcc')\n",
    "    mol.to_file(f'Compounds/{mol.name}.sdf',file_format='SDF')"
   ]
  },
  {
   "cell_type": "code",
   "execution_count": null,
   "metadata": {},
   "outputs": [],
   "source": [
    "but = OFF_MOLECULES[MolNames.ocm]\n",
    "but.assign_partial_charges('am1bcc')\n",
    "but.to_file('ocm.sdf',file_format='SDF')"
   ]
  },
  {
   "cell_type": "code",
   "execution_count": null,
   "metadata": {},
   "outputs": [],
   "source": [
    "but = toolkit.Molecule.from_file('Compounds/butanol.sdf')\n",
    "ocm = toolkit.Molecule.from_file('Compounds/ocm.sdf')"
   ]
  },
  {
   "cell_type": "code",
   "execution_count": null,
   "metadata": {},
   "outputs": [],
   "source": [
    "g = units.unit.gram\n",
    "cm = units.unit.centimeter\n",
    "A = units.unit.angstrom\n",
    "box = packmol.pack_box(\n",
    "    molecules=[but,ocm],\n",
    "    number_of_copies=[20,180],\n",
    "    mass_density=1.58 * g / cm**3,\n",
    "    tolerance=0.1 * A,\n",
    "    box_shape=packmol.UNIT_CUBE,\n",
    ")"
   ]
  },
  {
   "cell_type": "code",
   "execution_count": null,
   "metadata": {},
   "outputs": [],
   "source": [
    "box.to_('box.pdb')"
   ]
  },
  {
   "cell_type": "code",
   "execution_count": null,
   "metadata": {},
   "outputs": [],
   "source": [
    "ff = toolkit.ForceField(\"openff_unconstrained-2.1.0.offxml\")"
   ]
  },
  {
   "cell_type": "code",
   "execution_count": null,
   "metadata": {},
   "outputs": [],
   "source": [
    "inter = interchange.Interchange.from_smirnoff(\n",
    "    force_field=ff,\n",
    "    topology=box,\n",
    "    charge_from_molecules= [but,ocm]\n",
    ")"
   ]
  },
  {
   "cell_type": "code",
   "execution_count": null,
   "metadata": {},
   "outputs": [],
   "source": [
    "from openff.units import Quantity, unit\n",
    "tol =Quantity(\n",
    "    1.0,\n",
    "    unit.kilojoule_per_mole / unit.nanometer,\n",
    ")\n"
   ]
  },
  {
   "cell_type": "code",
   "execution_count": null,
   "metadata": {},
   "outputs": [],
   "source": [
    "inter.minimize(force_tolerance=tol)"
   ]
  },
  {
   "cell_type": "code",
   "execution_count": null,
   "metadata": {},
   "outputs": [],
   "source": [
    "MOLECULES={}\n",
    "for mol_path in os.listdir('Compounds'):\n",
    "    mol_path=Path(mol_path)\n",
    "    mol = toolkit.Molecule.from_file(f'Compounds/{mol_path}')\n",
    "    MOLECULES[MolNames[mol_path.stem]] = mol"
   ]
  },
  {
   "cell_type": "code",
   "execution_count": null,
   "metadata": {},
   "outputs": [],
   "source": [
    "inter.to_pdb('box.pdb')\n",
    "inter.to_gromacs('box')"
   ]
  },
  {
   "cell_type": "code",
   "execution_count": null,
   "metadata": {},
   "outputs": [],
   "source": [
    "# Box create\n",
    "for substance, combinations in DATAS.items():\n",
    "    for x, rho in combinations:\n",
    "        box.pack(tol=0.1)\n",
    "        box.save(path=save_path.as_posix())\n",
    "        print(f'{save_path.name:30}: rho {box.rho}')"
   ]
  },
  {
   "cell_type": "code",
   "execution_count": null,
   "metadata": {},
   "outputs": [],
   "source": [
    "import os"
   ]
  },
  {
   "cell_type": "code",
   "execution_count": null,
   "metadata": {},
   "outputs": [],
   "source": [
    "    def em(self):\n",
    "        command = f\"\"\"\n",
    "gmx -quiet grompp \\\n",
    "-f  {self.md_config} \\\n",
    "-p {self.top} \\\n",
    "-c {self.box} \\\n",
    "-maxwarn 5 \\\n",
    "-o {self.MD}/system.tpr \\\n",
    "-po {self.MD}/config.mdp\n",
    "\n",
    "gmx -quiet mdrun \\\n",
    "-s {self.MD}/system.tpr \\\n",
    "-c {self.MD}/box.gro \\\n",
    "-deffnm {self.MD} \\\n",
    "-v \\\n",
    "-pin on \\\n",
    "-ntmpi {self.mpi}\n",
    "\"\"\"\n",
    "        os.system(command)"
   ]
  },
  {
   "cell_type": "code",
   "execution_count": null,
   "metadata": {},
   "outputs": [],
   "source": [
    "command = \"\"\"\n",
    "gmx -quiet grompp \\\n",
    "-f  tests/0configs/em.mdp \\\n",
    "-c tests/0box_min/box.gro \\\n",
    "-p tests/0box_min/box.top \\\n",
    "-maxwarn 5 \\\n",
    "-o tests/1EM/em.tpr \\\n",
    "-po tests/1EM/em.mdp\n",
    "\n",
    "gmx -quiet mdrun \\\n",
    "-v \\\n",
    "-deffnm tests/1EM/em \\\n",
    "-s tests/1EM/em.tpr \\\n",
    "-pin on \\\n",
    "-ntmpi 5\n",
    "\"\"\"\n",
    "os.system(command)"
   ]
  },
  {
   "cell_type": "code",
   "execution_count": null,
   "metadata": {},
   "outputs": [],
   "source": [
    "# Parametrize\n",
    "dirs = tqdm(os.listdir('boxes'))\n",
    "\n",
    "for box_path in dirs:\n",
    "    load_path = Path('boxes') / Path(box_path)\n",
    "    save_path = Path('systems') / load_path.stem\n",
    "\n",
    "    if save_path.exists():\n",
    "        continue\n",
    "    dirs.set_description(f'{load_path.stem:30}')\n",
    "    box = Box.load(load_path)\n",
    "    box.parametrize()\n",
    "    box.minimaze()\n",
    "\n",
    "\n",
    "    save_path.mkdir(parents=True, exist_ok=True)\n",
    "    box.box.to_file((save_path / Path('top.pdb')).as_posix())\n",
    "    system = box.create_system()\n",
    "    with open(save_path / Path('system.xml'), 'w') as output:\n",
    "        output.write(openmm.XmlSerializer.serialize(system))"
   ]
  }
 ],
 "metadata": {
  "kernelspec": {
   "display_name": "MolModel",
   "language": "python",
   "name": "python3"
  },
  "language_info": {
   "codemirror_mode": {
    "name": "ipython",
    "version": 3
   },
   "file_extension": ".py",
   "mimetype": "text/x-python",
   "name": "python",
   "nbconvert_exporter": "python",
   "pygments_lexer": "ipython3",
   "version": "3.10.13"
  }
 },
 "nbformat": 4,
 "nbformat_minor": 2
}

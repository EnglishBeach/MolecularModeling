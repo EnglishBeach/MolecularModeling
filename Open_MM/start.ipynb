{
 "cells": [
  {
   "cell_type": "code",
   "execution_count": 1,
   "metadata": {},
   "outputs": [
    {
     "data": {
      "application/vnd.jupyter.widget-view+json": {
       "model_id": "78bc24e8ff6145eaa2df9a12169494bc",
       "version_major": 2,
       "version_minor": 0
      },
      "text/plain": []
     },
     "metadata": {},
     "output_type": "display_data"
    }
   ],
   "source": [
    "import nglview as nv\n",
    "import parmed as pmd\n",
    "\n",
    "from openmm import app as mm\n",
    "import openmm  as omm\n",
    " \n",
    "from openmm import unit as u"
   ]
  },
  {
   "cell_type": "code",
   "execution_count": 2,
   "metadata": {},
   "outputs": [],
   "source": [
    "butanol = mm.PDBFile('..\\Open_MM\\Butanol-1\\Structure.pdb')\n"
   ]
  }
 ],
 "metadata": {
  "kernelspec": {
   "display_name": "Python 3.10.13 ('MolModel')",
   "language": "python",
   "name": "python3"
  },
  "language_info": {
   "codemirror_mode": {
    "name": "ipython",
    "version": 3
   },
   "file_extension": ".py",
   "mimetype": "text/x-python",
   "name": "python",
   "nbconvert_exporter": "python",
   "pygments_lexer": "ipython3",
   "version": "3.10.13"
  },
  "orig_nbformat": 4,
  "vscode": {
   "interpreter": {
    "hash": "0c0cd37d546db45a4051ffc8993118703e2d48d926c0dcd391819f41c5b1181f"
   }
  }
 },
 "nbformat": 4,
 "nbformat_minor": 2
}

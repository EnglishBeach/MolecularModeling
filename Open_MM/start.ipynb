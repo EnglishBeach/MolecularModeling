{
 "cells": [
  {
   "cell_type": "code",
   "execution_count": 1,
   "metadata": {},
   "outputs": [
    {
     "name": "stderr",
     "output_type": "stream",
     "text": [
      "d:\\CondaEnvs\\MolModel\\lib\\site-packages\\mbuild\\recipes\\__init__.py:13: DeprecationWarning: SelectableGroups dict interface is deprecated. Use select.\n",
      "  entry_points = metadata.entry_points()[\"mbuild.plugins\"]\n"
     ]
    }
   ],
   "source": [
    "import warnings\n",
    "\n",
    "warnings.filterwarnings(action='ignore', category=DeprecationWarning)\n",
    "\n",
    "import sys\n",
    "import numpy as np\n",
    "\n",
    "import mbuild\n",
    "import foyer\n",
    "\n",
    "import parmed\n",
    "import parmed.unit as u\n",
    "\n",
    "import openmm.app\n",
    "import openmm \n",
    "\n",
    "import pandas as pd\n",
    "import matplotlib.pyplot as plt"
   ]
  },
  {
   "cell_type": "code",
   "execution_count": null,
   "metadata": {},
   "outputs": [],
   "source": [
    "class MSDReporter:\n",
    "    def __init__(self, interval, simulation, dt):\n",
    "        self.interval = interval\n",
    "        state0 = simulation.context.getState(getPositions=True,\n",
    "                                             enforcePeriodicBox=False)\n",
    "        self.x0 = state0.getPositions(asNumpy=True).value_in_unit(u.centimeter)\n",
    "        self.dt = dt.value_in_unit(u.second)\n",
    "        self.label = dict(Time=[], MSD=[])\n",
    "\n",
    "    def describeNextReport(self, simulation):\n",
    "        steps = self.interval - simulation.currentStep % self.interval\n",
    "        return (steps, True, False, False, False, False)\n",
    "\n",
    "    def report(self, simulation, state):\n",
    "        x = state.getPositions(asNumpy=True).value_in_unit(u.centimeter)\n",
    "        msd = np.mean(np.linalg.norm((x - self.x0), axis=1)**2)\n",
    "        time = state.getStepCount() * self.dt\n",
    "        self.label['Time'].append(time)\n",
    "        self.label['MSD'].append(msd)"
   ]
  },
  {
   "cell_type": "code",
   "execution_count": null,
   "metadata": {},
   "outputs": [],
   "source": [
    "# butanol1 = parmed.load_file(r'Butanol-1\\Structure.pdb')\n",
    "# _ff = foyer.Forcefield(r'Butanol-1\\FF.xml')\n",
    "# # _ff = foyer.forcefields.load_OPLSAA()\n",
    "# butanol1 = _ff.apply(butanol1)"
   ]
  },
  {
   "cell_type": "code",
   "execution_count": 2,
   "metadata": {},
   "outputs": [
    {
     "name": "stderr",
     "output_type": "stream",
     "text": [
      "d:\\CondaEnvs\\MolModel\\lib\\site-packages\\mbuild\\compound.py:2829: UserWarning: Performing energy minimization using the Open Babel package. Please refer to the documentation to find the appropriate citations for Open Babel and the UFF force field\n",
      "  warn(\n"
     ]
    }
   ],
   "source": [
    "oplsaa = foyer.forcefields.load_OPLSAA()\n",
    "\n",
    "# butanol1 = mbuild.load(r'Butanol-1\\Structure_simple.pdb')\n",
    "butanol1 = mbuild.load('CCCCO',smiles=True)\n",
    "butanol1.energy_minimize()\n",
    "butanol1.name = 'Butanol'\n",
    "\n",
    "ocm2 = mbuild.load(r'OCM-2\\Structure_simple.pdb')\n",
    "ocm2 = mbuild.load('CC(C)C(OCCOC(OCCOCCOC(OCCOC(C(C)C)=O)=O)=O)=O',smiles=True)\n",
    "ocm2.energy_minimize()\n",
    "ocm2.name = 'OCM'"
   ]
  },
  {
   "cell_type": "code",
   "execution_count": 3,
   "metadata": {},
   "outputs": [
    {
     "name": "stdout",
     "output_type": "stream",
     "text": [
      "Build butanol-1 box\n",
      "Build ocm-2 box\n",
      "Appling on butanol\n"
     ]
    },
    {
     "name": "stderr",
     "output_type": "stream",
     "text": [
      "d:\\CondaEnvs\\MolModel\\lib\\site-packages\\foyer\\forcefield.py:349: UserWarning: Parameters have not been assigned to all impropers. Total system impropers: 1600, Parameterized impropers: 0. Note that if your system contains torsions of Ryckaert-Bellemans functional form, all of these torsions are processed as propers\n",
      "  warnings.warn(msg)\n"
     ]
    },
    {
     "name": "stdout",
     "output_type": "stream",
     "text": [
      "Appling on ocm\n"
     ]
    },
    {
     "name": "stderr",
     "output_type": "stream",
     "text": [
      "d:\\CondaEnvs\\MolModel\\lib\\site-packages\\foyer\\forcefield.py:349: UserWarning: Parameters have not been assigned to all impropers. Total system impropers: 6000, Parameterized impropers: 0. Note that if your system contains torsions of Ryckaert-Bellemans functional form, all of these torsions are processed as propers\n",
      "  warnings.warn(msg)\n",
      "d:\\CondaEnvs\\MolModel\\lib\\site-packages\\foyer\\forcefield.py:926: UserWarning: Parametrized structure has non-zero charge.Structure's total charge: -16.000000000000284\n",
      "  warnings.warn(\n"
     ]
    },
    {
     "name": "stdout",
     "output_type": "stream",
     "text": [
      "Combining\n"
     ]
    }
   ],
   "source": [
    "## Combined box structure\n",
    "print('Build butanol-1 box')\n",
    "box_but = mbuild.Box([5, 5, 5])\n",
    "\n",
    "box_but2 = mbuild.fill_box(\n",
    "    box=box_but,\n",
    "    compound=butanol1,\n",
    "    n_compounds=100,\n",
    ")\n",
    "print('Build ocm-2 box')\n",
    "box_ocm = mbuild.Box([5, 5, 5])\n",
    "box_ocm2 = mbuild.fill_box(\n",
    "    box=box_ocm,\n",
    "    compound=ocm2,\n",
    "    n_compounds=100,\n",
    ")\n",
    "\n",
    "print('Appling on butanol')\n",
    "box_but3 = oplsaa.apply(box_but2)\n",
    "\n",
    "print('Appling on ocm')\n",
    "box_ocm3 = oplsaa.apply(box_ocm2)\n",
    "\n",
    "print('Combining')\n",
    "structure = box_ocm3 + box_but3"
   ]
  },
  {
   "cell_type": "code",
   "execution_count": null,
   "metadata": {},
   "outputs": [],
   "source": [
    "## Filled box structure\n",
    "# box = mbuild.fill_box(\n",
    "#     compound=[butanol1,ocm2],\n",
    "#     compound_ratio=[0.5,0.5],\n",
    "#     box=[5,5,5],\n",
    "#     density=1000\n",
    "# )\n",
    "\n",
    "box = mbuild.Box([5, 5, 5])\n",
    "box2 = mbuild.fill_box(\n",
    "    compound=ocm2,\n",
    "    n_compounds=100,\n",
    "    box=box,\n",
    ")\n",
    "box3 = mbuild.solvate(solute=box2, solvent=butanol1, n_solvent=100, box=box)\n",
    "structure = oplsaa.apply(box3)"
   ]
  },
  {
   "cell_type": "code",
   "execution_count": null,
   "metadata": {},
   "outputs": [],
   "source": [
    "structure.save('initial.pdb')"
   ]
  },
  {
   "cell_type": "code",
   "execution_count": 4,
   "metadata": {},
   "outputs": [],
   "source": [
    "structure.residues[0].name='ocm'\n",
    "structure.residues[1].name='butanol'"
   ]
  },
  {
   "cell_type": "code",
   "execution_count": 52,
   "metadata": {},
   "outputs": [],
   "source": [
    "system = structure.createSystem(\n",
    "    nonbondedMethod=openmm.app.PME,\n",
    "    constraints=None,\n",
    "    # implicitSolvent=openmm.app.GBn2,\n",
    "    implicitSolventSaltConc=0.1 * u.moles / u.liter,\n",
    "    removeCMMotion=True,\n",
    ")\n"
   ]
  },
  {
   "cell_type": "code",
   "execution_count": 53,
   "metadata": {},
   "outputs": [],
   "source": [
    "integrator = openmm.LangevinIntegrator(\n",
    "    300 * u.kelvin,  # Temperature of heat bath\n",
    "    1.0 / u.picoseconds,  # Friction coefficient\n",
    "    2.0 * u.femtoseconds,  # Time step\n",
    ")\n",
    "simulation = openmm.app.Simulation(\n",
    "    structure.topology,\n",
    "    system,\n",
    "    integrator,\n",
    "    openmm.Platform.getPlatformByName('CUDA'),\n",
    ")\n",
    "simulation.context.setPositions(structure.positions)\n",
    "simulation.minimizeEnergy(maxIterations=500)"
   ]
  },
  {
   "cell_type": "code",
   "execution_count": 54,
   "metadata": {},
   "outputs": [],
   "source": [
    "simulation.reporters.append(\n",
    "    openmm.app.StateDataReporter(\n",
    "        sys.stdout,\n",
    "        10000,\n",
    "        step=True,\n",
    "        # potentialEnergy=True,\n",
    "        # kineticEnergy=True,\n",
    "        # temperature=True,\n",
    "    ))\n",
    "\n",
    "rep_D = openmm.app.DCDReporter(\n",
    "    'traj.dcd',\n",
    "    100,\n",
    "    # enforcePeriodicBox=False,\n",
    ")\n",
    "simulation.reporters.append(rep_D)\n",
    "\n",
    "rep_pdb = openmm.app.PDBReporter('system.pdb',100)\n",
    "simulation.reporters.append(rep_pdb)\n",
    "\n",
    "# rep_old = MSDReporter(100, simulation, 2.0 * u.femtosecond)\n",
    "# simulation.reporters.append(rep_old)"
   ]
  },
  {
   "cell_type": "code",
   "execution_count": 55,
   "metadata": {},
   "outputs": [
    {
     "name": "stdout",
     "output_type": "stream",
     "text": [
      "#\"Step\"\n",
      "10000\n",
      "20000\n",
      "30000\n",
      "40000\n",
      "50000\n",
      "60000\n",
      "70000\n",
      "80000\n",
      "90000\n",
      "100000\n",
      "110000\n",
      "120000\n",
      "130000\n",
      "140000\n",
      "150000\n",
      "160000\n",
      "170000\n",
      "180000\n",
      "190000\n",
      "200000\n",
      "210000\n",
      "220000\n",
      "230000\n",
      "240000\n",
      "250000\n",
      "260000\n",
      "270000\n",
      "280000\n",
      "290000\n",
      "300000\n",
      "310000\n",
      "320000\n",
      "330000\n",
      "340000\n",
      "350000\n",
      "360000\n",
      "370000\n",
      "380000\n",
      "390000\n",
      "400000\n",
      "410000\n",
      "420000\n",
      "430000\n",
      "440000\n",
      "450000\n",
      "460000\n",
      "470000\n",
      "480000\n",
      "490000\n",
      "500000\n",
      "510000\n",
      "520000\n",
      "530000\n",
      "540000\n",
      "550000\n",
      "560000\n",
      "570000\n",
      "580000\n",
      "590000\n",
      "600000\n",
      "610000\n",
      "620000\n",
      "630000\n",
      "640000\n",
      "650000\n",
      "660000\n",
      "670000\n",
      "680000\n",
      "690000\n",
      "700000\n",
      "710000\n",
      "720000\n",
      "730000\n",
      "740000\n",
      "750000\n",
      "760000\n",
      "770000\n",
      "780000\n",
      "790000\n",
      "800000\n",
      "810000\n",
      "820000\n",
      "830000\n",
      "840000\n",
      "850000\n",
      "860000\n",
      "870000\n",
      "880000\n",
      "890000\n",
      "900000\n",
      "910000\n",
      "920000\n",
      "930000\n",
      "940000\n",
      "950000\n",
      "960000\n",
      "970000\n",
      "980000\n",
      "990000\n",
      "1000000\n"
     ]
    }
   ],
   "source": [
    "simulation.step(1000000)"
   ]
  },
  {
   "cell_type": "code",
   "execution_count": 11,
   "metadata": {},
   "outputs": [
    {
     "data": {
      "text/plain": [
       "90470"
      ]
     },
     "execution_count": 11,
     "metadata": {},
     "output_type": "execute_result"
    }
   ],
   "source": [
    "simulation.currentStep"
   ]
  },
  {
   "cell_type": "markdown",
   "metadata": {},
   "source": [
    "# trajectory"
   ]
  },
  {
   "cell_type": "code",
   "execution_count": 57,
   "metadata": {},
   "outputs": [],
   "source": [
    "import mdtraj"
   ]
  },
  {
   "cell_type": "code",
   "execution_count": 56,
   "metadata": {},
   "outputs": [
    {
     "ename": "NameError",
     "evalue": "name 'mdtraj' is not defined",
     "output_type": "error",
     "traceback": [
      "\u001b[1;31m---------------------------------------------------------------------------\u001b[0m",
      "\u001b[1;31mNameError\u001b[0m                                 Traceback (most recent call last)",
      "Cell \u001b[1;32mIn[56], line 1\u001b[0m\n\u001b[1;32m----> 1\u001b[0m trajectory \u001b[39m=\u001b[39m mdtraj\u001b[39m.\u001b[39mload_pdb(\u001b[39m'\u001b[39m\u001b[39msystem.pdb\u001b[39m\u001b[39m'\u001b[39m)\n",
      "\u001b[1;31mNameError\u001b[0m: name 'mdtraj' is not defined"
     ]
    }
   ],
   "source": [
    "trajectory = mdtraj.load_pdb('system.pdb')"
   ]
  },
  {
   "cell_type": "code",
   "execution_count": null,
   "metadata": {},
   "outputs": [],
   "source": [
    "trajectory.superpose()"
   ]
  },
  {
   "cell_type": "code",
   "execution_count": null,
   "metadata": {},
   "outputs": [],
   "source": [
    "a= mdtraj.rmsd(trajectory,trajectory,0)"
   ]
  },
  {
   "cell_type": "code",
   "execution_count": null,
   "metadata": {},
   "outputs": [],
   "source": [
    "trajectory"
   ]
  },
  {
   "cell_type": "markdown",
   "metadata": {},
   "source": [
    "# trajectory2"
   ]
  },
  {
   "cell_type": "code",
   "execution_count": 58,
   "metadata": {},
   "outputs": [],
   "source": [
    "import MDAnalysis\n",
    "import MDAnalysis.analysis.rms"
   ]
  },
  {
   "cell_type": "code",
   "execution_count": 59,
   "metadata": {},
   "outputs": [],
   "source": [
    "trajectory = MDAnalysis.Universe('system.pdb')\n",
    "# trajectory=MDAnalysis.Universe(simulation)"
   ]
  },
  {
   "cell_type": "code",
   "execution_count": 40,
   "metadata": {},
   "outputs": [
    {
     "data": {
      "text/plain": [
       "[<Residue ocm, 1>, <Residue but, 2>]"
      ]
     },
     "execution_count": 40,
     "metadata": {},
     "output_type": "execute_result"
    }
   ],
   "source": [
    "list(trajectory.residues)"
   ]
  },
  {
   "cell_type": "code",
   "execution_count": 60,
   "metadata": {},
   "outputs": [
    {
     "data": {
      "text/plain": [
       "<PDBReader system.pdb with 10000 frames of 7400 atoms>"
      ]
     },
     "execution_count": 60,
     "metadata": {},
     "output_type": "execute_result"
    }
   ],
   "source": [
    "trajectory.trajectory"
   ]
  },
  {
   "cell_type": "code",
   "execution_count": 61,
   "metadata": {},
   "outputs": [],
   "source": [
    "RMSD_analysis = MDAnalysis.analysis.rms.RMSD(\n",
    "    trajectory,\n",
    "    trajectory,\n",
    "    # select=\"backbone\",\n",
    "    groupselections=[\"resid 1\", \"resid 2\"])"
   ]
  },
  {
   "cell_type": "code",
   "execution_count": 62,
   "metadata": {},
   "outputs": [
    {
     "name": "stderr",
     "output_type": "stream",
     "text": [
      "d:\\CondaEnvs\\MolModel\\lib\\site-packages\\MDAnalysis\\analysis\\base.py:447: UserWarning: Reader has no dt information, set to 1.0 ps\n",
      "  self.times[i] = ts.time\n",
      "d:\\CondaEnvs\\MolModel\\lib\\site-packages\\MDAnalysis\\coordinates\\base.py:753: UserWarning: Reader has no dt information, set to 1.0 ps\n",
      "  return self.ts.time\n"
     ]
    },
    {
     "data": {
      "text/plain": [
       "<MDAnalysis.analysis.rms.RMSD at 0x1108dc2c4c0>"
      ]
     },
     "execution_count": 62,
     "metadata": {},
     "output_type": "execute_result"
    }
   ],
   "source": [
    "RMSD_analysis.run()"
   ]
  },
  {
   "cell_type": "code",
   "execution_count": 63,
   "metadata": {},
   "outputs": [],
   "source": [
    "result = RMSD_analysis.results.rmsd.T"
   ]
  },
  {
   "cell_type": "code",
   "execution_count": 64,
   "metadata": {},
   "outputs": [],
   "source": [
    "step = result[0]\n",
    "time = result[1]\n",
    "msd_all = result[2]\n",
    "msd_ocm = result[3]\n",
    "msd_but = result[4]"
   ]
  },
  {
   "cell_type": "code",
   "execution_count": 65,
   "metadata": {},
   "outputs": [
    {
     "data": {
      "text/plain": [
       "<matplotlib.legend.Legend at 0x1108b99da80>"
      ]
     },
     "execution_count": 65,
     "metadata": {},
     "output_type": "execute_result"
    },
    {
     "data": {
      "image/png": "[encoded data removed]",
      "text/plain": [
       "<Figure size 640x480 with 1 Axes>"
      ]
     },
     "metadata": {},
     "output_type": "display_data"
    }
   ],
   "source": [
    "plt.plot(time, msd_all, 'b--', label=\"all\")\n",
    "plt.plot(time, msd_ocm, 'r', label=\"OCM-2\")\n",
    "plt.plot(time, msd_but, 'g', label=\"Butanol-1\")\n",
    "plt.legend()"
   ]
  },
  {
   "cell_type": "code",
   "execution_count": 66,
   "metadata": {},
   "outputs": [],
   "source": [
    "from scipy.stats import linregress"
   ]
  },
  {
   "cell_type": "code",
   "execution_count": 67,
   "metadata": {},
   "outputs": [
    {
     "name": "stdout",
     "output_type": "stream",
     "text": [
      "0.00014818384425891717 0.00019555888516038455 0.00015734848317974816\n"
     ]
    }
   ],
   "source": [
    "regress = linregress(time,msd_ocm)\n",
    "D_A = regress.slope/6\n",
    "\n",
    "regress = linregress(time,msd_but)\n",
    "D_B = regress.slope/6\n",
    "\n",
    "regress = linregress(time,msd_all)\n",
    "D_all = regress.slope/6\n",
    "print(D_A,D_B,D_all)"
   ]
  }
 ],
 "metadata": {
  "kernelspec": {
   "display_name": "Python 3.10.13 ('MolModel')",
   "language": "python",
   "name": "python3"
  },
  "language_info": {
   "codemirror_mode": {
    "name": "ipython",
    "version": 3
   },
   "file_extension": ".py",
   "mimetype": "text/x-python",
   "name": "python",
   "nbconvert_exporter": "python",
   "pygments_lexer": "ipython3",
   "version": "3.10.13"
  },
  "orig_nbformat": 4,
  "vscode": {
   "interpreter": {
    "hash": "0c0cd37d546db45a4051ffc8993118703e2d48d926c0dcd391819f41c5b1181f"
   }
  }
 },
 "nbformat": 4,
 "nbformat_minor": 2
}

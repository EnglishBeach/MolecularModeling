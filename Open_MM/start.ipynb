{
 "cells": [
  {
   "cell_type": "code",
   "execution_count": 15,
   "metadata": {},
   "outputs": [],
   "source": [
    "import warnings\n",
    "warnings.simplefilter(action='ignore',category=DeprecationWarning)\n",
    "# warnings.simplefilter(action='ignore', category=)\n",
    "import mbuild \n",
    "import foyer\n",
    "\n",
    "import parmed\n",
    "import parmed.unit as u\n",
    "\n",
    "from openmm import app as mm\n",
    "import openmm  as omm"
   ]
  },
  {
   "cell_type": "code",
   "execution_count": null,
   "metadata": {},
   "outputs": [],
   "source": [
    "butanol1 = parmed.load_file(r'Butanol-1\\Structure.pdb')\n",
    "_ff = foyer.Forcefield(r'Butanol-1\\FF.xml')\n",
    "# _ff = foyer.forcefields.load_OPLSAA()\n",
    "butanol1 = _ff.apply(butanol1)"
   ]
  },
  {
   "cell_type": "code",
   "execution_count": null,
   "metadata": {},
   "outputs": [],
   "source": [
    "print(foyer.forcefields.get_forcefield_paths()[0])"
   ]
  },
  {
   "cell_type": "code",
   "execution_count": 61,
   "metadata": {},
   "outputs": [],
   "source": [
    "oplsaa= foyer.forcefields.load_OPLSAA()\n",
    "\n",
    "butanol1= mbuild.load(r'Butanol-1\\Structure_simple.pdb')\n",
    "butanol1.energy_minimize()\n",
    "butanol1.name='Butanol'\n",
    "\n",
    "ocm2= mbuild.load(r'OCM-2\\Structure_simple.pdb')\n",
    "ocm2.energy_minimize()\n",
    "ocm2.name='OCM'\n"
   ]
  },
  {
   "cell_type": "markdown",
   "metadata": {},
   "source": [
    "# Combine box"
   ]
  },
  {
   "cell_type": "code",
   "execution_count": 79,
   "metadata": {},
   "outputs": [],
   "source": [
    "box_but = mbuild.Box([2,2,2])\n",
    "\n",
    "box_but2 = mbuild.fill_box(\n",
    "    box=box_but,\n",
    "    compound=butanol1,\n",
    "    n_compounds=100,\n",
    ")\n",
    "\n",
    "box_ocm = mbuild.Box([2,2,2])\n",
    "box_ocm2 = mbuild.fill_box(\n",
    "    box=box_ocm,\n",
    "    compound=ocm2,\n",
    "    n_compounds=100\n",
    ")"
   ]
  },
  {
   "cell_type": "code",
   "execution_count": 65,
   "metadata": {},
   "outputs": [
    {
     "name": "stdout",
     "output_type": "stream",
     "text": [
      "**\n"
     ]
    }
   ],
   "source": [
    "box_but3 = oplsaa.apply(box_but2)\n",
    "print('**')\n",
    "box_ocm3 = oplsaa.apply(box_ocm2)"
   ]
  },
  {
   "cell_type": "code",
   "execution_count": 66,
   "metadata": {},
   "outputs": [],
   "source": [
    "box_all=box_ocm3+box_but3"
   ]
  },
  {
   "cell_type": "code",
   "execution_count": 71,
   "metadata": {},
   "outputs": [],
   "source": [
    "system = box_all.createSystem(nonbondedMethod=mm.NoCutoff,\n",
    "                    constraints=mm.HBonds,\n",
    "                    implicitSolvent=mm.GBn2,\n",
    "                    implicitSolventSaltConc=0.1 * u.moles / u.liter,)"
   ]
  },
  {
   "cell_type": "code",
   "execution_count": 73,
   "metadata": {},
   "outputs": [],
   "source": [
    "integrator = omm.LangevinIntegrator(\n",
    "                        300*u.kelvin,       # Temperature of heat bath\n",
    "                        1.0/u.picoseconds,  # Friction coefficient\n",
    "                        2.0*u.femtoseconds, # Time step\n",
    ")\n",
    "\n",
    "simulation = mm.Simulation(box_all.topology,system,integrator,omm.Platform.getPlatformByName('CUDA'))\n",
    "simulation.context.setPositions( box_all.positions)"
   ]
  },
  {
   "cell_type": "code",
   "execution_count": 74,
   "metadata": {},
   "outputs": [],
   "source": [
    "simulation.minimizeEnergy(maxIterations=500)"
   ]
  },
  {
   "cell_type": "code",
   "execution_count": 78,
   "metadata": {},
   "outputs": [],
   "source": [
    "## Writing pdb with connections\n",
    "positions = simulation.context.getState(getPositions=True).getPositions()\n",
    "mm.PDBFile.writeFile(simulation.topology,positions,open('out.pdb','w'))"
   ]
  },
  {
   "cell_type": "markdown",
   "metadata": {},
   "source": [
    "# Filled box"
   ]
  },
  {
   "cell_type": "code",
   "execution_count": 24,
   "metadata": {},
   "outputs": [],
   "source": [
    "# box = mbuild.fill_box(\n",
    "#     compound=[butanol1,ocm2],\n",
    "#     compound_ratio=[0.5,0.5],\n",
    "#     box=[5,5,5],\n",
    "#     density=1000\n",
    "# )\n",
    "\n",
    "box = mbuild.Box([5,5,5])\n",
    "box2 = mbuild.fill_box(\n",
    "    compound=ocm2,\n",
    "    n_compounds=100,\n",
    "    box=box,\n",
    ")\n",
    "box3 = mbuild.solvate(solute=box2, solvent=butanol1, n_solvent=100, box=box)\n"
   ]
  },
  {
   "cell_type": "code",
   "execution_count": 41,
   "metadata": {},
   "outputs": [],
   "source": [
    "system = oplsaa.apply(box3)"
   ]
  },
  {
   "cell_type": "code",
   "execution_count": 58,
   "metadata": {},
   "outputs": [],
   "source": [
    "class MSDReporter:\n",
    "    def __init__(self, interval, simulation, dt):\n",
    "        self.interval = interval\n",
    "        state0 = simulation.context.getState(getPositions=True, enforcePeriodicBox=False)\n",
    "        self.x0 = state0.getPositions(asNumpy=True).value_in_unit(u.centimeter)\n",
    "        self.dt = dt.value_in_unit(u.second)\n",
    "        self.label = dict(Time=[], MSD=[])\n",
    "\n",
    "    def describeNextReport(self, simulation):\n",
    "        steps = self.interval - simulation.currentStep % self.interval\n",
    "        return (steps, True, False, False, False, False)\n",
    "\n",
    "    def report(self, simulation, state):\n",
    "        x = state.getPositions(asNumpy=True).value_in_unit(u.centimeter)\n",
    "        msd = np.mean(np.linalg.norm((x - self.x0), axis=1) ** 2)\n",
    "        time = state.getStepCount() * self.dt\n",
    "        self.label['Time'].append(time)\n",
    "        self.label['MSD'].append(msd)"
   ]
  },
  {
   "cell_type": "code",
   "execution_count": 67,
   "metadata": {},
   "outputs": [],
   "source": [
    "system2 = system.createSystem(nonbondedMethod=mm.NoCutoff,\n",
    "                    constraints=mm.HBonds,\n",
    "                    implicitSolvent=mm.GBn2,\n",
    "                    implicitSolventSaltConc=0.1 * u.moles / u.liter,)\n",
    "integrator = omm.LangevinIntegrator(\n",
    "                        300*u.kelvin,       # Temperature of heat bath\n",
    "                        1.0/u.picoseconds,  # Friction coefficient\n",
    "                        2.0*u.femtoseconds, # Time step\n",
    ")\n",
    "platform = omm.Platform.getPlatformByName('CUDA')\n",
    "simulation = mm.Simulation(system.topology,system2,integrator,platform)\n",
    "simulation.context.setPositions( system.positions)"
   ]
  },
  {
   "cell_type": "code",
   "execution_count": 68,
   "metadata": {},
   "outputs": [],
   "source": [
    "simulation.minimizeEnergy(maxIterations=500)"
   ]
  },
  {
   "cell_type": "code",
   "execution_count": 57,
   "metadata": {},
   "outputs": [],
   "source": [
    "import sys\n",
    "import numpy as np"
   ]
  },
  {
   "cell_type": "code",
   "execution_count": 70,
   "metadata": {},
   "outputs": [],
   "source": [
    "rep = MSDReporter(100,simulation,2.0*u.femtosecond)\n",
    "simulation.reporters.append(rep)\n",
    "simulation.reporters.append(mm.StateDataReporter(sys.stdout, 100, step=True, potentialEnergy=True,\n",
    "                              kineticEnergy=True, temperature=True,))\n"
   ]
  },
  {
   "cell_type": "code",
   "execution_count": 71,
   "metadata": {},
   "outputs": [
    {
     "data": {
      "text/plain": [
       "[<__main__.MSDReporter at 0x25edfcbae60>,\n",
       " <openmm.app.statedatareporter.StateDataReporter at 0x25ee4bff790>]"
      ]
     },
     "execution_count": 71,
     "metadata": {},
     "output_type": "execute_result"
    }
   ],
   "source": [
    "simulation.reporters"
   ]
  },
  {
   "cell_type": "code",
   "execution_count": 74,
   "metadata": {},
   "outputs": [
    {
     "name": "stdout",
     "output_type": "stream",
     "text": [
      "1100,-20377.673828125,16384.848388609244,268.16959960754554\n",
      "1200,-20043.359375,16721.023176615592,273.67174745533936\n",
      "1300,-19464.6953125,16840.309735114686,275.6241017202408\n",
      "1400,-19474.9140625,17247.90064752847,282.29511198492327\n",
      "1500,-18841.76171875,17208.61859641294,281.65218556475946\n",
      "1600,-18794.21484375,17478.938746951986,286.076495440358\n",
      "1700,-18489.90234375,17596.657746359007,288.0031935817413\n",
      "1800,-18665.787109375,17704.635876881657,289.7704636438043\n",
      "1900,-18850.13671875,17995.36294832034,294.52877208179916\n",
      "2000,-18797.865234375,17938.343877994805,293.5955451823777\n",
      "2100,-18546.0,17671.744853868615,289.2321387070767\n",
      "2200,-18666.30078125,17805.172695224406,291.4159423007527\n",
      "2300,-18500.203125,18027.015226644464,295.046822575983\n",
      "2400,-18121.046875,17954.756594394334,293.86417089565515\n",
      "2500,-18114.1484375,17971.810690203216,294.14329401820515\n",
      "2600,-18011.84375,18302.79569047969,299.5605009947403\n",
      "2700,-18163.3828125,18487.74103981466,302.58748782453097\n",
      "2800,-17849.65625,17952.026390000246,293.81948584262057\n",
      "2900,-18193.5625,18428.47665635182,301.61751205134857\n",
      "3000,-18388.857421875,18350.670180917718,300.34405923267354\n",
      "3100,-18072.541015625,18123.92309723096,296.63290651387695\n",
      "3200,-18191.6328125,18627.416329410393,304.8735429406708\n",
      "3300,-18329.095703125,18591.580630980898,304.2870227195759\n",
      "3400,-17660.751953125,18329.242957236245,299.99336145024205\n",
      "3500,-17793.287109375,18329.19520274675,299.9925798560506\n",
      "3600,-18042.154296875,18263.412884712918,298.9159255306647\n",
      "3700,-18048.48046875,18383.076393375173,300.87444931095797\n",
      "3800,-18350.6953125,18840.86899461411,308.3671068971514\n",
      "3900,-18007.84375,18594.301879188977,304.33156118737764\n",
      "4000,-18191.671875,18598.349837011425,304.39781381314066\n",
      "4100,-18307.34375,18679.12544445414,305.7198621954149\n",
      "4200,-18525.953125,18747.675654492574,306.8418184041644\n",
      "4300,-18504.90625,18860.299261670094,308.6851206384499\n",
      "4400,-18290.73046875,18573.132900058758,303.9850900743829\n",
      "4500,-18333.455078125,18589.34492125362,304.25043102411536\n",
      "4600,-18155.515625,18284.38685377175,299.2592049282695\n",
      "4700,-17999.185546875,18166.934657486738,297.3368735338164\n",
      "4800,-18507.34375,18457.246797424392,302.08839081867654\n",
      "4900,-18460.125,18347.79672778002,300.2970296380657\n",
      "5000,-18101.875,18072.544062237954,295.79198965486745\n",
      "5100,-18383.98828125,18228.129554636078,298.3384458814721\n",
      "5200,-18528.16015625,18401.48028016265,301.1756643624473\n",
      "5300,-18437.53515625,18413.906532124383,301.3790439076323\n",
      "5400,-18252.673828125,18300.36749482667,299.5207588963947\n",
      "5500,-18239.6953125,18405.913235596614,301.24821821559317\n",
      "5600,-18766.595703125,18286.32805236266,299.2909763817817\n",
      "5700,-18356.587890625,17908.888638022123,293.11345345211123\n",
      "5800,-18650.744140625,17963.379838070832,294.0053068860042\n",
      "5900,-18632.51953125,18048.641598599963,295.40077980346047\n",
      "6000,-18560.025390625,17869.083554560784,292.46196660029557\n",
      "6100,-18675.58984375,18173.05458095437,297.4370378677802\n",
      "6200,-18932.7265625,18373.355161981657,300.71534263699544\n",
      "6300,-18693.6328125,18091.297868811525,296.09893181756996\n",
      "6400,-18745.08203125,18331.73726519174,300.03418560374394\n",
      "6500,-18868.255859375,18480.99313253397,302.47704532602677\n",
      "6600,-18405.35546875,18092.694801657926,296.1217953139669\n",
      "6700,-18755.08984375,18517.87401429843,303.08067198532643\n",
      "6800,-18422.90234375,18564.299227928277,303.84051001711845\n",
      "6900,-18261.8203125,18478.5820461954,302.437583254563\n",
      "7000,-18557.96484375,18796.46457788162,307.64034309845573\n",
      "7100,-18158.2734375,18349.10037671763,300.318366363639\n",
      "7200,-18623.86328125,18594.327505393885,304.3319806095747\n",
      "7300,-18398.85546875,18177.960655884817,297.51733523267114\n",
      "7400,-18677.423828125,18013.320733788423,294.8226858260461\n",
      "7500,-18729.9140625,18579.76072000712,304.09356711241634\n",
      "7600,-18543.83203125,18350.991689714137,300.34932134332365\n",
      "7700,-18455.095703125,18474.314167406992,302.3677311986443\n",
      "7800,-18891.30078125,19112.557816528715,312.8138177157475\n",
      "7900,-18363.900390625,18223.15982885647,298.257106747849\n",
      "8000,-18323.265625,18221.110440554097,298.22356456134514\n",
      "8100,-18399.994140625,18389.828154398594,300.9849548833839\n",
      "8200,-18430.046875,18453.405697585084,302.0255238221973\n",
      "8300,-18534.724609375,18391.682933268312,301.01531191172234\n",
      "8400,-18385.82421875,18168.417038779706,297.3611355586073\n",
      "8500,-19026.630859375,18667.188562711002,305.52449213633975\n",
      "8600,-18536.58203125,18439.597032611375,301.79951842566953\n",
      "8700,-18838.40625,18770.70373566216,307.21871730249484\n",
      "8800,-18299.359375,18012.279524608515,294.8056444325427\n",
      "8900,-18600.451171875,18501.29113627784,302.8092612494044\n",
      "9000,-18452.65234375,18461.7196107395,302.16159702281\n",
      "9100,-18617.908203125,18581.942201861646,304.12927126430134\n",
      "9200,-18533.763671875,18065.65447081509,295.67922822250574\n",
      "9300,-18663.234375,18545.174878768623,303.52750321136335\n",
      "9400,-18752.55859375,18428.98429691419,301.6258205668213\n",
      "9500,-18733.83984375,18068.827201415552,295.7311560691729\n",
      "9600,-18823.630859375,18353.895498027094,300.3968477588359\n",
      "9700,-18681.267578125,18349.938827540842,300.33208922614085\n",
      "9800,-18742.328125,18500.760129852686,302.80057030658674\n",
      "9900,-18722.572265625,18648.89261103631,305.22504365084427\n",
      "10000,-18534.05859375,18078.239858339308,295.8852123276514\n"
     ]
    }
   ],
   "source": [
    "simulation.step(9000)"
   ]
  },
  {
   "cell_type": "code",
   "execution_count": 80,
   "metadata": {},
   "outputs": [],
   "source": [
    "import pandas as pd\n",
    "import matplotlib.pyplot as plt"
   ]
  },
  {
   "cell_type": "code",
   "execution_count": 79,
   "metadata": {},
   "outputs": [],
   "source": [
    "df=pd.DataFrame(rep.label)"
   ]
  },
  {
   "cell_type": "code",
   "execution_count": 82,
   "metadata": {},
   "outputs": [
    {
     "data": {
      "text/plain": [
       "[<matplotlib.lines.Line2D at 0x25ef1979150>]"
      ]
     },
     "execution_count": 82,
     "metadata": {},
     "output_type": "execute_result"
    },
    {
     "data": {
      "image/png": "[encoded data removed]",
      "text/plain": [
       "<Figure size 640x480 with 1 Axes>"
      ]
     },
     "metadata": {},
     "output_type": "display_data"
    }
   ],
   "source": [
    "plt.plot(df['Time'],df['MSD'])"
   ]
  },
  {
   "cell_type": "code",
   "execution_count": 92,
   "metadata": {},
   "outputs": [],
   "source": [
    "test_gro =parmed.gromacs.GromacsGroFile.parse(r'D:\\WORKS\\MolecularModeling\\Simple_MD\\butane\\butane.gro')"
   ]
  },
  {
   "cell_type": "code",
   "execution_count": 99,
   "metadata": {},
   "outputs": [],
   "source": [
    "test_top = parmed.gromacs.GromacsTopologyFile(r'D:\\WORKS\\MolecularModeling\\Simple_MD\\test\\box.top')"
   ]
  },
  {
   "cell_type": "code",
   "execution_count": 101,
   "metadata": {},
   "outputs": [],
   "source": [
    "test_top.box = test_gro.box\n",
    "test_top.positions = test_gro.positions"
   ]
  },
  {
   "cell_type": "code",
   "execution_count": 103,
   "metadata": {},
   "outputs": [
    {
     "data": {
      "text/plain": [
       "<Structure 15 atoms; 1 residues; 14 bonds; PBC (orthogonal); NOT parameterized>"
      ]
     },
     "execution_count": 103,
     "metadata": {},
     "output_type": "execute_result"
    }
   ],
   "source": [
    "test_gro"
   ]
  },
  {
   "cell_type": "code",
   "execution_count": null,
   "metadata": {},
   "outputs": [],
   "source": []
  },
  {
   "cell_type": "code",
   "execution_count": 109,
   "metadata": {},
   "outputs": [],
   "source": [
    "but_itp=parmed.load_file(r'D:\\WORKS\\MolecularModeling\\Simple_MD\\test\\clear\\butane_clear.itp')\n",
    "ocm_itp=parmed.load_file(r'D:\\WORKS\\MolecularModeling\\Simple_MD\\test\\clear\\ocm_crear.itp')"
   ]
  },
  {
   "cell_type": "code",
   "execution_count": 111,
   "metadata": {},
   "outputs": [],
   "source": [
    "a=but_itp+ocm_itp"
   ]
  },
  {
   "cell_type": "code",
   "execution_count": 126,
   "metadata": {},
   "outputs": [],
   "source": [
    "a.write('combined_ff2.xml')"
   ]
  },
  {
   "cell_type": "code",
   "execution_count": 127,
   "metadata": {},
   "outputs": [
    {
     "ename": "ValueError",
     "evalue": "Could not determine file type of combined_ff",
     "output_type": "error",
     "traceback": [
      "\u001b[1;31m---------------------------------------------------------------------------\u001b[0m",
      "\u001b[1;31mKeyError\u001b[0m                                  Traceback (most recent call last)",
      "File \u001b[1;32md:\\CondaEnvs\\MolModel\\lib\\site-packages\\parmed\\structure.py:1525\u001b[0m, in \u001b[0;36mStructure.save\u001b[1;34m(self, fname, format, overwrite, **kwargs)\u001b[0m\n\u001b[0;32m   1524\u001b[0m \u001b[39mtry\u001b[39;00m:\n\u001b[1;32m-> 1525\u001b[0m     \u001b[39mformat\u001b[39m \u001b[39m=\u001b[39m extmap[ext]\n\u001b[0;32m   1526\u001b[0m \u001b[39mexcept\u001b[39;00m \u001b[39mKeyError\u001b[39;00m:\n",
      "\u001b[1;31mKeyError\u001b[0m: ''",
      "\nDuring handling of the above exception, another exception occurred:\n",
      "\u001b[1;31mValueError\u001b[0m                                Traceback (most recent call last)",
      "Cell \u001b[1;32mIn[127], line 1\u001b[0m\n\u001b[1;32m----> 1\u001b[0m a\u001b[39m.\u001b[39;49msave(\u001b[39m'\u001b[39;49m\u001b[39mcombined_ff\u001b[39;49m\u001b[39m'\u001b[39;49m)\n",
      "File \u001b[1;32md:\\CondaEnvs\\MolModel\\lib\\site-packages\\parmed\\structure.py:1527\u001b[0m, in \u001b[0;36mStructure.save\u001b[1;34m(self, fname, format, overwrite, **kwargs)\u001b[0m\n\u001b[0;32m   1525\u001b[0m         \u001b[39mformat\u001b[39m \u001b[39m=\u001b[39m extmap[ext]\n\u001b[0;32m   1526\u001b[0m     \u001b[39mexcept\u001b[39;00m \u001b[39mKeyError\u001b[39;00m:\n\u001b[1;32m-> 1527\u001b[0m         \u001b[39mraise\u001b[39;00m \u001b[39mValueError\u001b[39;00m(\n\u001b[0;32m   1528\u001b[0m             \u001b[39m'\u001b[39m\u001b[39mCould not determine file type of \u001b[39m\u001b[39m%s\u001b[39;00m\u001b[39m'\u001b[39m \u001b[39m%\u001b[39m fname)\n\u001b[0;32m   1529\u001b[0m \u001b[39m# Dispatch\u001b[39;00m\n\u001b[0;32m   1530\u001b[0m \u001b[39mif\u001b[39;00m \u001b[39mformat\u001b[39m \u001b[39m==\u001b[39m \u001b[39m'\u001b[39m\u001b[39mPDB\u001b[39m\u001b[39m'\u001b[39m:\n",
      "\u001b[1;31mValueError\u001b[0m: Could not determine file type of combined_ff"
     ]
    }
   ],
   "source": [
    "a.save('combined_ff')"
   ]
  }
 ],
 "metadata": {
  "kernelspec": {
   "display_name": "Python 3.10.13 ('MolModel')",
   "language": "python",
   "name": "python3"
  },
  "language_info": {
   "codemirror_mode": {
    "name": "ipython",
    "version": 3
   },
   "file_extension": ".py",
   "mimetype": "text/x-python",
   "name": "python",
   "nbconvert_exporter": "python",
   "pygments_lexer": "ipython3",
   "version": "3.10.13"
  },
  "orig_nbformat": 4,
  "vscode": {
   "interpreter": {
    "hash": "0c0cd37d546db45a4051ffc8993118703e2d48d926c0dcd391819f41c5b1181f"
   }
  }
 },
 "nbformat": 4,
 "nbformat_minor": 2
}

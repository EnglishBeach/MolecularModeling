{
 "cells": [
  {
   "cell_type": "code",
   "execution_count": null,
   "metadata": {},
   "outputs": [],
   "source": [
    "import warnings\n",
    "\n",
    "warnings.filterwarnings(action='ignore', category=DeprecationWarning)\n",
    "\n",
    "import sys\n",
    "import numpy as np\n",
    "\n",
    "import mbuild\n",
    "import foyer\n",
    "\n",
    "import parmed\n",
    "import parmed.unit as u\n",
    "\n",
    "import openmm.app\n",
    "import openmm \n",
    "\n",
    "import pandas as pd\n",
    "import matplotlib.pyplot as plt"
   ]
  },
  {
   "cell_type": "code",
   "execution_count": null,
   "metadata": {},
   "outputs": [],
   "source": [
    "class MSDReporter:\n",
    "    def __init__(self, interval, simulation, dt):\n",
    "        self.interval = interval\n",
    "        state0 = simulation.context.getState(getPositions=True,\n",
    "                                             enforcePeriodicBox=False)\n",
    "        self.x0 = state0.getPositions(asNumpy=True).value_in_unit(u.centimeter)\n",
    "        self.dt = dt.value_in_unit(u.second)\n",
    "        self.label = dict(Time=[], MSD=[])\n",
    "\n",
    "    def describeNextReport(self, simulation):\n",
    "        steps = self.interval - simulation.currentStep % self.interval\n",
    "        return (steps, True, False, False, False, False)\n",
    "\n",
    "    def report(self, simulation, state):\n",
    "        x = state.getPositions(asNumpy=True).value_in_unit(u.centimeter)\n",
    "        msd = np.mean(np.linalg.norm((x - self.x0), axis=1)**2)\n",
    "        time = state.getStepCount() * self.dt\n",
    "        self.label['Time'].append(time)\n",
    "        self.label['MSD'].append(msd)"
   ]
  },
  {
   "cell_type": "code",
   "execution_count": null,
   "metadata": {},
   "outputs": [],
   "source": [
    "# butanol1 = parmed.load_file(r'Butanol-1\\Structure.pdb')\n",
    "# _ff = foyer.Forcefield(r'Butanol-1\\FF.xml')\n",
    "# # _ff = foyer.forcefields.load_OPLSAA()\n",
    "# butanol1 = _ff.apply(butanol1)"
   ]
  },
  {
   "cell_type": "code",
   "execution_count": null,
   "metadata": {},
   "outputs": [],
   "source": [
    "oplsaa = foyer.forcefields.load_OPLSAA()\n",
    "\n",
    "# butanol1 = mbuild.load(r'Butanol-1\\Structure_simple.pdb')\n",
    "butanol1 = mbuild.load('CCCCO',smiles=True)\n",
    "butanol1.energy_minimize()\n",
    "butanol1.name = 'Butanol'\n",
    "\n",
    "ocm2 = mbuild.load(r'OCM-2\\Structure_simple.pdb')\n",
    "ocm2 = mbuild.load('CC(C)C(OCCOC(OCCOCCOC(OCCOC(C(C)C)=O)=O)=O)=O',smiles=True)\n",
    "ocm2.energy_minimize()\n",
    "ocm2.name = 'OCM'"
   ]
  },
  {
   "cell_type": "code",
   "execution_count": null,
   "metadata": {},
   "outputs": [],
   "source": [
    "## Combined box structure\n",
    "print('Build butanol-1 box')\n",
    "box_but = mbuild.Box([5, 5, 5])\n",
    "\n",
    "box_but2 = mbuild.fill_box(\n",
    "    box=box_but,\n",
    "    compound=butanol1,\n",
    "    n_compounds=100,\n",
    ")\n",
    "print('Build ocm-2 box')\n",
    "box_ocm = mbuild.Box([5, 5, 5])\n",
    "box_ocm2 = mbuild.fill_box(\n",
    "    box=box_ocm,\n",
    "    compound=ocm2,\n",
    "    n_compounds=100,\n",
    ")\n",
    "\n",
    "print('Appling on butanol')\n",
    "box_but3 = oplsaa.apply(box_but2)\n",
    "\n",
    "print('Appling on ocm')\n",
    "box_ocm3 = oplsaa.apply(box_ocm2)\n",
    "\n",
    "print('Combining')\n",
    "structure = box_ocm3 + box_but3"
   ]
  },
  {
   "cell_type": "code",
   "execution_count": null,
   "metadata": {},
   "outputs": [],
   "source": [
    "## Filled box structure\n",
    "# box = mbuild.fill_box(\n",
    "#     compound=[butanol1,ocm2],\n",
    "#     compound_ratio=[0.5,0.5],\n",
    "#     box=[5,5,5],\n",
    "#     density=1000\n",
    "# )\n",
    "\n",
    "box = mbuild.Box([5, 5, 5])\n",
    "box2 = mbuild.fill_box(\n",
    "    compound=ocm2,\n",
    "    n_compounds=100,\n",
    "    box=box,\n",
    ")\n",
    "box3 = mbuild.solvate(solute=box2, solvent=butanol1, n_solvent=100, box=box)\n",
    "structure = oplsaa.apply(box3)"
   ]
  },
  {
   "cell_type": "code",
   "execution_count": null,
   "metadata": {},
   "outputs": [],
   "source": [
    "structure.save('initial.pdb')"
   ]
  },
  {
   "cell_type": "code",
   "execution_count": null,
   "metadata": {},
   "outputs": [],
   "source": [
    "structure.residues[0].name='A'\n",
    "structure.residues[1].name='B'"
   ]
  },
  {
   "cell_type": "code",
   "execution_count": null,
   "metadata": {},
   "outputs": [],
   "source": [
    "system = structure.createSystem(\n",
    "    nonbondedMethod=openmm.app.NoCutoff,\n",
    "    constraints=openmm.app.HBonds,\n",
    "    implicitSolvent=openmm.app.GBn2,\n",
    "    implicitSolventSaltConc=0.1 * u.moles / u.liter,\n",
    "    removeCMMotion=False,\n",
    ")\n"
   ]
  },
  {
   "cell_type": "code",
   "execution_count": null,
   "metadata": {},
   "outputs": [],
   "source": [
    "integrator = openmm.LangevinIntegrator(\n",
    "    300 * u.kelvin,  # Temperature of heat bath\n",
    "    1.0 / u.picoseconds,  # Friction coefficient\n",
    "    2.0 * u.femtoseconds,  # Time step\n",
    ")\n",
    "simulation = openmm.app.Simulation(\n",
    "    structure.topology,\n",
    "    system,\n",
    "    integrator,\n",
    "    openmm.Platform.getPlatformByName('CUDA'),\n",
    ")\n",
    "simulation.context.setPositions(structure.positions)\n",
    "simulation.minimizeEnergy(maxIterations=500)"
   ]
  },
  {
   "cell_type": "code",
   "execution_count": null,
   "metadata": {},
   "outputs": [],
   "source": [
    "simulation.reporters.append(\n",
    "    openmm.app.StateDataReporter(\n",
    "        sys.stdout,\n",
    "        1000,\n",
    "        step=True,\n",
    "        # potentialEnergy=True,\n",
    "        # kineticEnergy=True,\n",
    "        # temperature=True,\n",
    "    ))\n",
    "\n",
    "rep_D = openmm.app.DCDReporter(\n",
    "    'traj.dcd',\n",
    "    100,\n",
    "    # enforcePeriodicBox=False,\n",
    ")\n",
    "simulation.reporters.append(rep_D)\n",
    "\n",
    "rep_pdb = openmm.app.PDBReporter('system.pdb',100)\n",
    "simulation.reporters.append(rep_pdb)\n",
    "\n",
    "# rep_old = MSDReporter(100, simulation, 2.0 * u.femtosecond)\n",
    "# simulation.reporters.append(rep_old)"
   ]
  },
  {
   "cell_type": "code",
   "execution_count": null,
   "metadata": {},
   "outputs": [],
   "source": [
    "simulation.step(100000)"
   ]
  },
  {
   "cell_type": "code",
   "execution_count": null,
   "metadata": {},
   "outputs": [],
   "source": [
    "df = pd.DataFrame(rep.label)\n"
   ]
  },
  {
   "cell_type": "code",
   "execution_count": null,
   "metadata": {},
   "outputs": [],
   "source": [
    "plt.plot(df['Time'], df['MSD'])"
   ]
  },
  {
   "cell_type": "markdown",
   "metadata": {},
   "source": [
    "# trajectory"
   ]
  },
  {
   "cell_type": "code",
   "execution_count": null,
   "metadata": {},
   "outputs": [],
   "source": [
    "import mdtraj"
   ]
  },
  {
   "cell_type": "code",
   "execution_count": null,
   "metadata": {},
   "outputs": [],
   "source": [
    "trajectory = mdtraj.load_pdb('system.pdb')"
   ]
  },
  {
   "cell_type": "code",
   "execution_count": null,
   "metadata": {},
   "outputs": [],
   "source": [
    "trajectory.superpose()"
   ]
  },
  {
   "cell_type": "code",
   "execution_count": null,
   "metadata": {},
   "outputs": [],
   "source": [
    "a= mdtraj.rmsd(trajectory,trajectory,0)"
   ]
  },
  {
   "cell_type": "code",
   "execution_count": null,
   "metadata": {},
   "outputs": [],
   "source": [
    "trajectory"
   ]
  },
  {
   "cell_type": "markdown",
   "metadata": {},
   "source": [
    "# trajectory2"
   ]
  },
  {
   "cell_type": "code",
   "execution_count": null,
   "metadata": {},
   "outputs": [],
   "source": [
    "import MDAnalysis\n",
    "import MDAnalysis.analysis.rms"
   ]
  },
  {
   "cell_type": "code",
   "execution_count": null,
   "metadata": {},
   "outputs": [],
   "source": [
    "trajectory = MDAnalysis.Universe('system.pdb')"
   ]
  },
  {
   "cell_type": "code",
   "execution_count": null,
   "metadata": {},
   "outputs": [],
   "source": [
    "list(trajectory.residues)"
   ]
  },
  {
   "cell_type": "code",
   "execution_count": null,
   "metadata": {},
   "outputs": [],
   "source": [
    "trajectory."
   ]
  },
  {
   "cell_type": "code",
   "execution_count": null,
   "metadata": {},
   "outputs": [],
   "source": [
    "RMSD_analysis = MDAnalysis.analysis.rms.RMSD(\n",
    "    trajectory,\n",
    "    trajectory,\n",
    "    # select=\"backbone\",\n",
    "    groupselections=[\"resid 1\", \"resid 2\"])"
   ]
  },
  {
   "cell_type": "code",
   "execution_count": null,
   "metadata": {},
   "outputs": [],
   "source": [
    "RMSD_analysis.run()"
   ]
  },
  {
   "cell_type": "code",
   "execution_count": null,
   "metadata": {},
   "outputs": [],
   "source": [
    "result = RMSD_analysis.results.rmsd.T"
   ]
  },
  {
   "cell_type": "code",
   "execution_count": null,
   "metadata": {},
   "outputs": [],
   "source": [
    "step = result[0]\n",
    "time = result[1]\n",
    "msd_all = result[2]\n",
    "msd_A = result[3]\n",
    "msd_B = result[4]"
   ]
  },
  {
   "cell_type": "code",
   "execution_count": null,
   "metadata": {},
   "outputs": [],
   "source": [
    "plt.plot(time, msd_all, 'b--', label=\"all\")\n",
    "plt.plot(time, msd_A, 'r', label=\"A\")\n",
    "plt.plot(time, msd_B, 'g', label=\"B\")\n",
    "plt.legend()"
   ]
  },
  {
   "cell_type": "code",
   "execution_count": null,
   "metadata": {},
   "outputs": [],
   "source": [
    "from scipy.stats import linregress"
   ]
  },
  {
   "cell_type": "code",
   "execution_count": null,
   "metadata": {},
   "outputs": [],
   "source": [
    "regress = linregress(time,msd_A)\n",
    "D_A = regress.slope/6\n",
    "\n",
    "regress = linregress(time,msd_B)\n",
    "D_B = regress.slope/6\n",
    "\n",
    "regress = linregress(time,msd_all)\n",
    "D_all = regress.slope/6\n",
    "print(D_A,D_B,D_all)"
   ]
  }
 ],
 "metadata": {
  "kernelspec": {
   "display_name": "Python 3.10.13 ('MolModel')",
   "language": "python",
   "name": "python3"
  },
  "language_info": {
   "codemirror_mode": {
    "name": "ipython",
    "version": 3
   },
   "file_extension": ".py",
   "mimetype": "text/x-python",
   "name": "python",
   "nbconvert_exporter": "python",
   "pygments_lexer": "ipython3",
   "version": "3.10.13"
  },
  "orig_nbformat": 4,
  "vscode": {
   "interpreter": {
    "hash": "0c0cd37d546db45a4051ffc8993118703e2d48d926c0dcd391819f41c5b1181f"
   }
  }
 },
 "nbformat": 4,
 "nbformat_minor": 2
}

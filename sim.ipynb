{
 "cells": [
  {
   "cell_type": "code",
   "execution_count": 1,
   "metadata": {},
   "outputs": [
    {
     "name": "stderr",
     "output_type": "stream",
     "text": [
      "d:\\Programs\\Envs\\HomeModel2\\lib\\site-packages\\tqdm\\auto.py:21: TqdmWarning: IProgress not found. Please update jupyter and ipywidgets. See https://ipywidgets.readthedocs.io/en/stable/user_install.html\n",
      "  from .autonotebook import tqdm as notebook_tqdm\n"
     ]
    }
   ],
   "source": [
    "import os\n",
    "from pathlib import Path\n",
    "\n",
    "\n",
    "import matplotlib.pyplot as plt\n",
    "\n",
    "import MDAnalysis as mda\n",
    "import numpy as np\n",
    "import openmm\n",
    "\n",
    "import openmm.app as openmm_app\n",
    "import pandas as pd\n",
    "\n",
    "import pydiffusion\n",
    "\n",
    "from MDAnalysis.analysis import msd, rms\n",
    "\n",
    "from scipy.optimize import curve_fit\n",
    "\n",
    "from scipy.stats import linregress\n",
    "from tools import base, simulator"
   ]
  },
  {
   "cell_type": "code",
   "execution_count": 2,
   "metadata": {},
   "outputs": [
    {
     "name": "stderr",
     "output_type": "stream",
     "text": [
      "NVT/NPT minimisation: 100%|██████████| 10/10 [00:28<00:00,  2.86s/it]\n"
     ]
    }
   ],
   "source": [
    "sim = simulator.Simulation(T=20)\n",
    "sim.load('systems/dmag_22_1050')\n",
    "sim.equilibrate('model',steps=10)\n",
    "sim.start_product('model3')"
   ]
  },
  {
   "cell_type": "code",
   "execution_count": 10,
   "metadata": {},
   "outputs": [
    {
     "name": "stderr",
     "output_type": "stream",
     "text": [
      "Product: 100%|██████████| 100/100 [02:54<00:00,  1.75s/it]\n"
     ]
    }
   ],
   "source": [
    "sim.simulate(100)"
   ]
  },
  {
   "cell_type": "code",
   "execution_count": 4,
   "metadata": {},
   "outputs": [],
   "source": [
    "sim.get_msd().to_csv('model/msd.csv')"
   ]
  },
  {
   "cell_type": "markdown",
   "metadata": {},
   "source": [
    "# Plots"
   ]
  },
  {
   "cell_type": "code",
   "execution_count": 2,
   "metadata": {},
   "outputs": [],
   "source": [
    "%matplotlib qt"
   ]
  },
  {
   "cell_type": "code",
   "execution_count": 5,
   "metadata": {},
   "outputs": [],
   "source": [
    "u = mda.Universe('results/dmag_35_1029/15/Eq.pdb', 'results/dmag_35_1029/15/traj.xtc')"
   ]
  },
  {
   "cell_type": "code",
   "execution_count": 6,
   "metadata": {},
   "outputs": [
    {
     "data": {
      "text/plain": [
       "<matplotlib.legend.Legend at 0x1cae3282080>"
      ]
     },
     "execution_count": 6,
     "metadata": {},
     "output_type": "execute_result"
    }
   ],
   "source": [
    "msd_but = pd.read_csv('results/dmag_35_1029/15/msd.csv',index_col=0)\n",
    "r_but = rms.RMSD(u, u, 'resname BUT')\n",
    "r_but.run()\n",
    "df_but = pd.DataFrame(r_but.results.rmsd, columns=['Frame', 'Time', 'BUT'])\n",
    "\n",
    "fig, ax = plt.subplots()\n",
    "ax.plot(df_but['Time'], df_but['BUT'], label='RMSD')\n",
    "ax.plot(msd_but.index,msd_but['BUT']*10**14,label='MSD')\n",
    "\n",
    "ax.set_ylabel('RMSD (A)')\n",
    "ax.legend()"
   ]
  },
  {
   "cell_type": "code",
   "execution_count": 7,
   "metadata": {},
   "outputs": [],
   "source": [
    "def get_msd(universe, compound: base.MolNames, dt=1):\n",
    "    selection = f'resname {compound.value}'\n",
    "    m = msd.EinsteinMSD(universe, select=selection)\n",
    "    m.run()\n",
    "    return m.times, np.mean(m.results['msds_by_particle'], axis=1)\n",
    "\n",
    "\n",
    "def analyse_lin(time, data, dt=1):\n",
    "    statistics = {}\n",
    "    (\n",
    "        slope,\n",
    "        intercept,\n",
    "        statistics['R'],\n",
    "        statistics['P'],\n",
    "        statistics['err'],\n",
    "    ) = linregress(time, data)\n",
    "    D = slope / 6\n",
    "    D0 = intercept\n",
    "    return D, D0, statistics"
   ]
  },
  {
   "cell_type": "code",
   "execution_count": 8,
   "metadata": {},
   "outputs": [
    {
     "name": "stderr",
     "output_type": "stream",
     "text": [
      "100%|██████████| 1820/1820 [00:00<00:00, 2723.92it/s]\n"
     ]
    }
   ],
   "source": [
    "time,y = get_msd(u,base.MolNames.dmag)"
   ]
  },
  {
   "cell_type": "code",
   "execution_count": 9,
   "metadata": {},
   "outputs": [
    {
     "data": {
      "text/plain": [
       "(0.023231874427253062,\n",
       " {'R': 0.931408255051853,\n",
       "  'P': 9.958007710672781e-221,\n",
       "  'err': 0.0024409209513457392})"
      ]
     },
     "execution_count": 9,
     "metadata": {},
     "output_type": "execute_result"
    }
   ],
   "source": [
    "D, D0,  statistics=analyse_lin(time,y)\n",
    "D,statistics"
   ]
  },
  {
   "cell_type": "code",
   "execution_count": 10,
   "metadata": {},
   "outputs": [
    {
     "name": "stdout",
     "output_type": "stream",
     "text": [
      "D= 2.323e-02 | R2= 9.314e-01\n"
     ]
    }
   ],
   "source": [
    "# Plot\n",
    "plt.scatter(time, y, label='MSD (Average)',s=2)\n",
    "plt.plot(time, 6*D * time + D0, label='Linear',c='r')\n",
    "plt.xlabel('Time')\n",
    "plt.ylabel('MSD')\n",
    "plt.legend()\n",
    "print(f\"D={D: .3e} | R2={statistics['R']: .3e}\")\n",
    "plt.show()"
   ]
  },
  {
   "cell_type": "code",
   "execution_count": 11,
   "metadata": {},
   "outputs": [
    {
     "data": {
      "text/plain": [
       "<matplotlib.legend.Legend at 0x1cae2ebfc70>"
      ]
     },
     "execution_count": 11,
     "metadata": {},
     "output_type": "execute_result"
    }
   ],
   "source": [
    "plt.scatter(time, y/y.mean(), label='MSD (Average)',s=2,c='r',)\n",
    "plt.plot(msd_but.index,msd_but['BUT']/msd_but['BUT'].mean(),label='MSD',c='b')\n",
    "plt.plot(time, (6*D * time + D0)/(6*D * time + D0).mean(), label='Linear',c='g')\n",
    "plt.legend()"
   ]
  }
 ],
 "metadata": {
  "kernelspec": {
   "display_name": "Python 3",
   "language": "python",
   "name": "python3"
  },
  "language_info": {
   "codemirror_mode": {
    "name": "ipython",
    "version": 3
   },
   "file_extension": ".py",
   "mimetype": "text/x-python",
   "name": "python",
   "nbconvert_exporter": "python",
   "pygments_lexer": "ipython3",
   "version": "3.10.13"
  }
 },
 "nbformat": 4,
 "nbformat_minor": 2
}

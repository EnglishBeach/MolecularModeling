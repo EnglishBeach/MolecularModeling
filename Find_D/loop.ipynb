{
 "cells": [
  {
   "cell_type": "code",
   "execution_count": 1,
   "metadata": {},
   "outputs": [],
   "source": [
    "from pathlib import Path\n",
    "import os\n",
    "import openmm\n",
    "import openmm.app as openmm_app\n",
    "import pandas as pd\n",
    "from tools import base, simulator"
   ]
  },
  {
   "cell_type": "code",
   "execution_count": null,
   "metadata": {},
   "outputs": [],
   "source": [
    "for path in os.listdir('systems'):\n",
    "    sim_path = Path(f'systems/{path}')\n",
    "    substance, x, rho = path.split('_')\n",
    "    result_dir = Path(f'results/{sim_path.stem}')\n",
    "    result_dir.mkdir(parents=True, exist_ok=True)\n",
    "\n",
    "    print('#' * 30, f'{substance:10}: {int(x):<3}')\n",
    "    for T in [15, 20, 25, 30, 40]:\n",
    "        print('#' * 20,'Tempetature: ',T)\n",
    "        sim = simulator.Simulation(T=T)\n",
    "        sim.load(sim_path)\n",
    "        sim.equilibrate(20)\n",
    "        sim.simulate(100)\n",
    "        df:pd.DataFrame = sim.get_data()\n",
    "        df.to_csv(f'{result_dir}/{T}.csv')\n"
   ]
  }
 ],
 "metadata": {
  "kernelspec": {
   "display_name": "MolModel",
   "language": "python",
   "name": "python3"
  },
  "language_info": {
   "codemirror_mode": {
    "name": "ipython",
    "version": 3
   },
   "file_extension": ".py",
   "mimetype": "text/x-python",
   "name": "python",
   "nbconvert_exporter": "python",
   "pygments_lexer": "ipython3",
   "version": "3.10.13"
  }
 },
 "nbformat": 4,
 "nbformat_minor": 2
}

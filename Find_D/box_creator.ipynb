{
 "cells": [
  {
   "cell_type": "code",
   "execution_count": 5,
   "metadata": {},
   "outputs": [],
   "source": [
    "from tools.base import DATAS\n",
    "from tools.boxer import Box\n",
    "from pathlib import Path\n",
    "import os"
   ]
  },
  {
   "cell_type": "code",
   "execution_count": null,
   "metadata": {},
   "outputs": [],
   "source": [
    "boxes: list[Box] = []\n",
    "i = 0\n",
    "for substance, combinations in DATAS.items():\n",
    "    for x, rho in combinations:\n",
    "        i += 1\n",
    "        save_path = Path(f\"./boxes/box_{substance.name}_{x}_{rho}.json\")\n",
    "        if save_path.exists():\n",
    "            continue\n",
    "\n",
    "        box = Box(\n",
    "            x=x,\n",
    "            rho=rho,\n",
    "            substance=substance,\n",
    "        )\n",
    "        for i in [2, 1, 0.5, 0.2, 0.1]:\n",
    "            try:\n",
    "                box.pack(tol=1)\n",
    "                box.save(path=save_path.as_posix())\n",
    "                break\n",
    "            except Exception as e:\n",
    "                print(e)\n",
    "                pass\n",
    "\n",
    "        for i in range(5):\n",
    "            try:\n",
    "                box.rho -= 50\n",
    "                box.pack(tol=0.1)\n",
    "                box.save(path=save_path.as_posix())\n",
    "                print(f'{save_path.name:30}: rho {box.rho}')\n",
    "                break\n",
    "            except Exception as e:\n",
    "                print(e)\n",
    "                pass\n",
    "        else:\n",
    "            print(f'{save_path.name:30}: Full error')\n",
    "\n",
    "boxes"
   ]
  },
  {
   "cell_type": "code",
   "execution_count": 6,
   "metadata": {},
   "outputs": [],
   "source": [
    "for box_path in os.listdir('boxes'):\n",
    "    new_name = '_'.join(box_path.split('_')[1:])\n",
    "    os.rename(f'boxes/{box_path}',f'boxes/{box_path}')"
   ]
  },
  {
   "cell_type": "code",
   "execution_count": null,
   "metadata": {},
   "outputs": [],
   "source": [
    "for box_path in os.listdir('boxes'):\n",
    "    save_path = Path('systems') / Path(box_path)\n",
    "    box = Box.load(Path('boxes') / Path(box_path))\n",
    "    box.parametrize()\n",
    "    box.minimaze()\n",
    "\n",
    "    box.save()\n",
    "    system = box.create_system()\n"
   ]
  }
 ],
 "metadata": {
  "kernelspec": {
   "display_name": "MolModel",
   "language": "python",
   "name": "python3"
  },
  "language_info": {
   "codemirror_mode": {
    "name": "ipython",
    "version": 3
   },
   "file_extension": ".py",
   "mimetype": "text/x-python",
   "name": "python",
   "nbconvert_exporter": "python",
   "pygments_lexer": "ipython3",
   "version": "3.10.13"
  }
 },
 "nbformat": 4,
 "nbformat_minor": 2
}

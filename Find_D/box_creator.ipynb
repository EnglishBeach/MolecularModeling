{
 "cells": [
  {
   "cell_type": "code",
   "execution_count": 1,
   "metadata": {},
   "outputs": [],
   "source": [
    "import os\n",
    "from pathlib import Path\n",
    "\n",
    "import openmm\n",
    "from tools.base import DATAS\n",
    "from tools.boxer import Box\n",
    "from tqdm import tqdm"
   ]
  },
  {
   "cell_type": "code",
   "execution_count": 2,
   "metadata": {},
   "outputs": [
    {
     "name": "stdout",
     "output_type": "stream",
     "text": [
      "box_butanol_100_700.json      : rho 650\n"
     ]
    },
    {
     "ename": "KeyboardInterrupt",
     "evalue": "",
     "output_type": "error",
     "traceback": [
      "\u001b[0;31m---------------------------------------------------------------------------\u001b[0m",
      "\u001b[0;31mKeyboardInterrupt\u001b[0m                         Traceback (most recent call last)",
      "Cell \u001b[0;32mIn[2], line 18\u001b[0m\n\u001b[1;32m     16\u001b[0m \u001b[38;5;28;01mtry\u001b[39;00m:\n\u001b[1;32m     17\u001b[0m     box\u001b[38;5;241m.\u001b[39mpack(tol\u001b[38;5;241m=\u001b[39m\u001b[38;5;241m1\u001b[39m)\n\u001b[0;32m---> 18\u001b[0m     \u001b[43mbox\u001b[49m\u001b[38;5;241;43m.\u001b[39;49m\u001b[43msave\u001b[49m\u001b[43m(\u001b[49m\u001b[43mpath\u001b[49m\u001b[38;5;241;43m=\u001b[39;49m\u001b[43msave_path\u001b[49m\u001b[38;5;241;43m.\u001b[39;49m\u001b[43mas_posix\u001b[49m\u001b[43m(\u001b[49m\u001b[43m)\u001b[49m\u001b[43m)\u001b[49m\n\u001b[1;32m     19\u001b[0m     \u001b[38;5;28;01mbreak\u001b[39;00m\n\u001b[1;32m     20\u001b[0m \u001b[38;5;28;01mexcept\u001b[39;00m \u001b[38;5;167;01mException\u001b[39;00m \u001b[38;5;28;01mas\u001b[39;00m e:\n",
      "File \u001b[0;32m~/Work_wsl/MolecularModeling/Find_D/tools/boxer.py:56\u001b[0m, in \u001b[0;36mBox.save\u001b[0;34m(self, path)\u001b[0m\n\u001b[1;32m     54\u001b[0m \u001b[38;5;28;01mdef\u001b[39;00m \u001b[38;5;21msave\u001b[39m(\u001b[38;5;28mself\u001b[39m, path: Path):\n\u001b[1;32m     55\u001b[0m     \u001b[38;5;28;01mwith\u001b[39;00m \u001b[38;5;28mopen\u001b[39m(path, \u001b[38;5;124m\"\u001b[39m\u001b[38;5;124mw\u001b[39m\u001b[38;5;124m\"\u001b[39m) \u001b[38;5;28;01mas\u001b[39;00m file:\n\u001b[0;32m---> 56\u001b[0m         box_j \u001b[38;5;241m=\u001b[39m \u001b[38;5;28;43mself\u001b[39;49m\u001b[38;5;241;43m.\u001b[39;49m\u001b[43mbox\u001b[49m\u001b[38;5;241;43m.\u001b[39;49m\u001b[43mto_json\u001b[49m\u001b[43m(\u001b[49m\u001b[43m)\u001b[49m\n\u001b[1;32m     57\u001b[0m         data \u001b[38;5;241m=\u001b[39m {\n\u001b[1;32m     58\u001b[0m             \u001b[38;5;124m\"\u001b[39m\u001b[38;5;124msolvent_n\u001b[39m\u001b[38;5;124m\"\u001b[39m: \u001b[38;5;28mself\u001b[39m\u001b[38;5;241m.\u001b[39msolvent_n,\n\u001b[1;32m     59\u001b[0m             \u001b[38;5;124m\"\u001b[39m\u001b[38;5;124msubstance\u001b[39m\u001b[38;5;124m\"\u001b[39m: \u001b[38;5;28mself\u001b[39m\u001b[38;5;241m.\u001b[39msubstance\u001b[38;5;241m.\u001b[39mvalue,\n\u001b[1;32m     60\u001b[0m             \u001b[38;5;124m\"\u001b[39m\u001b[38;5;124mrho\u001b[39m\u001b[38;5;124m\"\u001b[39m: \u001b[38;5;28mself\u001b[39m\u001b[38;5;241m.\u001b[39mrho,\n\u001b[1;32m     61\u001b[0m         }\n\u001b[1;32m     62\u001b[0m         box_j \u001b[38;5;241m=\u001b[39m \u001b[38;5;124mf\u001b[39m\u001b[38;5;124m\"\u001b[39m\u001b[38;5;132;01m{\u001b[39;00mdata\u001b[38;5;132;01m}\u001b[39;00m\u001b[38;5;124m ###\u001b[39m\u001b[38;5;124m\"\u001b[39m \u001b[38;5;241m+\u001b[39m box_j\n",
      "File \u001b[0;32m~/miniforge3/envs/MolModel/lib/python3.10/site-packages/openff/toolkit/utils/serialization.py:125\u001b[0m, in \u001b[0;36mSerializable.to_json\u001b[0;34m(self, indent)\u001b[0m\n\u001b[1;32m    122\u001b[0m d \u001b[38;5;241m=\u001b[39m \u001b[38;5;28mself\u001b[39m\u001b[38;5;241m.\u001b[39mto_dict()\n\u001b[1;32m    124\u001b[0m \u001b[38;5;28;01mif\u001b[39;00m _contains_bytes(d):\n\u001b[0;32m--> 125\u001b[0m     d \u001b[38;5;241m=\u001b[39m \u001b[43m_prep_numpy_data_for_json\u001b[49m\u001b[43m(\u001b[49m\u001b[43md\u001b[49m\u001b[43m)\u001b[49m\n\u001b[1;32m    127\u001b[0m \u001b[38;5;28;01mreturn\u001b[39;00m json\u001b[38;5;241m.\u001b[39mdumps(d, indent\u001b[38;5;241m=\u001b[39mindent)\n",
      "File \u001b[0;32m~/miniforge3/envs/MolModel/lib/python3.10/site-packages/openff/toolkit/utils/serialization.py:464\u001b[0m, in \u001b[0;36m_prep_numpy_data_for_json\u001b[0;34m(data)\u001b[0m\n\u001b[1;32m    459\u001b[0m                 data[key][i] \u001b[38;5;241m=\u001b[39m np\u001b[38;5;241m.\u001b[39mfrombuffer(\n\u001b[1;32m    460\u001b[0m                     element, dtype\u001b[38;5;241m=\u001b[39mbig_endian_float\n\u001b[1;32m    461\u001b[0m                 )\u001b[38;5;241m.\u001b[39mtolist()\n\u001b[1;32m    462\u001b[0m             \u001b[38;5;28;01melif\u001b[39;00m \u001b[38;5;28misinstance\u001b[39m(element, \u001b[38;5;28mdict\u001b[39m):\n\u001b[1;32m    463\u001b[0m                 \u001b[38;5;66;03m# Handles case of List[Molecule], like Topology.molecules\u001b[39;00m\n\u001b[0;32m--> 464\u001b[0m                 data[key][i] \u001b[38;5;241m=\u001b[39m \u001b[43m_prep_numpy_data_for_json\u001b[49m\u001b[43m(\u001b[49m\u001b[43melement\u001b[49m\u001b[43m)\u001b[49m\n\u001b[1;32m    465\u001b[0m \u001b[38;5;28;01mreturn\u001b[39;00m data\n",
      "File \u001b[0;32m~/miniforge3/envs/MolModel/lib/python3.10/site-packages/openff/toolkit/utils/serialization.py:457\u001b[0m, in \u001b[0;36m_prep_numpy_data_for_json\u001b[0;34m(data)\u001b[0m\n\u001b[1;32m    455\u001b[0m \u001b[38;5;28;01mif\u001b[39;00m \u001b[38;5;28misinstance\u001b[39m(val, (\u001b[38;5;28mlist\u001b[39m, \u001b[38;5;28mtuple\u001b[39m)):\n\u001b[1;32m    456\u001b[0m     \u001b[38;5;28;01mfor\u001b[39;00m i, element \u001b[38;5;129;01min\u001b[39;00m \u001b[38;5;28menumerate\u001b[39m(val):\n\u001b[0;32m--> 457\u001b[0m         \u001b[38;5;28;01mif\u001b[39;00m \u001b[38;5;28;43misinstance\u001b[39;49m\u001b[43m(\u001b[49m\u001b[43melement\u001b[49m\u001b[43m,\u001b[49m\u001b[43m \u001b[49m\u001b[38;5;28;43mbytes\u001b[39;49m\u001b[43m)\u001b[49m:\n\u001b[1;32m    458\u001b[0m             \u001b[38;5;66;03m# Handles case of List[np.array], like Molecule.conformers\u001b[39;00m\n\u001b[1;32m    459\u001b[0m             data[key][i] \u001b[38;5;241m=\u001b[39m np\u001b[38;5;241m.\u001b[39mfrombuffer(\n\u001b[1;32m    460\u001b[0m                 element, dtype\u001b[38;5;241m=\u001b[39mbig_endian_float\n\u001b[1;32m    461\u001b[0m             )\u001b[38;5;241m.\u001b[39mtolist()\n\u001b[1;32m    462\u001b[0m         \u001b[38;5;28;01melif\u001b[39;00m \u001b[38;5;28misinstance\u001b[39m(element, \u001b[38;5;28mdict\u001b[39m):\n\u001b[1;32m    463\u001b[0m             \u001b[38;5;66;03m# Handles case of List[Molecule], like Topology.molecules\u001b[39;00m\n",
      "\u001b[0;31mKeyboardInterrupt\u001b[0m: "
     ]
    }
   ],
   "source": [
    "# boxes: list[Box] = []\n",
    "# i = 0\n",
    "# for substance, combinations in DATAS.items():\n",
    "#     for x, rho in combinations:\n",
    "#         i += 1\n",
    "#         save_path = Path(f\"./boxes/box_{substance.name}_{x}_{rho}.json\")\n",
    "#         if save_path.exists():\n",
    "#             continue\n",
    "\n",
    "#         box = Box(\n",
    "#             x=x,\n",
    "#             rho=rho,\n",
    "#             substance=substance,\n",
    "#         )\n",
    "#         for i in [2, 1, 0.5, 0.2, 0.1]:\n",
    "#             try:\n",
    "#                 box.pack(tol=1)\n",
    "#                 box.save(path=save_path.as_posix())\n",
    "#                 break\n",
    "#             except Exception as e:\n",
    "#                 print(e)\n",
    "#                 pass\n",
    "\n",
    "#         for i in range(5):\n",
    "#             try:\n",
    "#                 box.rho -= 50\n",
    "#                 box.pack(tol=0.1)\n",
    "#                 box.save(path=save_path.as_posix())\n",
    "#                 print(f'{save_path.name:30}: rho {box.rho}')\n",
    "#                 break\n",
    "#             except Exception as e:\n",
    "#                 print(e)\n",
    "#                 pass\n",
    "#         else:\n",
    "#             print(f'{save_path.name:30}: Full error')\n",
    "\n",
    "# boxes"
   ]
  },
  {
   "cell_type": "code",
   "execution_count": 9,
   "metadata": {},
   "outputs": [],
   "source": [
    "# for box_path in os.listdir('boxes'):\n",
    "#     new_name = '_'.join(box_path.split('_')[1:])\n",
    "#     os.rename(f'boxes/{box_path}',f'boxes/{new_name}')"
   ]
  },
  {
   "cell_type": "code",
   "execution_count": 2,
   "metadata": {},
   "outputs": [
    {
     "name": "stderr",
     "output_type": "stream",
     "text": [
      "100%|██████████| 20/20 [14:49<00:00, 44.47s/it]  \n"
     ]
    }
   ],
   "source": [
    "dirs = tqdm(os.listdir('boxes'))\n",
    "for box_path in dirs:\n",
    "    load_path = Path('boxes') / Path(box_path)\n",
    "    save_path = Path('systems') /load_path.stem\n",
    "    box = Box.load(load_path)\n",
    "    box.parametrize()\n",
    "    box.minimaze()\n",
    "\n",
    "    save_path.mkdir(parents=True, exist_ok=True)\n",
    "    box.box.to_file((save_path/ Path('top.pdb')).as_posix())\n",
    "    system = box.create_system()\n",
    "    with open(save_path/ Path('system.xml'), 'w') as output:\n",
    "        output.write(openmm.XmlSerializer.serialize(system))\n"
   ]
  },
  {
   "cell_type": "code",
   "execution_count": 26,
   "metadata": {},
   "outputs": [
    {
     "ename": "TypeError",
     "evalue": "Interchange.to_openmm_system() got an unexpected keyword argument 'removeCMMotion'",
     "output_type": "error",
     "traceback": [
      "\u001b[0;31m---------------------------------------------------------------------------\u001b[0m",
      "\u001b[0;31mTypeError\u001b[0m                                 Traceback (most recent call last)",
      "Cell \u001b[0;32mIn[26], line 1\u001b[0m\n\u001b[0;32m----> 1\u001b[0m \u001b[43mbox\u001b[49m\u001b[38;5;241;43m.\u001b[39;49m\u001b[43mbox_parametrized\u001b[49m\u001b[38;5;241;43m.\u001b[39;49m\u001b[43mto_openmm_system\u001b[49m\u001b[43m(\u001b[49m\u001b[43mremoveCMMotion\u001b[49m\u001b[38;5;241;43m=\u001b[39;49m\u001b[38;5;28;43;01mFalse\u001b[39;49;00m\u001b[43m)\u001b[49m\n",
      "\u001b[0;31mTypeError\u001b[0m: Interchange.to_openmm_system() got an unexpected keyword argument 'removeCMMotion'"
     ]
    }
   ],
   "source": [
    "box.box_parametrized.to_openmm_system(removeCMMotion=False)"
   ]
  },
  {
   "cell_type": "code",
   "execution_count": 31,
   "metadata": {},
   "outputs": [
    {
     "data": {
      "text/plain": [
       "4"
      ]
     },
     "execution_count": 31,
     "metadata": {},
     "output_type": "execute_result"
    }
   ],
   "source": [
    "system.addForce(openmm.CMMotionRemover())"
   ]
  },
  {
   "cell_type": "code",
   "execution_count": 32,
   "metadata": {},
   "outputs": [
    {
     "data": {
      "text/plain": [
       "[<openmm.openmm.NonbondedForce; proxy of <Swig Object of type 'OpenMM::NonbondedForce *' at 0x7f4177245440> >,\n",
       " <openmm.openmm.PeriodicTorsionForce; proxy of <Swig Object of type 'OpenMM::PeriodicTorsionForce *' at 0x7f4177246190> >,\n",
       " <openmm.openmm.HarmonicAngleForce; proxy of <Swig Object of type 'OpenMM::HarmonicAngleForce *' at 0x7f4177244d50> >,\n",
       " <openmm.openmm.HarmonicBondForce; proxy of <Swig Object of type 'OpenMM::HarmonicBondForce *' at 0x7f41752785a0> >,\n",
       " <openmm.openmm.CMMotionRemover; proxy of <Swig Object of type 'OpenMM::CMMotionRemover *' at 0x7f41756e9380> >]"
      ]
     },
     "execution_count": 32,
     "metadata": {},
     "output_type": "execute_result"
    }
   ],
   "source": [
    "system.getForces()"
   ]
  }
 ],
 "metadata": {
  "kernelspec": {
   "display_name": "MolModel",
   "language": "python",
   "name": "python3"
  },
  "language_info": {
   "codemirror_mode": {
    "name": "ipython",
    "version": 3
   },
   "file_extension": ".py",
   "mimetype": "text/x-python",
   "name": "python",
   "nbconvert_exporter": "python",
   "pygments_lexer": "ipython3",
   "version": "3.10.13"
  }
 },
 "nbformat": 4,
 "nbformat_minor": 2
}

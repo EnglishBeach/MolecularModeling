{
 "cells": [
  {
   "cell_type": "code",
   "execution_count": 1,
   "metadata": {},
   "outputs": [],
   "source": [
    "import sys\n",
    "import warnings\n",
    "from enum import Enum\n",
    "from pathlib import Path\n",
    "\n",
    "import matplotlib.pyplot as plt\n",
    "import numpy as np\n",
    "import pandas as pd\n",
    "from IPython.utils import io\n",
    "from rdkit import Chem\n",
    "from tqdm import tqdm\n",
    "\n",
    "warnings.filterwarnings(\"ignore\")\n",
    "warnings.simplefilter(\"ignore\")\n",
    "from scipy.stats import linregress\n",
    "\n",
    "with io.capture_output() as captured:\n",
    "\n",
    "    import mbuild\n",
    "    import MDAnalysis as mda\n",
    "    import mdtraj\n",
    "    import nglview\n",
    "    import openmm\n",
    "    from MDAnalysis.analysis import rms\n",
    "    from openff import interchange, models, toolkit, utilities\n",
    "    from openff.interchange.components._packmol import UNIT_CUBE, pack_box\n",
    "    from openff.toolkit import topology\n",
    "    from openff.units import unit"
   ]
  },
  {
   "cell_type": "markdown",
   "metadata": {},
   "source": [
    "# Build"
   ]
  },
  {
   "cell_type": "code",
   "execution_count": 2,
   "metadata": {},
   "outputs": [
    {
     "ename": "NameError",
     "evalue": "name 'Draw' is not defined",
     "output_type": "error",
     "traceback": [
      "\u001b[0;31m---------------------------------------------------------------------------\u001b[0m",
      "\u001b[0;31mNameError\u001b[0m                                 Traceback (most recent call last)",
      "Cell \u001b[0;32mIn[2], line 30\u001b[0m\n\u001b[1;32m     24\u001b[0m         atom\u001b[38;5;241m.\u001b[39mmetadata[\u001b[38;5;124m\"\u001b[39m\u001b[38;5;124mresidue_name\u001b[39m\u001b[38;5;124m\"\u001b[39m] \u001b[38;5;241m=\u001b[39m molecule_type\u001b[38;5;241m.\u001b[39mname\u001b[38;5;241m.\u001b[39mupper()\n\u001b[1;32m     25\u001b[0m     mol\u001b[38;5;241m.\u001b[39madd_hierarchy_scheme(\n\u001b[1;32m     26\u001b[0m         iterator_name\u001b[38;5;241m=\u001b[39m\u001b[38;5;124m\"\u001b[39m\u001b[38;5;124mresidue\u001b[39m\u001b[38;5;124m\"\u001b[39m,\n\u001b[1;32m     27\u001b[0m         uniqueness_criteria\u001b[38;5;241m=\u001b[39m[\u001b[38;5;124m\"\u001b[39m\u001b[38;5;124mresidue_name\u001b[39m\u001b[38;5;124m\"\u001b[39m],\n\u001b[1;32m     28\u001b[0m     )\n\u001b[0;32m---> 30\u001b[0m \u001b[43mDraw\u001b[49m\u001b[38;5;241m.\u001b[39mMolsToGridImage(\n\u001b[1;32m     31\u001b[0m     RD_MOLECULES\u001b[38;5;241m.\u001b[39mvalues(),\n\u001b[1;32m     32\u001b[0m     useSVG\u001b[38;5;241m=\u001b[39m\u001b[38;5;28;01mTrue\u001b[39;00m,\n\u001b[1;32m     33\u001b[0m     molsPerRow\u001b[38;5;241m=\u001b[39m\u001b[38;5;241m4\u001b[39m,\n\u001b[1;32m     34\u001b[0m     legends\u001b[38;5;241m=\u001b[39m[i\u001b[38;5;241m.\u001b[39mname \u001b[38;5;28;01mfor\u001b[39;00m i \u001b[38;5;129;01min\u001b[39;00m RD_MOLECULES\u001b[38;5;241m.\u001b[39mkeys()],\n\u001b[1;32m     35\u001b[0m )\n",
      "\u001b[0;31mNameError\u001b[0m: name 'Draw' is not defined"
     ]
    }
   ],
   "source": [
    "class Mol(Enum):\n",
    "    butanol = 'butanol'\n",
    "    ocm = 'ocm'\n",
    "    dmag = 'dmag'\n",
    "    peta = 'peta'\n",
    "\n",
    "\n",
    "RD_MOLECULES = {\n",
    "    Mol.ocm:\n",
    "    Chem.MolFromSmiles(\"CC(C(OCCOC(OCCOCCOC(OCCOC(C(C)=C)=O)=O)=O)=O)=C\"),\n",
    "    Mol.dmag: Chem.MolFromSmiles(\"C=C(C)C(OCCOC(C(C)=C)=O)=O\"),\n",
    "    Mol.peta: Chem.MolFromSmiles(\"C=CC(OCC(COC(C=C)=O)(COC(C=C)=O)CO)=O\"),\n",
    "    Mol.butanol: Chem.MolFromSmiles(\"OCCCC\"),\n",
    "}\n",
    "\n",
    "OFF_MOLECULES = {}\n",
    "for molecule_type, rdkit_mol in RD_MOLECULES.items():\n",
    "    mol = toolkit.Molecule.from_rdkit(rdkit_mol)\n",
    "    OFF_MOLECULES[molecule_type] = mol\n",
    "    mol.generate_conformers(n_conformers=1)\n",
    "    mol.name = molecule_type.name\n",
    "\n",
    "    for atom in mol.atoms:\n",
    "        atom.metadata[\"residue_name\"] = molecule_type.name.upper()\n",
    "    mol.add_hierarchy_scheme(\n",
    "        iterator_name=\"residue\",\n",
    "        uniqueness_criteria=[\"residue_name\"],\n",
    "    )\n",
    "\n",
    "Draw.MolsToGridImage(\n",
    "    RD_MOLECULES.values(),\n",
    "    useSVG=True,\n",
    "    molsPerRow=4,\n",
    "    legends=[i.name for i in RD_MOLECULES.keys()],\n",
    ")"
   ]
  },
  {
   "cell_type": "code",
   "execution_count": 3,
   "metadata": {},
   "outputs": [],
   "source": [
    "class Box:\n",
    "    box = None\n",
    "    ff = toolkit.ForceField(\"openff_unconstrained-2.1.0.offxml\")\n",
    "\n",
    "    def __init__(self, x, rho, substance: Mol):\n",
    "        self.solvent_n = int(x)\n",
    "        self.substance_n = int((100 - x))\n",
    "        self.substance = substance\n",
    "        self.rho = rho\n",
    "\n",
    "    def __repr__(self) -> str:\n",
    "        return f\"<Box: {self.substance}= {self.substance_n} ({self.solvent_n}), rho={self.rho} mg/cm3>\"\n",
    "\n",
    "    def pack(self, tol=0.5):\n",
    "        solvent = OFF_MOLECULES[Mol.butanol]\n",
    "        substance = OFF_MOLECULES[self.substance]\n",
    "        if self.substance_n == 0:\n",
    "            molecules = [solvent]\n",
    "            n_molecules = [100]\n",
    "        elif self.substance_n == 100:\n",
    "            molecules = [substance]\n",
    "            n_molecules = [100]\n",
    "        else:\n",
    "            molecules = [solvent, substance]\n",
    "            n_molecules = [self.solvent_n, self.substance_n]\n",
    "        self.box = pack_box(\n",
    "            molecules=molecules,\n",
    "            number_of_copies=n_molecules,\n",
    "            mass_density=self.rho * unit.kilogram / unit.meter**3,\n",
    "            tolerance=tol * unit.angstrom,\n",
    "            box_shape=UNIT_CUBE,\n",
    "        )\n",
    "\n",
    "    def parametrize(self):\n",
    "        self.system = interchange.Interchange.from_smirnoff(\n",
    "            force_field=self.ff,\n",
    "            topology=self.box,\n",
    "        )\n",
    "\n",
    "    def minimaze(self):\n",
    "        self.system.minimize()\n",
    "\n",
    "    def save(self, path):\n",
    "        with open(path, \"w\") as file:\n",
    "            box_j = self.box.to_json()\n",
    "            data = {\n",
    "                \"solvent_n\": self.solvent_n,\n",
    "                \"substance\": self.substance,\n",
    "                \"rho\": self.rho,\n",
    "            }\n",
    "            box_j = f\"{data} ###\" + box_j\n",
    "            file.write(box_j)\n",
    "\n",
    "    @classmethod\n",
    "    def load(cls, path):\n",
    "        with open(path, \"r\") as file:\n",
    "            box_j = file.read()\n",
    "            data, box_j = box_j.split(\"###\")\n",
    "            data = eval(data)\n",
    "            box = Box(\n",
    "                x=int(data[\"solvent_n\"]),\n",
    "                rho=data[\"rho\"],\n",
    "                substance=data[\"substance\"],\n",
    "            )\n",
    "            box.box = toolkit.Topology.from_json(box_j)\n",
    "\n",
    "        return box"
   ]
  },
  {
   "cell_type": "code",
   "execution_count": 4,
   "metadata": {},
   "outputs": [],
   "source": [
    "res = {\n",
    "    \"butanol\": [\n",
    "        (100, 1000),\n",
    "    ],\n",
    "    \"dmag\": [\n",
    "        (0, 1069),\n",
    "        (11, 1069),\n",
    "        (22, 1050),\n",
    "        (35, 1029),\n",
    "        (39, 1019),\n",
    "    ],\n",
    "    \"ocm\": [\n",
    "        (0, 1720),\n",
    "        (12, 1580),\n",
    "        (22, 1569),\n",
    "        (31, 1550),\n",
    "        (38, 1539),\n",
    "        (44, 1530),\n",
    "        (49, 1510),\n",
    "        (54, 1489),\n",
    "        (58, 1490),\n",
    "    ],\n",
    "    \"peta\": [\n",
    "        (0, 1200),\n",
    "        (19, 1180),\n",
    "        (30, 1159),\n",
    "        (41, 1140),\n",
    "        (49, 1110),\n",
    "    ],\n",
    "}"
   ]
  },
  {
   "cell_type": "code",
   "execution_count": 67,
   "metadata": {},
   "outputs": [
    {
     "data": {
      "text/plain": [
       "[]"
      ]
     },
     "execution_count": 67,
     "metadata": {},
     "output_type": "execute_result"
    }
   ],
   "source": [
    "boxes = []\n",
    "for substance, combinations in res.items():\n",
    "    for x, rho in combinations:\n",
    "        box = Box(\n",
    "            x=x,\n",
    "            rho=rho,\n",
    "            substance=substance,\n",
    "        )\n",
    "        try:\n",
    "            box.pack(tol=1)\n",
    "            box.save(path=f\"./boxes/box_{substance}_{x}_{rho}.json\")\n",
    "        except:\n",
    "            pass\n",
    "\n",
    "        try:\n",
    "            box.pack(tol=0.5)\n",
    "            box.save(path=f\"./boxes/box_{substance}_{x}_{rho}.json\")\n",
    "        except:\n",
    "            continue\n",
    "\n",
    "boxes"
   ]
  },
  {
   "cell_type": "code",
   "execution_count": 5,
   "metadata": {},
   "outputs": [],
   "source": [
    "b = Box.load(\"boxes/box_ocm_12_1580.json\")\n",
    "with io.capture_output() as captured:\n",
    "    view = b.box.visualize()\n",
    "# view"
   ]
  },
  {
   "cell_type": "code",
   "execution_count": 6,
   "metadata": {},
   "outputs": [],
   "source": [
    "b.parametrize()"
   ]
  },
  {
   "cell_type": "code",
   "execution_count": 7,
   "metadata": {},
   "outputs": [],
   "source": [
    "b.minimaze()"
   ]
  },
  {
   "cell_type": "markdown",
   "metadata": {},
   "source": [
    "# Simulation"
   ]
  },
  {
   "cell_type": "code",
   "execution_count": 90,
   "metadata": {},
   "outputs": [],
   "source": [
    "class MSDReporter:\n",
    "\n",
    "    def __init__(self, interval, simulation, dt):\n",
    "        self.interval = interval\n",
    "        self.dt = dt.value_in_unit(openmm.unit.second)\n",
    "        self.ids = {}\n",
    "\n",
    "        self.data = {'Time': np.array([])}\n",
    "        self.atom_map = {}\n",
    "        self.positions = {}\n",
    "        self.start_positions = {}\n",
    "\n",
    "        self.residues = list({residue.name for residue in simulation.topology.residues()})\n",
    "        state0 = simulation.context.getState(getPositions=True, enforcePeriodicBox=False)\n",
    "        atoms = list(simulation.topology.atoms())\n",
    "        for residue_name in self.residues:\n",
    "            atom_ids = [\n",
    "                atoms.index(atom) for atom in atoms if MSDReporter.is_selected(atom, residue_name)\n",
    "            ]\n",
    "\n",
    "            self.atom_map[residue_name] = atom_ids\n",
    "\n",
    "            positions = state0.getPositions(asNumpy=True).value_in_unit(openmm.unit.centimeter)\n",
    "            self.start_positions[residue_name] = positions[atom_ids]\n",
    "\n",
    "            self.data.update({residue_name: np.array([])})\n",
    "\n",
    "    @staticmethod\n",
    "    def is_selected(\n",
    "        atom: openmm.app.topology.Atom,\n",
    "        residue: str,\n",
    "    ):\n",
    "        selected_atoms = [openmm.app.Element.getBySymbol(symbol) for symbol in ['O', 'C', 'N']]\n",
    "\n",
    "        select_residue = atom.residue.name == residue\n",
    "        select_atom = atom.element in selected_atoms\n",
    "        return select_residue and select_atom\n",
    "\n",
    "    def describeNextReport(self, simulation):\n",
    "        steps = self.interval - simulation.currentStep % self.interval\n",
    "        return (steps, True, False, False, False, False)\n",
    "\n",
    "    def report(self, simulation, state):\n",
    "        for residue in self.residues:\n",
    "            atom_ids = self.atom_map[residue]\n",
    "            positions = state.getPositions(asNumpy=True).value_in_unit(openmm.unit.centimeter)[\n",
    "                atom_ids\n",
    "            ]\n",
    "            start_positions = self.start_positions[residue]\n",
    "\n",
    "            msd = np.mean(np.linalg.norm((start_positions - positions), axis=1) ** 2)\n",
    "            self.data[residue] = np.append(self.data[residue], msd)\n",
    "        time = state.getStepCount() * self.dt\n",
    "        self.data['Time'] = np.append(self.data['Time'], time)\n",
    "\n",
    "    @property\n",
    "    def df(self):\n",
    "        return pd.DataFrame(self.data)\n",
    "\n",
    "\n",
    "def create_simulation(\n",
    "    box: Box,\n",
    "    dt=1,\n",
    "    T=25,\n",
    "    save_dir: Path = Path(\"simulations\"),\n",
    "):\n",
    "    check_freq = 100\n",
    "    # Integration options\n",
    "    dt = dt * openmm.unit.femtoseconds  # simulation timestep\n",
    "    temperature = (T + 273) * openmm.unit.kelvin  # simulation temperature\n",
    "    friction = 1 / openmm.unit.picosecond  # friction constant\n",
    "\n",
    "    integrator = openmm.LangevinIntegrator(temperature, friction, dt)\n",
    "\n",
    "    simulation = box.system.to_openmm_simulation(\n",
    "        integrator=integrator,\n",
    "        # platform=openmm.Platform.getPlatformByName('CUDA'),\n",
    "    )\n",
    "    # simulation.context.setVelocitiesToTemperature(temperature)\n",
    "    substance = box.substance\n",
    "    x = box.substance_n\n",
    "    rho = box.rho\n",
    "\n",
    "    sim_dir = save_dir / Path(f\"box_{substance}_{x}_{rho}\")\n",
    "    sim_dir.mkdir(parents=True, exist_ok=True)\n",
    "    box.system.to_pdb(f\"{sim_dir}/box_min.pdb\")\n",
    "    simulation.reporters.append(openmm.app.StateDataReporter(sys.stdout, check_freq, step=True))\n",
    "\n",
    "    print('Equilibration')\n",
    "    simulation.minimizeEnergy()\n",
    "    simulation.context.setVelocitiesToTemperature(temperature)\n",
    "    simulation.context.reinitialize(preserveState=True)\n",
    "    simulation.step(1000)\n",
    "\n",
    "    msdReporter = MSDReporter(100, simulation, dt)\n",
    "    simulation.reporters.append(msdReporter)\n",
    "    simulation.currentStep = 0\n",
    "    return simulation, save_dir / sim_dir, msdReporter"
   ]
  },
  {
   "cell_type": "code",
   "execution_count": 92,
   "metadata": {},
   "outputs": [
    {
     "name": "stdout",
     "output_type": "stream",
     "text": [
      "Equilibration\n",
      "#\"Step\"\n",
      "1000\n",
      "Product\n",
      "1000\n",
      "2000\n",
      "3000\n",
      "4000\n",
      "5000\n",
      "6000\n",
      "7000\n",
      "8000\n",
      "9000\n",
      "10000\n"
     ]
    }
   ],
   "source": [
    "simulation, traj_path, msdReporter = create_simulation(b, dt=1)\n",
    "print('Product')\n",
    "simulation.step(10000)"
   ]
  },
  {
   "cell_type": "markdown",
   "metadata": {},
   "source": [
    "# Results"
   ]
  },
  {
   "cell_type": "code",
   "execution_count": 93,
   "metadata": {},
   "outputs": [
    {
     "name": "stdout",
     "output_type": "stream",
     "text": [
      "OCM:  0.17 cm2/day)\n",
      "BUT:  0.25 cm2/day)\n"
     ]
    },
    {
     "data": {
      "image/png": "[encoded data removed]",
      "text/plain": [
       "<Figure size 640x480 with 1 Axes>"
      ]
     },
     "metadata": {},
     "output_type": "display_data"
    }
   ],
   "source": [
    "df = msdReporter.df\n",
    "\n",
    "for mol_type in list(df.columns)[1:]:\n",
    "    linear_model = linregress(df['Time'], df[mol_type])\n",
    "    slope = linear_model.slope\n",
    "    plt.plot(df['Time']*10**12, df[mol_type]*10**16,label=mol_type)\n",
    "    D = slope / 6*24*60*60\n",
    "    print(f'{mol_type}: {D: >5.2f} cm2/day)')\n",
    "\n",
    "plt.xlabel('Time [ps]')\n",
    "plt.ylabel('MSD [A²]')\n",
    "plt.legend();"
   ]
  }
 ],
 "metadata": {
  "kernelspec": {
   "display_name": "Python 3.10.13 ('MolModel')",
   "language": "python",
   "name": "python3"
  },
  "language_info": {
   "codemirror_mode": {
    "name": "ipython",
    "version": 3
   },
   "file_extension": ".py",
   "mimetype": "text/x-python",
   "name": "python",
   "nbconvert_exporter": "python",
   "pygments_lexer": "ipython3",
   "version": "3.10.13"
  },
  "orig_nbformat": 4,
  "vscode": {
   "interpreter": {
    "hash": "29b6d04e19cde50d8d96c0d61c59dc7ebb540b0872acf757a2718edf3a44d183"
   }
  }
 },
 "nbformat": 4,
 "nbformat_minor": 2
}

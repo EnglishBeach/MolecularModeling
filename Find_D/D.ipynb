{
 "cells": [
  {
   "cell_type": "code",
   "execution_count": 1,
   "metadata": {},
   "outputs": [],
   "source": [
    "import warnings\n",
    "from IPython.utils import io\n",
    "warnings.filterwarnings('ignore')\n",
    "warnings.simplefilter('ignore')\n",
    "\n",
    "\n",
    "with io.capture_output() as captured:\n",
    "    import sys\n",
    "\n",
    "    import matplotlib.pyplot as plt\n",
    "    import mbuild\n",
    "    import nglview\n",
    "    import mdtraj\n",
    "\n",
    "    from tqdm import tqdm\n",
    "    from rdkit import Chem\n",
    "    from rdkit.Chem import Draw\n",
    "\n",
    "    import openmm\n",
    "    from openff import toolkit, utilities, interchange, models\n",
    "    from openff.toolkit import topology \n",
    "    from openff.units import unit\n",
    "    from openff.interchange.components._packmol import UNIT_CUBE, pack_box"
   ]
  },
  {
   "cell_type": "code",
   "execution_count": 2,
   "metadata": {},
   "outputs": [
    {
     "data": {
      "image/jpeg": "[encoded data removed]",
      "image/png": "[encoded data removed]",
      "text/plain": [
       "<PIL.PngImagePlugin.PngImageFile image mode=RGB size=300x300>"
      ]
     },
     "execution_count": 2,
     "metadata": {},
     "output_type": "execute_result"
    }
   ],
   "source": [
    "molecules_rdkit = dict(\n",
    "    ocm2=Chem.MolFromSmiles('CC(C(OCCOC(OCCOCCOC(OCCOC(C(C)=C)=O)=O)=O)=O)=C'),\n",
    "    dmag=Chem.MolFromSmiles('C=C(C)C(OCCOC(C(C)=C)=O)=O'),\n",
    "    peta=Chem.MolFromSmiles('C=CC(OCC(COC(C=C)=O)(COC(C=C)=O)CO)=O'),\n",
    "    butanol1=Chem.MolFromSmiles('OCCCC'),\n",
    ")\n",
    "Draw.MolToImage(molecules_rdkit['ocm2'])"
   ]
  },
  {
   "cell_type": "code",
   "execution_count": 38,
   "metadata": {},
   "outputs": [],
   "source": [
    "molecules = {}\n",
    "for molecule_name, rdkit_mol in molecules_rdkit.items():\n",
    "    mol = toolkit.Molecule.from_rdkit(rdkit_mol)\n",
    "    molecules[molecule_name] = mol\n",
    "    mol.generate_conformers(n_conformers=1)\n",
    "    mol.name = molecule_name\n",
    "\n",
    "    for atom in mol.atoms:\n",
    "        atom.metadata[\"residue_name\"]=molecule_name[:3].upper()\n",
    "    mol.add_hierarchy_scheme(iterator_name='residue',uniqueness_criteria=['residue_name'])"
   ]
  },
  {
   "cell_type": "code",
   "execution_count": 39,
   "metadata": {},
   "outputs": [
    {
     "data": {
      "application/vnd.jupyter.widget-view+json": {
       "model_id": "7bd545f1f7bb4b2886fdf0bcee04978f",
       "version_major": 2,
       "version_minor": 0
      },
      "text/plain": [
       "NGLWidget()"
      ]
     },
     "metadata": {},
     "output_type": "display_data"
    }
   ],
   "source": [
    "with io.capture_output() as captured:    \n",
    "    a = molecules['ocm2']\n",
    "    view= a.visualize(backend='nglview')\n",
    "view"
   ]
  },
  {
   "cell_type": "markdown",
   "metadata": {},
   "source": [
    "# Parametrize"
   ]
  },
  {
   "cell_type": "code",
   "execution_count": null,
   "metadata": {},
   "outputs": [],
   "source": [
    "# inters = {}\n",
    "# for key in tqdm(iterable=molecules):\n",
    "\n",
    "#     mol = molecules[key]\n",
    "#     mol.assign_partial_charges(\n",
    "#         partial_charge_method=\"am1bcc\",\n",
    "#         use_conformers=mol.conformers,\n",
    "#     )\n",
    "#     top = mol.to_topology()\n",
    "#     ff = toolkit.ForceField('openff_unconstrained-2.1.0.offxml')\n",
    "#     inter = interchange.Interchange.from_smirnoff(\n",
    "#         force_field=ff,\n",
    "#         topology=top,\n",
    "#         charge_from_molecules=[mol],\n",
    "#         partial_bond_orders_from_molecules=[mol],\n",
    "#         allow_nonintegral_charges=True,\n",
    "#     )\n",
    "#     inters[key] = inter\n",
    "# topology = {key: mol.to_topology() for key, mol in molecules.items()}"
   ]
  },
  {
   "cell_type": "markdown",
   "metadata": {},
   "source": [
    "# Pack"
   ]
  },
  {
   "cell_type": "code",
   "execution_count": 41,
   "metadata": {},
   "outputs": [],
   "source": [
    "box=pack_box(\n",
    "    molecules=[molecules['butanol1'],molecules['ocm2']],\n",
    "    number_of_copies= [30]*2,\n",
    "    mass_density=500 * unit.kilogram / unit.meter**3,\n",
    "    box_shape=UNIT_CUBE\n",
    ")"
   ]
  },
  {
   "cell_type": "code",
   "execution_count": 53,
   "metadata": {},
   "outputs": [
    {
     "data": {
      "application/vnd.jupyter.widget-view+json": {
       "model_id": "ed331733077d4a71bdf104270db08db4",
       "version_major": 2,
       "version_minor": 0
      },
      "text/plain": [
       "NGLWidget()"
      ]
     },
     "metadata": {},
     "output_type": "display_data"
    }
   ],
   "source": [
    "with io.capture_output() as captured:   \n",
    "    view = box.visualize()\n",
    "view\n"
   ]
  },
  {
   "cell_type": "code",
   "execution_count": 43,
   "metadata": {},
   "outputs": [],
   "source": [
    "# FIXME: Doesn't load and save uncorrect \n",
    "box.to_file(\n",
    "    file='box_top.pdb',\n",
    "    # ensure_unique_atom_names='residue_name',\n",
    "    ensure_unique_atom_names=False,\n",
    "    # keep_ids=True,\n",
    ")\n",
    "# box2= toolkit.Topology.from_pdb('box_top.pdb',unique_molecules=[molecules['butanol1'],molecules['ocm2']])"
   ]
  },
  {
   "cell_type": "code",
   "execution_count": 49,
   "metadata": {},
   "outputs": [],
   "source": [
    "with open('box_top.json','w') as file:\n",
    "    box_j=box.to_json()\n",
    "    file.write(box_j)"
   ]
  },
  {
   "cell_type": "code",
   "execution_count": 4,
   "metadata": {},
   "outputs": [],
   "source": [
    "with open('box_top.json','r') as file:\n",
    "    box_j= file.read()\n",
    "    box2 = toolkit.Topology.from_json(box_j)"
   ]
  },
  {
   "cell_type": "code",
   "execution_count": 54,
   "metadata": {},
   "outputs": [],
   "source": [
    "ff = toolkit.ForceField('openff_unconstrained-2.1.0.offxml')\n",
    "box_parametrized= interchange.Interchange.from_smirnoff(\n",
    "    force_field=ff,\n",
    "    topology=box2,\n",
    ")"
   ]
  },
  {
   "cell_type": "code",
   "execution_count": 55,
   "metadata": {},
   "outputs": [],
   "source": [
    "box_parametrized.to_pdb(\"out.pdb\")"
   ]
  },
  {
   "cell_type": "code",
   "execution_count": null,
   "metadata": {},
   "outputs": [],
   "source": [
    "box_parametrized.minimize()"
   ]
  },
  {
   "cell_type": "code",
   "execution_count": null,
   "metadata": {},
   "outputs": [],
   "source": [
    "# Logging options.\n",
    "trj_freq = 10  # number of steps per written trajectory frame\n",
    "data_freq = 10  # number of steps per written simulation statistics\n",
    "\n",
    "# Integration options\n",
    "time_step = 2 * openmm.unit.femtoseconds  # simulation timestep\n",
    "temperature = 300 * openmm.unit.kelvin  # simulation temperature\n",
    "friction = 1 / openmm.unit.picosecond  # friction constant\n",
    "\n",
    "integrator = openmm.LangevinIntegrator(temperature, friction, time_step)"
   ]
  },
  {
   "cell_type": "code",
   "execution_count": null,
   "metadata": {},
   "outputs": [],
   "source": [
    "sim = box_parametrized.to_openmm_simulation(integrator=integrator)\n",
    "sim.context.setVelocitiesToTemperature(temperature)\n",
    "reporters = [\n",
    "    openmm.app.StateDataReporter(sys.stdout, trj_freq, step=True),\n",
    "    openmm.app.DCDReporter(\n",
    "        'traj.dcd',\n",
    "        trj_freq,  # enforcePeriodicBox=False,\n",
    "    ),\n",
    "    openmm.app.PDBReporter('solve2.pdb', trj_freq),\n",
    "]\n",
    "sim.reporters.extend(reporters)"
   ]
  },
  {
   "cell_type": "code",
   "execution_count": null,
   "metadata": {},
   "outputs": [],
   "source": [
    "sim.step(1000)"
   ]
  },
  {
   "cell_type": "code",
   "execution_count": null,
   "metadata": {},
   "outputs": [],
   "source": [
    "nglview.show_mdtraj(mdtraj.load('/home/base/WSL_base/Find_D/solve2.pdb'))"
   ]
  }
 ],
 "metadata": {
  "kernelspec": {
   "display_name": "Python 3.10.13 ('MolModel')",
   "language": "python",
   "name": "python3"
  },
  "language_info": {
   "codemirror_mode": {
    "name": "ipython",
    "version": 3
   },
   "file_extension": ".py",
   "mimetype": "text/x-python",
   "name": "python",
   "nbconvert_exporter": "python",
   "pygments_lexer": "ipython3",
   "version": "3.10.13"
  },
  "orig_nbformat": 4,
  "vscode": {
   "interpreter": {
    "hash": "29b6d04e19cde50d8d96c0d61c59dc7ebb540b0872acf757a2718edf3a44d183"
   }
  }
 },
 "nbformat": 4,
 "nbformat_minor": 2
}

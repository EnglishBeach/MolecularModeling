{
 "cells": [
  {
   "cell_type": "code",
   "execution_count": null,
   "metadata": {},
   "outputs": [],
   "source": [
    "import sys\n",
    "\n",
    "\n",
    "import matplotlib.pyplot as plt\n",
    "import mbuild\n",
    "import nglview\n",
    "import mdtraj\n",
    "\n",
    "from tqdm import tqdm\n",
    "from rdkit import Chem\n",
    "from rdkit.Chem import Draw\n",
    "\n",
    "import openmm\n",
    "from openff import toolkit, utilities, interchange, models\n",
    "from openff.units import unit\n",
    "from openff.interchange.components._packmol import UNIT_CUBE, pack_box"
   ]
  },
  {
   "cell_type": "code",
   "execution_count": null,
   "metadata": {},
   "outputs": [],
   "source": [
    "molecules_rdkit = dict(\n",
    "    ocm2=Chem.MolFromSmiles('CC(C(OCCOC(OCCOCCOC(OCCOC(C(C)=C)=O)=O)=O)=O)=C'),\n",
    "    dmag=Chem.MolFromSmiles('C=C(C)C(OCCOC(C(C)=C)=O)=O'),\n",
    "    peta=Chem.MolFromSmiles('C=CC(OCC(COC(C=C)=O)(COC(C=C)=O)CO)=O'),\n",
    "    butanol1=Chem.MolFromSmiles('OCCCC'),\n",
    ")\n"
   ]
  },
  {
   "cell_type": "code",
   "execution_count": null,
   "metadata": {},
   "outputs": [],
   "source": [
    "Draw.MolToImage(molecules_rdkit['peta'])"
   ]
  },
  {
   "cell_type": "code",
   "execution_count": null,
   "metadata": {},
   "outputs": [],
   "source": [
    "molecules = {}\n",
    "for key, rdkit_mol in molecules_rdkit.items():\n",
    "    mol=toolkit.Molecule.from_rdkit(rdkit_mol)\n",
    "    molecules[key]=mol\n",
    "    mol.generate_conformers(n_conformers=1)\n",
    "    mol.name=key"
   ]
  },
  {
   "cell_type": "markdown",
   "metadata": {},
   "source": [
    "# Parametrize"
   ]
  },
  {
   "cell_type": "code",
   "execution_count": null,
   "metadata": {},
   "outputs": [],
   "source": [
    "# inters = {}\n",
    "# for key in tqdm(iterable=molecules):\n",
    "\n",
    "#     mol = molecules[key]\n",
    "#     mol.assign_partial_charges(\n",
    "#         partial_charge_method=\"am1bcc\",\n",
    "#         use_conformers=mol.conformers,\n",
    "#     )\n",
    "#     top = mol.to_topology()\n",
    "#     ff = toolkit.ForceField('openff_unconstrained-2.1.0.offxml')\n",
    "#     inter = interchange.Interchange.from_smirnoff(\n",
    "#         force_field=ff,\n",
    "#         topology=top,\n",
    "#         charge_from_molecules=[mol],\n",
    "#         partial_bond_orders_from_molecules=[mol],\n",
    "#         allow_nonintegral_charges=True,\n",
    "#     )\n",
    "#     inters[key] = inter\n",
    "# topology = {key: mol.to_topology() for key, mol in molecules.items()}"
   ]
  },
  {
   "cell_type": "markdown",
   "metadata": {},
   "source": [
    "# Pack"
   ]
  },
  {
   "cell_type": "code",
   "execution_count": null,
   "metadata": {},
   "outputs": [],
   "source": [
    "a = molecules['ocm2']\n",
    "a.visualize(backend='nglview')"
   ]
  },
  {
   "cell_type": "code",
   "execution_count": null,
   "metadata": {},
   "outputs": [],
   "source": [
    "box=pack_box(\n",
    "    molecules=[molecules['ocm2'],molecules['butanol1']],\n",
    "    number_of_copies=2 * [50],\n",
    "    mass_density=850 * unit.kilogram / unit.meter**3,\n",
    "    box_shape=UNIT_CUBE\n",
    ")"
   ]
  },
  {
   "cell_type": "code",
   "execution_count": null,
   "metadata": {},
   "outputs": [],
   "source": [
    "box.visualize()"
   ]
  },
  {
   "cell_type": "code",
   "execution_count": null,
   "metadata": {},
   "outputs": [],
   "source": [
    "ff = toolkit.ForceField('openff_unconstrained-2.1.0.offxml')\n",
    "box_parametrized= interchange.Interchange.from_smirnoff(\n",
    "    force_field=ff,\n",
    "    topology=box\n",
    ")"
   ]
  },
  {
   "cell_type": "code",
   "execution_count": null,
   "metadata": {},
   "outputs": [],
   "source": [
    "box_parametrized.minimize()"
   ]
  },
  {
   "cell_type": "code",
   "execution_count": null,
   "metadata": {},
   "outputs": [],
   "source": [
    "# Logging options.\n",
    "trj_freq = 10  # number of steps per written trajectory frame\n",
    "data_freq = 10  # number of steps per written simulation statistics\n",
    "\n",
    "# Integration options\n",
    "time_step = 2 * openmm.unit.femtoseconds  # simulation timestep\n",
    "temperature = 300 * openmm.unit.kelvin  # simulation temperature\n",
    "friction = 1 / openmm.unit.picosecond  # friction constant\n",
    "\n",
    "integrator = openmm.LangevinIntegrator(temperature, friction, time_step)"
   ]
  },
  {
   "cell_type": "code",
   "execution_count": null,
   "metadata": {},
   "outputs": [],
   "source": [
    "sim = box_parametrized.to_openmm_simulation(integrator=integrator)\n",
    "sim.context.setVelocitiesToTemperature(temperature)\n",
    "reporters = [\n",
    "    openmm.app.StateDataReporter(sys.stdout, trj_freq, step=True),\n",
    "    openmm.app.DCDReporter(\n",
    "        'traj.dcd',\n",
    "        trj_freq,  # enforcePeriodicBox=False,\n",
    "    ),\n",
    "    openmm.app.PDBReporter('solve2.pdb', trj_freq),\n",
    "]\n",
    "sim.reporters.extend(reporters)"
   ]
  },
  {
   "cell_type": "code",
   "execution_count": null,
   "metadata": {},
   "outputs": [],
   "source": [
    "sim.step(1000)"
   ]
  },
  {
   "cell_type": "code",
   "execution_count": null,
   "metadata": {},
   "outputs": [],
   "source": [
    "nglview.show_mdtraj(mdtraj.load('/home/base/WSL_base/Find_D/solve2.pdb'))"
   ]
  }
 ],
 "metadata": {
  "kernelspec": {
   "display_name": "Python 3.10.13 ('Mol')",
   "language": "python",
   "name": "python3"
  },
  "language_info": {
   "codemirror_mode": {
    "name": "ipython",
    "version": 3
   },
   "file_extension": ".py",
   "mimetype": "text/x-python",
   "name": "python",
   "nbconvert_exporter": "python",
   "pygments_lexer": "ipython3",
   "version": "3.10.13"
  },
  "orig_nbformat": 4,
  "vscode": {
   "interpreter": {
    "hash": "5747ce37e742b7d7cd85107dc2b1126b18c19d9e768498ef9bb7a68086f2ce47"
   }
  }
 },
 "nbformat": 4,
 "nbformat_minor": 2
}

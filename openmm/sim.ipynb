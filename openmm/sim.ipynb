{
   "cells": [
      {
         "cell_type": "code",
         "execution_count": null,
         "metadata": {},
         "outputs": [],
         "source": [
            "import os\n",
            "from pathlib import Path\n",
            "\n",
            "\n",
            "import matplotlib.pyplot as plt\n",
            "\n",
            "import MDAnalysis as mda\n",
            "import numpy as np\n",
            "import openmm\n",
            "\n",
            "import openmm.app as openmm_app\n",
            "import pandas as pd\n",
            "\n",
            "import pydiffusion\n",
            "\n",
            "from MDAnalysis.analysis import msd, rms\n",
            "\n",
            "from scipy.optimize import curve_fit\n",
            "\n",
            "from scipy.stats import linregress\n",
            "from tools import base, simulator"
         ]
      },
      {
         "cell_type": "code",
         "execution_count": null,
         "metadata": {},
         "outputs": [],
         "source": [
            "sim = simulator.Simulation(T=20)\n",
            "sim.load('systems\\dmag_11_1069')\n",
            "sim.equilibrate('model')\n",
            "sim.start_product('model')"
         ]
      },
      {
         "cell_type": "code",
         "execution_count": null,
         "metadata": {},
         "outputs": [],
         "source": [
            "sim.simulate(20)"
         ]
      },
      {
         "cell_type": "code",
         "execution_count": null,
         "metadata": {},
         "outputs": [],
         "source": [
            "sim.get_msd().to_csv('model/msd.csv')"
         ]
      },
      {
         "cell_type": "markdown",
         "metadata": {},
         "source": [
            "# Plots"
         ]
      },
      {
         "cell_type": "code",
         "execution_count": null,
         "metadata": {},
         "outputs": [],
         "source": [
            "%matplotlib qt"
         ]
      },
      {
         "cell_type": "code",
         "execution_count": null,
         "metadata": {},
         "outputs": [],
         "source": [
            "u = mda.Universe('results/dmag_35_1029/15/Eq.pdb', 'results/dmag_35_1029/15/traj.xtc')"
         ]
      },
      {
         "cell_type": "code",
         "execution_count": null,
         "metadata": {},
         "outputs": [],
         "source": [
            "msd_but = pd.read_csv('results/dmag_35_1029/15/msd.csv',index_col=0)\n",
            "r_but = rms.RMSD(u, u, 'resname BUT')\n",
            "r_but.run()\n",
            "df_but = pd.DataFrame(r_but.results.rmsd, columns=['Frame', 'Time', 'BUT'])\n",
            "\n",
            "fig, ax = plt.subplots()\n",
            "ax.plot(df_but['Time'], df_but['BUT'], label='RMSD')\n",
            "ax.plot(msd_but.index,msd_but['BUT']*10**14,label='MSD')\n",
            "\n",
            "ax.set_ylabel('RMSD (A)')\n",
            "ax.legend()"
         ]
      },
      {
         "cell_type": "code",
         "execution_count": null,
         "metadata": {},
         "outputs": [],
         "source": [
            "def get_msd(universe, compound: base.MolNames, dt=1):\n",
            "    selection = f'resname {compound.value}'\n",
            "    m = msd.EinsteinMSD(universe, select=selection)\n",
            "    m.run()\n",
            "    return m.times, np.mean(m.results['msds_by_particle'], axis=1)\n",
            "\n",
            "\n",
            "def analyse_lin(time, data, dt=1):\n",
            "    statistics = {}\n",
            "    (\n",
            "        slope,\n",
            "        intercept,\n",
            "        statistics['R'],\n",
            "        statistics['P'],\n",
            "        statistics['err'],\n",
            "    ) = linregress(time, data)\n",
            "    D = slope / 6\n",
            "    D0 = intercept\n",
            "    return D, D0, statistics"
         ]
      },
      {
         "cell_type": "code",
         "execution_count": null,
         "metadata": {},
         "outputs": [],
         "source": [
            "time,y = get_msd(u,base.MolNames.dmag)"
         ]
      },
      {
         "cell_type": "code",
         "execution_count": null,
         "metadata": {},
         "outputs": [],
         "source": [
            "D, D0,  statistics=analyse_lin(time,y)\n",
            "D,statistics"
         ]
      },
      {
         "cell_type": "code",
         "execution_count": null,
         "metadata": {},
         "outputs": [],
         "source": [
            "# Plot\n",
            "plt.scatter(time, y, label='MSD (Average)',s=2)\n",
            "plt.plot(time, 6*D * time + D0, label='Linear',c='r')\n",
            "plt.xlabel('Time')\n",
            "plt.ylabel('MSD')\n",
            "plt.legend()\n",
            "print(f\"D={D: .3e} | R2={statistics['R']: .3e}\")\n",
            "plt.show()"
         ]
      },
      {
         "cell_type": "code",
         "execution_count": null,
         "metadata": {},
         "outputs": [],
         "source": [
            "plt.scatter(time, y/y.mean(), label='MSD (Average)',s=2,c='r',)\n",
            "plt.plot(msd_but.index,msd_but['BUT']/msd_but['BUT'].mean(),label='MSD',c='b')\n",
            "plt.plot(time, (6*D * time + D0)/(6*D * time + D0).mean(), label='Linear',c='g')\n",
            "plt.legend()"
         ]
      }
   ],
   "metadata": {
      "kernelspec": {
         "display_name": "Python 3",
         "language": "python",
         "name": "python3"
      },
      "language_info": {
         "codemirror_mode": {
            "name": "ipython",
            "version": 3
         },
         "file_extension": ".py",
         "mimetype": "text/x-python",
         "name": "python",
         "nbconvert_exporter": "python",
         "pygments_lexer": "ipython3",
         "version": "3.10.13"
      }
   },
   "nbformat": 4,
   "nbformat_minor": 2
}

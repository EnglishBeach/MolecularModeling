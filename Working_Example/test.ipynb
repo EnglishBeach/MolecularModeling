{
 "cells": [
  {
   "cell_type": "code",
   "execution_count": 1,
   "metadata": {},
   "outputs": [],
   "source": [
    "from openmm import *\n",
    "from openmm.app import *\n",
    "from openmm.unit import *\n",
    "import pandas as pd\n",
    "import numpy as np\n",
    "# from scipy.stats import linregress"
   ]
  },
  {
   "cell_type": "code",
   "execution_count": 2,
   "metadata": {},
   "outputs": [],
   "source": [
    "class MSDReporter:\n",
    "    def __init__(self, interval, simulation, dt):\n",
    "        self.interval = interval\n",
    "        state0 = simulation.context.getState(getPositions=True, enforcePeriodicBox=False)\n",
    "        self.x0 = state0.getPositions(asNumpy=True).value_in_unit(centimeter)\n",
    "        self.dt = dt.value_in_unit(second)\n",
    "        self.label = dict(Time=[], MSD=[])\n",
    "\n",
    "    def describeNextReport(self, simulation):\n",
    "        steps = self.interval - simulation.currentStep % self.interval\n",
    "        return (steps, True, False, False, False, False)\n",
    "\n",
    "    def report(self, simulation, state):\n",
    "        x = state.getPositions(asNumpy=True).value_in_unit(centimeter)\n",
    "        msd = np.mean(np.linalg.norm((x - self.x0), axis=1) ** 2)\n",
    "        time = state.getStepCount() * self.dt\n",
    "        self.label['Time'].append(time)\n",
    "        self.label['MSD'].append(msd)"
   ]
  },
  {
   "cell_type": "code",
   "execution_count": 3,
   "metadata": {},
   "outputs": [],
   "source": [
    "# Input Files\n",
    "\n",
    "pdb = PDBFile('mW.pdb')\n",
    "forcefield = ForceField('mW.xml')\n",
    "# forcefield = ForceField('amber14/tip3pfb.xml')\n",
    "\n",
    "# System Configuration\n",
    "\n",
    "nonbondedMethod = PME\n",
    "nonbondedCutoff = 0.43*nanometers\n",
    "constraints = None\n",
    "rigidWater = False\n",
    "\n",
    "# Integration Options\n",
    "\n",
    "dt = 0.005*picoseconds\n",
    "temperature = 298*kelvin\n",
    "friction = 1.0/picosecond\n",
    "pressure = 1.0*bar\n",
    "barostatInterval = 25\n",
    "\n",
    "# Simulation Options\n",
    "\n",
    "steps = 600000\n",
    "equilibrationSteps = 1000\n",
    "platform = Platform.getPlatformByName('CUDA')\n",
    "platformProperties = {'Precision': 'single'}\n",
    "platformProperties[\"DeviceIndex\"] = \"0\"\n",
    "dcdReporter = DCDReporter('trajectory.dcd', 1000, enforcePeriodicBox=False)\n",
    "dataReporter = StateDataReporter('log.txt', 1000, totalSteps=steps, remainingTime=True,\n",
    "    step=True, speed=True, progress=True, potentialEnergy=True, temperature=True, density=True, separator='\\t')\n"
   ]
  },
  {
   "cell_type": "code",
   "execution_count": 4,
   "metadata": {},
   "outputs": [
    {
     "name": "stdout",
     "output_type": "stream",
     "text": [
      "Building system...\n"
     ]
    }
   ],
   "source": [
    "# Prepare the Simulation\n",
    "\n",
    "print('Building system...')\n",
    "topology = pdb.topology\n",
    "positions = pdb.positions\n",
    "system = forcefield.createSystem(topology, nonbondedMethod=nonbondedMethod, nonbondedCutoff=nonbondedCutoff,\n",
    "                                 constraints=constraints, rigidWater=rigidWater, removeCMMotion=False)\n",
    "integrator = LangevinMiddleIntegrator(temperature, friction, dt)\n",
    "simulation = Simulation(topology, system, integrator, platform, platformProperties)\n",
    "simulation.context.setPositions(positions)"
   ]
  },
  {
   "cell_type": "code",
   "execution_count": 5,
   "metadata": {},
   "outputs": [
    {
     "name": "stdout",
     "output_type": "stream",
     "text": [
      "Performing energy minimization...\n",
      "Equilibrating...\n"
     ]
    }
   ],
   "source": [
    "# Minimize and Equilibrate\n",
    "\n",
    "print('Performing energy minimization...')\n",
    "simulation.minimizeEnergy()\n",
    "print('Equilibrating...')\n",
    "simulation.context.setVelocitiesToTemperature(temperature)\n",
    "simulation.step(equilibrationSteps)\n",
    "system.addForce(MonteCarloBarostat(pressure, temperature, barostatInterval))\n",
    "simulation.context.reinitialize(preserveState=True)\n",
    "simulation.step(equilibrationSteps)"
   ]
  },
  {
   "cell_type": "code",
   "execution_count": 6,
   "metadata": {},
   "outputs": [
    {
     "name": "stdout",
     "output_type": "stream",
     "text": [
      "Simulating...\n"
     ]
    },
    {
     "ename": "KeyboardInterrupt",
     "evalue": "",
     "output_type": "error",
     "traceback": [
      "\u001b[1;31m---------------------------------------------------------------------------\u001b[0m",
      "\u001b[1;31mKeyboardInterrupt\u001b[0m                         Traceback (most recent call last)",
      "\u001b[1;32m~\\AppData\\Local\\Temp\\ipykernel_6528\\1509577991.py\u001b[0m in \u001b[0;36m?\u001b[1;34m()\u001b[0m\n\u001b[0;32m      6\u001b[0m \u001b[0msimulation\u001b[0m\u001b[1;33m.\u001b[0m\u001b[0mreporters\u001b[0m\u001b[1;33m.\u001b[0m\u001b[0mappend\u001b[0m\u001b[1;33m(\u001b[0m\u001b[0mdataReporter\u001b[0m\u001b[1;33m)\u001b[0m\u001b[1;33m\u001b[0m\u001b[1;33m\u001b[0m\u001b[0m\n\u001b[0;32m      7\u001b[0m \u001b[0msimulation\u001b[0m\u001b[1;33m.\u001b[0m\u001b[0mreporters\u001b[0m\u001b[1;33m.\u001b[0m\u001b[0mappend\u001b[0m\u001b[1;33m(\u001b[0m\u001b[0mmsdReporter\u001b[0m\u001b[1;33m)\u001b[0m\u001b[1;33m\u001b[0m\u001b[1;33m\u001b[0m\u001b[0m\n\u001b[0;32m      8\u001b[0m \u001b[0msimulation\u001b[0m\u001b[1;33m.\u001b[0m\u001b[0mcurrentStep\u001b[0m \u001b[1;33m=\u001b[0m \u001b[1;36m0\u001b[0m\u001b[1;33m\u001b[0m\u001b[1;33m\u001b[0m\u001b[0m\n\u001b[0;32m      9\u001b[0m \u001b[1;33m\u001b[0m\u001b[0m\n\u001b[1;32m---> 10\u001b[1;33m \u001b[0msimulation\u001b[0m\u001b[1;33m.\u001b[0m\u001b[0mstep\u001b[0m\u001b[1;33m(\u001b[0m\u001b[0msteps\u001b[0m\u001b[1;33m)\u001b[0m\u001b[1;33m\u001b[0m\u001b[1;33m\u001b[0m\u001b[0m\n\u001b[0m\u001b[0;32m     11\u001b[0m \u001b[1;33m\u001b[0m\u001b[0m\n\u001b[0;32m     12\u001b[0m \u001b[0mprint\u001b[0m\u001b[1;33m(\u001b[0m\u001b[1;34m'done'\u001b[0m\u001b[1;33m)\u001b[0m\u001b[1;33m\u001b[0m\u001b[1;33m\u001b[0m\u001b[0m\n\u001b[0;32m     13\u001b[0m \u001b[0mdf\u001b[0m \u001b[1;33m=\u001b[0m \u001b[0mpd\u001b[0m\u001b[1;33m.\u001b[0m\u001b[0mDataFrame\u001b[0m\u001b[1;33m(\u001b[0m\u001b[0mmsdReporter\u001b[0m\u001b[1;33m.\u001b[0m\u001b[0mlabel\u001b[0m\u001b[1;33m)\u001b[0m\u001b[1;33m\u001b[0m\u001b[1;33m\u001b[0m\u001b[0m\n",
      "\u001b[1;32md:\\CondaEnvs\\MolModel\\lib\\site-packages\\openmm\\app\\simulation.py\u001b[0m in \u001b[0;36m?\u001b[1;34m(self, steps)\u001b[0m\n\u001b[0;32m    139\u001b[0m     \u001b[1;32mdef\u001b[0m \u001b[0mstep\u001b[0m\u001b[1;33m(\u001b[0m\u001b[0mself\u001b[0m\u001b[1;33m,\u001b[0m \u001b[0msteps\u001b[0m\u001b[1;33m)\u001b[0m\u001b[1;33m:\u001b[0m\u001b[1;33m\u001b[0m\u001b[1;33m\u001b[0m\u001b[0m\n\u001b[0;32m    140\u001b[0m         \u001b[1;34m\"\"\"Advance the simulation by integrating a specified number of time steps.\"\"\"\u001b[0m\u001b[1;33m\u001b[0m\u001b[1;33m\u001b[0m\u001b[0m\n\u001b[1;32m--> 141\u001b[1;33m         \u001b[0mself\u001b[0m\u001b[1;33m.\u001b[0m\u001b[0m_simulate\u001b[0m\u001b[1;33m(\u001b[0m\u001b[0mendStep\u001b[0m\u001b[1;33m=\u001b[0m\u001b[0mself\u001b[0m\u001b[1;33m.\u001b[0m\u001b[0mcurrentStep\u001b[0m\u001b[1;33m+\u001b[0m\u001b[0msteps\u001b[0m\u001b[1;33m)\u001b[0m\u001b[1;33m\u001b[0m\u001b[1;33m\u001b[0m\u001b[0m\n\u001b[0m",
      "\u001b[1;32md:\\CondaEnvs\\MolModel\\lib\\site-packages\\openmm\\app\\simulation.py\u001b[0m in \u001b[0;36m?\u001b[1;34m(self, endStep, endTime)\u001b[0m\n\u001b[0;32m    202\u001b[0m                     \u001b[0mnextSteps\u001b[0m \u001b[1;33m=\u001b[0m \u001b[0mnextReport\u001b[0m\u001b[1;33m[\u001b[0m\u001b[0mi\u001b[0m\u001b[1;33m]\u001b[0m\u001b[1;33m[\u001b[0m\u001b[1;36m0\u001b[0m\u001b[1;33m]\u001b[0m\u001b[1;33m\u001b[0m\u001b[1;33m\u001b[0m\u001b[0m\n\u001b[0;32m    203\u001b[0m                     \u001b[0manyReport\u001b[0m \u001b[1;33m=\u001b[0m \u001b[1;32mTrue\u001b[0m\u001b[1;33m\u001b[0m\u001b[1;33m\u001b[0m\u001b[0m\n\u001b[0;32m    204\u001b[0m             \u001b[0mstepsToGo\u001b[0m \u001b[1;33m=\u001b[0m \u001b[0mnextSteps\u001b[0m\u001b[1;33m\u001b[0m\u001b[1;33m\u001b[0m\u001b[0m\n\u001b[0;32m    205\u001b[0m             \u001b[1;32mwhile\u001b[0m \u001b[0mstepsToGo\u001b[0m \u001b[1;33m>\u001b[0m \u001b[1;36m10\u001b[0m\u001b[1;33m:\u001b[0m\u001b[1;33m\u001b[0m\u001b[1;33m\u001b[0m\u001b[0m\n\u001b[1;32m--> 206\u001b[1;33m                 \u001b[0mself\u001b[0m\u001b[1;33m.\u001b[0m\u001b[0mintegrator\u001b[0m\u001b[1;33m.\u001b[0m\u001b[0mstep\u001b[0m\u001b[1;33m(\u001b[0m\u001b[1;36m10\u001b[0m\u001b[1;33m)\u001b[0m \u001b[1;31m# Only take 10 steps at a time, to give Python more chances to respond to a control-c.\u001b[0m\u001b[1;33m\u001b[0m\u001b[1;33m\u001b[0m\u001b[0m\n\u001b[0m\u001b[0;32m    207\u001b[0m                 \u001b[0mstepsToGo\u001b[0m \u001b[1;33m-=\u001b[0m \u001b[1;36m10\u001b[0m\u001b[1;33m\u001b[0m\u001b[1;33m\u001b[0m\u001b[0m\n\u001b[0;32m    208\u001b[0m                 \u001b[1;32mif\u001b[0m \u001b[0mendTime\u001b[0m \u001b[1;32mis\u001b[0m \u001b[1;32mnot\u001b[0m \u001b[1;32mNone\u001b[0m \u001b[1;32mand\u001b[0m \u001b[0mdatetime\u001b[0m\u001b[1;33m.\u001b[0m\u001b[0mnow\u001b[0m\u001b[1;33m(\u001b[0m\u001b[1;33m)\u001b[0m \u001b[1;33m>=\u001b[0m \u001b[0mendTime\u001b[0m\u001b[1;33m:\u001b[0m\u001b[1;33m\u001b[0m\u001b[1;33m\u001b[0m\u001b[0m\n\u001b[0;32m    209\u001b[0m                     \u001b[1;32mreturn\u001b[0m\u001b[1;33m\u001b[0m\u001b[1;33m\u001b[0m\u001b[0m\n",
      "\u001b[1;32md:\\CondaEnvs\\MolModel\\lib\\site-packages\\openmm\\openmm.py\u001b[0m in \u001b[0;36m?\u001b[1;34m(self, steps)\u001b[0m\n\u001b[0;32m  13916\u001b[0m         \u001b[1;33m-\u001b[0m\u001b[1;33m-\u001b[0m\u001b[1;33m-\u001b[0m\u001b[1;33m-\u001b[0m\u001b[1;33m-\u001b[0m\u001b[1;33m-\u001b[0m\u001b[1;33m-\u001b[0m\u001b[1;33m-\u001b[0m\u001b[1;33m-\u001b[0m\u001b[1;33m-\u001b[0m\u001b[1;33m\u001b[0m\u001b[1;33m\u001b[0m\u001b[0m\n\u001b[0;32m  13917\u001b[0m         \u001b[0msteps\u001b[0m \u001b[1;33m:\u001b[0m \u001b[0mint\u001b[0m\u001b[1;33m\u001b[0m\u001b[1;33m\u001b[0m\u001b[0m\n\u001b[0;32m  13918\u001b[0m             \u001b[0mthe\u001b[0m \u001b[0mnumber\u001b[0m \u001b[0mof\u001b[0m \u001b[0mtime\u001b[0m \u001b[0msteps\u001b[0m \u001b[0mto\u001b[0m \u001b[0mtake\u001b[0m\u001b[1;33m\u001b[0m\u001b[1;33m\u001b[0m\u001b[0m\n\u001b[0;32m  13919\u001b[0m         \"\"\"\n\u001b[1;32m> 13920\u001b[1;33m         \u001b[1;32mreturn\u001b[0m \u001b[0m_openmm\u001b[0m\u001b[1;33m.\u001b[0m\u001b[0mLangevinMiddleIntegrator_step\u001b[0m\u001b[1;33m(\u001b[0m\u001b[0mself\u001b[0m\u001b[1;33m,\u001b[0m \u001b[0msteps\u001b[0m\u001b[1;33m)\u001b[0m\u001b[1;33m\u001b[0m\u001b[1;33m\u001b[0m\u001b[0m\n\u001b[0m",
      "\u001b[1;31mKeyboardInterrupt\u001b[0m: "
     ]
    }
   ],
   "source": [
    "# Simulate\n",
    "\n",
    "print('Simulating...')\n",
    "msdReporter = MSDReporter(100, simulation, dt)\n",
    "simulation.reporters.append(dcdReporter)\n",
    "simulation.reporters.append(dataReporter)\n",
    "simulation.reporters.append(msdReporter)\n",
    "simulation.currentStep = 0\n",
    "\n",
    "simulation.step(steps)\n",
    "\n",
    "print('done')\n",
    "df = pd.DataFrame(msdReporter.label)\n",
    "# linear_model = linregress(df['Time'], df['MSD'])\n",
    "# slope = linear_model.slope\n",
    "# D = slope / 6\n",
    "# print(D)\n",
    "df"
   ]
  },
  {
   "cell_type": "code",
   "execution_count": 10,
   "metadata": {},
   "outputs": [],
   "source": [
    "import matplotlib.pyplot as plt"
   ]
  },
  {
   "cell_type": "code",
   "execution_count": 12,
   "metadata": {},
   "outputs": [],
   "source": [
    "df=pd.DataFrame(msdReporter.label)"
   ]
  },
  {
   "cell_type": "code",
   "execution_count": 14,
   "metadata": {},
   "outputs": [
    {
     "data": {
      "text/plain": [
       "[<matplotlib.lines.Line2D at 0x1b750ecf520>]"
      ]
     },
     "execution_count": 14,
     "metadata": {},
     "output_type": "execute_result"
    },
    {
     "data": {
      "image/png": "[encoded data removed]",
      "text/plain": [
       "<Figure size 640x480 with 1 Axes>"
      ]
     },
     "metadata": {},
     "output_type": "display_data"
    }
   ],
   "source": [
    "plt.plot(df['Time'],df['MSD'])"
   ]
  }
 ],
 "metadata": {
  "kernelspec": {
   "display_name": "Python 3.10.13 ('MolModel')",
   "language": "python",
   "name": "python3"
  },
  "language_info": {
   "codemirror_mode": {
    "name": "ipython",
    "version": 3
   },
   "file_extension": ".py",
   "mimetype": "text/x-python",
   "name": "python",
   "nbconvert_exporter": "python",
   "pygments_lexer": "ipython3",
   "version": "3.10.13"
  },
  "orig_nbformat": 4,
  "vscode": {
   "interpreter": {
    "hash": "0c0cd37d546db45a4051ffc8993118703e2d48d926c0dcd391819f41c5b1181f"
   }
  }
 },
 "nbformat": 4,
 "nbformat_minor": 2
}

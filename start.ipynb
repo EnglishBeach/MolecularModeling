{
 "cells": [
  {
   "cell_type": "code",
   "execution_count": null,
   "metadata": {},
   "outputs": [],
   "source": [
    "import math\n",
    "import itertools\n",
    "import numpy as np\n",
    "import pandas as pd\n",
    "\n",
    "import matplotlib.pyplot as plt\n",
    "import rdkit as rd\n",
    "from rdkit import Chem\n",
    "\n",
    "from rdkit.Chem import Draw, PandasTools\n",
    "\n",
    "from rdkit.Chem import Descriptors,AllChem, rdChemReactions, rdDepictor\n",
    "from rdkit.Chem import rdRGroupDecomposition as r_decomp\n",
    "# %matplotlib qt"
   ]
  },
  {
   "cell_type": "code",
   "execution_count": null,
   "metadata": {},
   "outputs": [],
   "source": [
    "from openmm.app import *\n",
    "from openmm import *\n",
    "from openmm.unit import *\n",
    "from sys import stdout"
   ]
  },
  {
   "cell_type": "code",
   "execution_count": 2,
   "metadata": {},
   "outputs": [
    {
     "data": {
      "application/vnd.jupyter.widget-view+json": {
       "model_id": "e3c75b74913a45639443e3b0ac041c0b",
       "version_major": 2,
       "version_minor": 0
      },
      "text/plain": [
       "NGLWidget()"
      ]
     },
     "metadata": {},
     "output_type": "display_data"
    }
   ],
   "source": [
    "import nglview as nv\n",
    "\n",
    "view = nv.show_structure_file(nv.datafiles.PDB)\n",
    "view"
   ]
  },
  {
   "cell_type": "code",
   "execution_count": 3,
   "metadata": {},
   "outputs": [],
   "source": [
    "view.clear_representations()\n",
    "\n",
    "# add licorice without hydrogen\n",
    "view.add_licorice('not hydrogen')"
   ]
  },
  {
   "cell_type": "code",
   "execution_count": null,
   "metadata": {},
   "outputs": [],
   "source": [
    "'C1CCC(Br)C=C1C'\n",
    "'CC1CCCC(Br)C=1'\n",
    "'CC1=CC(Br)CCC1'\n",
    "Chem.MolFromSmarts('C=CC=C')"
   ]
  },
  {
   "cell_type": "markdown",
   "metadata": {},
   "source": [
    "# Viewer"
   ]
  },
  {
   "cell_type": "code",
   "execution_count": null,
   "metadata": {},
   "outputs": [],
   "source": [
    "import subprocess\n",
    "\n",
    "cmd = subprocess.Popen(['pymol', '-Rq'])"
   ]
  },
  {
   "cell_type": "code",
   "execution_count": null,
   "metadata": {},
   "outputs": [],
   "source": [
    "from rdkit import Chem\n",
    "from rdkit.Chem import AllChem\n",
    "from rdkit.Chem import Draw\n",
    "from rdkit.Chem.Draw import IPythonConsole\n",
    "from rdkit.Chem import PyMol\n",
    "from rdkit.Chem.Subshape import SubshapeAligner, SubshapeBuilder, SubshapeObjects\n",
    "# mols = [m for m in Chem.SDMolSupplier('cdk2.sdf')]\n",
    "# for m in mols:\n",
    "#     molid = m.GetProp('id')\n",
    "#     m.SetProp('_Name', molid) #_Name prop is required for align with shape-it\n",
    "\n",
    "# ref = Chem.Mol(mols[0].ToBinary())\n",
    "# probe = Chem.Mol(mols[1].ToBinary())\n",
    "# ref,probe = mol1,mol1\n",
    "# AllChem.CanonicalizeConformer(ref.GetConformer())\n",
    "builder = SubshapeBuilder.SubshapeBuilder()\n",
    "# builder.gridDims = (20.,20.,10)\n",
    "# builder.gridSpacing=0.5\n",
    "# builder.winRad = 4.\n",
    "# refShape = builder.GenerateSubshapeShape(mol1)\n",
    "# probeShape = builder.GenerateSubshapeShape(probe)\n",
    "\n",
    "# aligner = SubshapeAligner.SubshapeAligner()\n",
    "# algs = aligner.GetSubshapeAlignments(ref, refShape, probe, probeShape, builder)\n",
    "\n",
    "# alg = algs[0]\n",
    "# AllChem.TransformMol(probe, alg.transform)\n",
    "# newprobeShape = builder(probe)\n",
    "\n",
    "v = PyMol.MolViewer()\n",
    "v.ShowMol(mol1, name='ref')\n",
    "# SubshapeObjects.DisplaySubshape(v, refShape, 'ref_Shape')\n",
    "v.server.do('set transparency=0.5')\n",
    "# v.ShowMol(probe, name='probe', showOnly=False)\n",
    "# SubshapeObjects.DisplaySubshape(v, newprobeShape, 'prob_Shape')\n",
    "# v.server.do('set transparency=0.5')\n",
    "\n",
    "v.GetPNG()"
   ]
  },
  {
   "cell_type": "markdown",
   "metadata": {},
   "source": [
    "# Start"
   ]
  },
  {
   "cell_type": "code",
   "execution_count": null,
   "metadata": {},
   "outputs": [],
   "source": [
    "smiles_list = [\n",
    "    'C(C(=O)O)N',\n",
    "    'N[C@@H](CC1=CC=CC=C1)C(O)=O',\n",
    "    'O=C([C@H](CC1=CNC=N1)N)O',\n",
    "    'C([C@@H](C(=O)O)N)S'\n",
    "]\n",
    "mol_list = []\n",
    "#print them out:\n",
    "for smiles in smiles_list:\n",
    "    mol = Chem.MolFromSmiles(smiles)\n",
    "    mol_list.append(mol)\n",
    "#show all at once\n",
    "img = Draw.MolsToGridImage(mol_list, molsPerRow=4)\n",
    "img"
   ]
  },
  {
   "cell_type": "code",
   "execution_count": null,
   "metadata": {},
   "outputs": [],
   "source": [
    "pattern = Chem.MolFromSmiles('N')\n",
    "\n",
    "for mol in mol_list:\n",
    "    print(mol.HasSubstructMatch(pattern))\n"
   ]
  },
  {
   "cell_type": "code",
   "execution_count": null,
   "metadata": {},
   "outputs": [],
   "source": [
    "glycine = Chem.MolFromSmiles('C(C(=O)O)N')\n",
    "fp = AllChem.GetMorganFingerprintAsBitVect(glycine, 2, nBits=1024)\n",
    "#currently, it's a long list of 0s and 1s.\n",
    "fp_arr = np.zeros((1, ))\n",
    "Chem.DataStructs.ConvertToNumpyArray(fp, fp_arr)\n",
    "np.nonzero(fp_arr)"
   ]
  },
  {
   "cell_type": "code",
   "execution_count": null,
   "metadata": {},
   "outputs": [],
   "source": [
    "bi = {}\n",
    "#want bitInfo to put in the dictionary\n",
    "fp = AllChem.GetMorganFingerprintAsBitVect(glycine, 2, nBits=1024, bitInfo=bi)\n",
    "fp_arr = np.zeros((1, ))\n",
    "Chem.DataStructs.ConvertToNumpyArray(fp, fp_arr)\n",
    "np.nonzero(fp_arr)\n",
    "\n",
    "prints = [(glycine, x, bi) for x in fp.GetOnBits()]\n",
    "Draw.DrawMorganBits(prints,\n",
    "                    molsPerRow=4,\n",
    "                    legends=[str(x) for x in fp.GetOnBits()])\n"
   ]
  },
  {
   "cell_type": "code",
   "execution_count": null,
   "metadata": {},
   "outputs": [],
   "source": [
    "df = pd.read_csv('amino_acids.smiles', sep='|', header=0)\n",
    "df['mol'] = df['smiles'].apply(Chem.MolFromSmiles)\n",
    "df[['name', 'mol']].apply(\n",
    "    lambda row: (row['name'], row['mol'].SetProp('_Name', row['name'])),\n",
    "    axis='columns',\n",
    ")\n",
    "df.loc[0], df.loc[7] = df.loc[7], df.loc[0]\n",
    "df.head()"
   ]
  },
  {
   "cell_type": "code",
   "execution_count": null,
   "metadata": {},
   "outputs": [],
   "source": [
    "print(Chem.MolToMolBlock(df['mol'].loc[0]))"
   ]
  },
  {
   "cell_type": "code",
   "execution_count": null,
   "metadata": {},
   "outputs": [],
   "source": [
    "Draw.MolsToGridImage(mols=df['mol'], subImgSize=(400, 90))"
   ]
  },
  {
   "cell_type": "markdown",
   "metadata": {},
   "source": [
    "# Decomposition"
   ]
  },
  {
   "cell_type": "code",
   "execution_count": null,
   "metadata": {},
   "outputs": [],
   "source": [
    "core = Chem.MolFromSmiles('NCC(=O)O')\n",
    "core2 = Chem.MolFromSmiles('[*:1][C@H](N[*:2])C(O)=O')"
   ]
  },
  {
   "cell_type": "code",
   "execution_count": null,
   "metadata": {},
   "outputs": [],
   "source": [
    "plt.imshow(Draw.MolToImage(core))"
   ]
  },
  {
   "cell_type": "code",
   "execution_count": null,
   "metadata": {},
   "outputs": [],
   "source": [
    "r_decomp.RGroupDecompositionParameters().onlyMatchAtRGroups = True\n",
    "res, fails = r_decomp.RGroupDecompose([core], df['mol'], asRows=False)\n",
    "\n",
    "PandasTools.RGroupDecompositionToFrame(\n",
    "    res,\n",
    "    [df['mol'][i] for i in range(len(df['mol'])) if i not in fails],\n",
    ")"
   ]
  },
  {
   "cell_type": "markdown",
   "metadata": {},
   "source": [
    "# Find bonds"
   ]
  },
  {
   "cell_type": "code",
   "execution_count": null,
   "metadata": {},
   "outputs": [],
   "source": [
    "test = Chem.MolFromSmiles(\n",
    "    '[H]N[C@@H]([C@@H](C)O)C(=O)N[C@@H](CCCNC(N)=N)C(=O)N[C@@H](CCSC)C(O)=O')\n",
    "test"
   ]
  },
  {
   "cell_type": "code",
   "execution_count": null,
   "metadata": {},
   "outputs": [],
   "source": [
    "core_bonds = Chem.MolFromSmarts('NCC(=O)NCC(=O)')\n",
    "core_bonds"
   ]
  },
  {
   "cell_type": "code",
   "execution_count": null,
   "metadata": {},
   "outputs": [],
   "source": [
    "# generate coordinates and orient canonically\n",
    "rdDepictor.SetPreferCoordGen(True)\n",
    "rdDepictor.Compute2DCoords(test)\n",
    "\n",
    "# matching atoms\n",
    "hit_atoms = test.GetSubstructMatches(core_bonds)\n",
    "hit_atoms = list(itertools.chain(*hit_atoms))\n",
    "\n",
    "# matching bonds, annotate the peptide bond\n",
    "hit_bonds = []\n",
    "for bond in test.GetBonds():\n",
    "    aid1 = bond.GetBeginAtomIdx()\n",
    "    aid2 = bond.GetEndAtomIdx()\n",
    "    if aid1 in hit_atoms and aid2 in hit_atoms:\n",
    "        hit_bonds.append(bond.GetIdx())\n",
    "\n",
    "Draw.MolToImage(\n",
    "    test,\n",
    "    highlightAtoms=hit_atoms,\n",
    "    highlightBonds=hit_bonds,\n",
    ")\n"
   ]
  },
  {
   "cell_type": "code",
   "execution_count": null,
   "metadata": {},
   "outputs": [],
   "source": [
    "reaction = rdChemReactions.ReactionFromSmarts(\n",
    "    '[N:1][C:2][C:3](=[O:4])[N:5][C:6][C:7](=[O:8])>>[N:1][C:2][C:3](=[O:4])O.[N:5][C:6][C:7](=[O:8])'\n",
    ")\n",
    "reaction"
   ]
  },
  {
   "cell_type": "code",
   "execution_count": null,
   "metadata": {},
   "outputs": [],
   "source": [
    "reactants = [test]"
   ]
  },
  {
   "cell_type": "code",
   "execution_count": null,
   "metadata": {},
   "outputs": [],
   "source": [
    "products = reaction.RunReactants(reactants,maxProducts=100)[0]"
   ]
  },
  {
   "cell_type": "code",
   "execution_count": null,
   "metadata": {},
   "outputs": [],
   "source": [
    "plt.imshow(Draw.MolToImage(products[1]))"
   ]
  },
  {
   "cell_type": "code",
   "execution_count": null,
   "metadata": {},
   "outputs": [],
   "source": [
    "# Check pepdides\n",
    "def check_identity(mol1, mol2):\n",
    "    return all([\n",
    "        mol1.HasSubstructMatch(mol2, useChirality=True),\n",
    "        mol2.HasSubstructMatch(mol1, useChirality=True)\n",
    "    ])\n",
    "\n",
    "\n",
    "def check_if_in_list(mol, mols):\n",
    "    for mol_ in mols:\n",
    "        if check_identity(mol, mol_):\n",
    "            return True\n",
    "    else:\n",
    "        return False\n",
    "\n",
    "\n",
    "def is_peptide(mol, known_amino_acids, reaction):\n",
    "    # print(f'processing structure {Chem.MolToSmiles(mol)}')\n",
    "\n",
    "    if check_if_in_list(mol, known_amino_acids):\n",
    "        # print(f'structure {Chem.MolToSmiles(mol)}: amino acid')\n",
    "        return True\n",
    "\n",
    "    reacts = (mol, )\n",
    "    products = reaction.RunReactants(reacts, maxProducts=1)\n",
    "\n",
    "    if not products:\n",
    "        # print('peptide bond hydrolysis could not be applied')\n",
    "        return False\n",
    "\n",
    "    else:\n",
    "        mol1 = products[0][0]\n",
    "        Chem.SanitizeMol(mol1)\n",
    "        mol2 = products[0][1]\n",
    "        Chem.SanitizeMol(mol2)\n",
    "        # print(\n",
    "        #     f'applied hydrolysis reaction: {Chem.MolToSmiles(mol)} -> {Chem.MolToSmiles(mol1)} + {Chem.MolToSmiles(mol2)}'\n",
    "        # )\n",
    "\n",
    "        return all([\n",
    "            is_peptide(mol1, known_amino_acids, reaction),\n",
    "            is_peptide(mol2, known_amino_acids, reaction)\n",
    "        ])\n"
   ]
  },
  {
   "cell_type": "code",
   "execution_count": null,
   "metadata": {},
   "outputs": [],
   "source": [
    "# 5 amino acids\n",
    "structures = df[['name', 'mol']].assign(type='amino acid').iloc[:5]\n",
    "\n",
    "# di-peptide: ArgAla\n",
    "smi = '[H]N[C@@H](CCCNC(N)=N)C(=O)N[C@@H](C)C(O)=O'\n",
    "mol1 = Chem.MolFromSmiles(smi)\n",
    "mol1 = pd.Series({\n",
    "    'name': 'ArgAla', 'mol': mol1, 'type': 'non-peptide'\n",
    "}).to_frame().T\n",
    "\n",
    "# oligo-peptide: ArgAlaThreMeth\n",
    "smi = '[H]N[C@@H](CCCNC(N)=N)C(=O)N[C@@H](C)C(=O)N[C@@H]([C@@H](C)O)C(=O)N[C@@H](CCSC)C(O)=O'\n",
    "mol2 = Chem.MolFromSmiles(smi)\n",
    "mol2 = pd.Series({\n",
    "    'name': 'ArgAlaThreMeth', 'mol': mol2, 'type': 'non-peptide'\n",
    "}).to_frame().T\n",
    "\n",
    "# longer-peptide: ATTAMSSTA\n",
    "smi = 'CSCC[C@H](NC(=O)[C@H](C)NC(=O)[C@@H](NC(=O)[C@@H](NC(=O)[C@H](C)N)[C@@H](C)O)' \\\n",
    "      '[C@@H](C)O)C(=O)N[C@@H](CO)C(=O)N[C@@H](CO)C(=O)N[C@@H]([C@@H](C)O)C(=O)N[C@@H](C)C(O)=O'\n",
    "mol3 = Chem.MolFromSmiles(smi)\n",
    "mol3= pd.Series({\n",
    "    'name': 'ATTAMSSTA', 'mol': mol3, 'type': 'non-peptide'\n",
    "}).to_frame().T\n",
    "\n",
    "# non-peptide 1\n",
    "smi = '[H]N[C@@H](CCCNC(N)=N)C(=O)N[C@@H](C)C(O)'\n",
    "mol4 = Chem.MolFromSmiles(smi)\n",
    "mol4 = pd.Series({\n",
    "    'name': 'non-peptide 1', 'mol': mol4, 'type': 'non-peptide'\n",
    "}).to_frame().T\n",
    "\n",
    "# non-peptide 2\n",
    "smi = '[H]N[C@@H](CCCNC(N)=N)CC(=O)N[C@@H](C)C(O)=O'\n",
    "mol5 = Chem.MolFromSmiles(smi)\n",
    "mol5 = pd.Series({\n",
    "    'name': 'non-peptide 2', 'mol': mol5, 'type': 'non-peptide'\n",
    "}).to_frame().T\n",
    "\n",
    "structures = pd.concat(\n",
    "    [\n",
    "        structures,mol1,mol2,mol3,mol4,mol5\n",
    "    ],\n",
    "    axis='index',\n",
    "    ignore_index=True,\n",
    "    sort=False,\n",
    ")\n",
    "\n",
    "\n",
    "structures['result'] = structures['mol'].apply(lambda mol: is_peptide(\n",
    "    mol,\n",
    "    known_amino_acids=df['mol'].to_list(),\n",
    "    reaction=reaction,\n",
    "))\n",
    "structures"
   ]
  },
  {
   "cell_type": "code",
   "execution_count": null,
   "metadata": {},
   "outputs": [],
   "source": [
    "import openmm"
   ]
  }
 ],
 "metadata": {
  "kernelspec": {
   "display_name": "Python 3.10.13 ('MolModel')",
   "language": "python",
   "name": "python3"
  },
  "language_info": {
   "codemirror_mode": {
    "name": "ipython",
    "version": 3
   },
   "file_extension": ".py",
   "mimetype": "text/x-python",
   "name": "python",
   "nbconvert_exporter": "python",
   "pygments_lexer": "ipython3",
   "version": "3.10.13"
  },
  "orig_nbformat": 4,
  "vscode": {
   "interpreter": {
    "hash": "0c0cd37d546db45a4051ffc8993118703e2d48d926c0dcd391819f41c5b1181f"
   }
  }
 },
 "nbformat": 4,
 "nbformat_minor": 2
}
